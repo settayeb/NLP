{
  "nbformat": 4,
  "nbformat_minor": 0,
  "metadata": {
    "colab": {
      "name": "NLP.ipynb",
      "provenance": [],
      "collapsed_sections": [
        "8tBBuIXCH46z",
        "EvqvTgmAMVF1",
        "SFVz1HUo0xLj",
        "c1z5sFgfAioB",
        "U1ylkDi1ll9V",
        "LjpGam34lrck",
        "o2yBxaknT4hs",
        "xOVY_XeMjdfI",
        "OR7w82t8uv81",
        "RPIpzA1renAb",
        "eHLFxKfA6bsB",
        "w4H2vU_CUYCj",
        "xsjiFF3JZ8ca",
        "o3dLD4e9XRFL",
        "9ZwRkZDcc06w",
        "2HBpJHlCdfKg",
        "Z3ufM6TgmUOY",
        "TY5_NOKK_p-q",
        "wLKbgziFBptE",
        "-EzdUXOuCGWl",
        "Es7rZDa_G7bJ"
      ],
      "toc_visible": true
    },
    "kernelspec": {
      "name": "python3",
      "display_name": "Python 3"
    },
    "language_info": {
      "name": "python"
    },
    "widgets": {
      "application/vnd.jupyter.widget-state+json": {
        "0676f805c7e54e209c686a08852ae855": {
          "model_module": "@jupyter-widgets/controls",
          "model_name": "HBoxModel",
          "state": {
            "_view_name": "HBoxView",
            "_dom_classes": [],
            "_model_name": "HBoxModel",
            "_view_module": "@jupyter-widgets/controls",
            "_model_module_version": "1.5.0",
            "_view_count": null,
            "_view_module_version": "1.5.0",
            "box_style": "",
            "layout": "IPY_MODEL_52ad8cfe08394edabfbd6d424d3a5765",
            "_model_module": "@jupyter-widgets/controls",
            "children": [
              "IPY_MODEL_fb711ba3d4d64c4296fa4cb11e783a79",
              "IPY_MODEL_789e8882e0034c8294fbd3f7b8ce33e7"
            ]
          }
        },
        "52ad8cfe08394edabfbd6d424d3a5765": {
          "model_module": "@jupyter-widgets/base",
          "model_name": "LayoutModel",
          "state": {
            "_view_name": "LayoutView",
            "grid_template_rows": null,
            "right": null,
            "justify_content": null,
            "_view_module": "@jupyter-widgets/base",
            "overflow": null,
            "_model_module_version": "1.2.0",
            "_view_count": null,
            "flex_flow": null,
            "width": null,
            "min_width": null,
            "border": null,
            "align_items": null,
            "bottom": null,
            "_model_module": "@jupyter-widgets/base",
            "top": null,
            "grid_column": null,
            "overflow_y": null,
            "overflow_x": null,
            "grid_auto_flow": null,
            "grid_area": null,
            "grid_template_columns": null,
            "flex": null,
            "_model_name": "LayoutModel",
            "justify_items": null,
            "grid_row": null,
            "max_height": null,
            "align_content": null,
            "visibility": null,
            "align_self": null,
            "height": null,
            "min_height": null,
            "padding": null,
            "grid_auto_rows": null,
            "grid_gap": null,
            "max_width": null,
            "order": null,
            "_view_module_version": "1.2.0",
            "grid_template_areas": null,
            "object_position": null,
            "object_fit": null,
            "grid_auto_columns": null,
            "margin": null,
            "display": null,
            "left": null
          }
        },
        "fb711ba3d4d64c4296fa4cb11e783a79": {
          "model_module": "@jupyter-widgets/controls",
          "model_name": "FloatProgressModel",
          "state": {
            "_view_name": "ProgressView",
            "style": "IPY_MODEL_e87b89633ff84790a5b8d32759860b1b",
            "_dom_classes": [],
            "description": "Downloading: 100%",
            "_model_name": "FloatProgressModel",
            "bar_style": "success",
            "max": 231508,
            "_view_module": "@jupyter-widgets/controls",
            "_model_module_version": "1.5.0",
            "value": 231508,
            "_view_count": null,
            "_view_module_version": "1.5.0",
            "orientation": "horizontal",
            "min": 0,
            "description_tooltip": null,
            "_model_module": "@jupyter-widgets/controls",
            "layout": "IPY_MODEL_588fc563c1ac42e1af7b3c02c7c7ba99"
          }
        },
        "789e8882e0034c8294fbd3f7b8ce33e7": {
          "model_module": "@jupyter-widgets/controls",
          "model_name": "HTMLModel",
          "state": {
            "_view_name": "HTMLView",
            "style": "IPY_MODEL_f198c9b4a00b4fdfa640285ce2be4f1e",
            "_dom_classes": [],
            "description": "",
            "_model_name": "HTMLModel",
            "placeholder": "​",
            "_view_module": "@jupyter-widgets/controls",
            "_model_module_version": "1.5.0",
            "value": " 232k/232k [00:01&lt;00:00, 128kB/s]",
            "_view_count": null,
            "_view_module_version": "1.5.0",
            "description_tooltip": null,
            "_model_module": "@jupyter-widgets/controls",
            "layout": "IPY_MODEL_79572ffd110e42529113608f2b09380e"
          }
        },
        "e87b89633ff84790a5b8d32759860b1b": {
          "model_module": "@jupyter-widgets/controls",
          "model_name": "ProgressStyleModel",
          "state": {
            "_view_name": "StyleView",
            "_model_name": "ProgressStyleModel",
            "description_width": "initial",
            "_view_module": "@jupyter-widgets/base",
            "_model_module_version": "1.5.0",
            "_view_count": null,
            "_view_module_version": "1.2.0",
            "bar_color": null,
            "_model_module": "@jupyter-widgets/controls"
          }
        },
        "588fc563c1ac42e1af7b3c02c7c7ba99": {
          "model_module": "@jupyter-widgets/base",
          "model_name": "LayoutModel",
          "state": {
            "_view_name": "LayoutView",
            "grid_template_rows": null,
            "right": null,
            "justify_content": null,
            "_view_module": "@jupyter-widgets/base",
            "overflow": null,
            "_model_module_version": "1.2.0",
            "_view_count": null,
            "flex_flow": null,
            "width": null,
            "min_width": null,
            "border": null,
            "align_items": null,
            "bottom": null,
            "_model_module": "@jupyter-widgets/base",
            "top": null,
            "grid_column": null,
            "overflow_y": null,
            "overflow_x": null,
            "grid_auto_flow": null,
            "grid_area": null,
            "grid_template_columns": null,
            "flex": null,
            "_model_name": "LayoutModel",
            "justify_items": null,
            "grid_row": null,
            "max_height": null,
            "align_content": null,
            "visibility": null,
            "align_self": null,
            "height": null,
            "min_height": null,
            "padding": null,
            "grid_auto_rows": null,
            "grid_gap": null,
            "max_width": null,
            "order": null,
            "_view_module_version": "1.2.0",
            "grid_template_areas": null,
            "object_position": null,
            "object_fit": null,
            "grid_auto_columns": null,
            "margin": null,
            "display": null,
            "left": null
          }
        },
        "f198c9b4a00b4fdfa640285ce2be4f1e": {
          "model_module": "@jupyter-widgets/controls",
          "model_name": "DescriptionStyleModel",
          "state": {
            "_view_name": "StyleView",
            "_model_name": "DescriptionStyleModel",
            "description_width": "",
            "_view_module": "@jupyter-widgets/base",
            "_model_module_version": "1.5.0",
            "_view_count": null,
            "_view_module_version": "1.2.0",
            "_model_module": "@jupyter-widgets/controls"
          }
        },
        "79572ffd110e42529113608f2b09380e": {
          "model_module": "@jupyter-widgets/base",
          "model_name": "LayoutModel",
          "state": {
            "_view_name": "LayoutView",
            "grid_template_rows": null,
            "right": null,
            "justify_content": null,
            "_view_module": "@jupyter-widgets/base",
            "overflow": null,
            "_model_module_version": "1.2.0",
            "_view_count": null,
            "flex_flow": null,
            "width": null,
            "min_width": null,
            "border": null,
            "align_items": null,
            "bottom": null,
            "_model_module": "@jupyter-widgets/base",
            "top": null,
            "grid_column": null,
            "overflow_y": null,
            "overflow_x": null,
            "grid_auto_flow": null,
            "grid_area": null,
            "grid_template_columns": null,
            "flex": null,
            "_model_name": "LayoutModel",
            "justify_items": null,
            "grid_row": null,
            "max_height": null,
            "align_content": null,
            "visibility": null,
            "align_self": null,
            "height": null,
            "min_height": null,
            "padding": null,
            "grid_auto_rows": null,
            "grid_gap": null,
            "max_width": null,
            "order": null,
            "_view_module_version": "1.2.0",
            "grid_template_areas": null,
            "object_position": null,
            "object_fit": null,
            "grid_auto_columns": null,
            "margin": null,
            "display": null,
            "left": null
          }
        },
        "211da7a12deb441a9aa7bd7a91760d57": {
          "model_module": "@jupyter-widgets/controls",
          "model_name": "HBoxModel",
          "state": {
            "_view_name": "HBoxView",
            "_dom_classes": [],
            "_model_name": "HBoxModel",
            "_view_module": "@jupyter-widgets/controls",
            "_model_module_version": "1.5.0",
            "_view_count": null,
            "_view_module_version": "1.5.0",
            "box_style": "",
            "layout": "IPY_MODEL_8920d4b1a117405d84c317f1c2e2c823",
            "_model_module": "@jupyter-widgets/controls",
            "children": [
              "IPY_MODEL_a2c8cc9a3bef464dae0ba5ad94d89747",
              "IPY_MODEL_323285f992bf42db8f86dd1c116bd629"
            ]
          }
        },
        "8920d4b1a117405d84c317f1c2e2c823": {
          "model_module": "@jupyter-widgets/base",
          "model_name": "LayoutModel",
          "state": {
            "_view_name": "LayoutView",
            "grid_template_rows": null,
            "right": null,
            "justify_content": null,
            "_view_module": "@jupyter-widgets/base",
            "overflow": null,
            "_model_module_version": "1.2.0",
            "_view_count": null,
            "flex_flow": null,
            "width": null,
            "min_width": null,
            "border": null,
            "align_items": null,
            "bottom": null,
            "_model_module": "@jupyter-widgets/base",
            "top": null,
            "grid_column": null,
            "overflow_y": null,
            "overflow_x": null,
            "grid_auto_flow": null,
            "grid_area": null,
            "grid_template_columns": null,
            "flex": null,
            "_model_name": "LayoutModel",
            "justify_items": null,
            "grid_row": null,
            "max_height": null,
            "align_content": null,
            "visibility": null,
            "align_self": null,
            "height": null,
            "min_height": null,
            "padding": null,
            "grid_auto_rows": null,
            "grid_gap": null,
            "max_width": null,
            "order": null,
            "_view_module_version": "1.2.0",
            "grid_template_areas": null,
            "object_position": null,
            "object_fit": null,
            "grid_auto_columns": null,
            "margin": null,
            "display": null,
            "left": null
          }
        },
        "a2c8cc9a3bef464dae0ba5ad94d89747": {
          "model_module": "@jupyter-widgets/controls",
          "model_name": "FloatProgressModel",
          "state": {
            "_view_name": "ProgressView",
            "style": "IPY_MODEL_f9134ccd2d8f45ff90830add8ec35a80",
            "_dom_classes": [],
            "description": "Downloading: 100%",
            "_model_name": "FloatProgressModel",
            "bar_style": "success",
            "max": 466062,
            "_view_module": "@jupyter-widgets/controls",
            "_model_module_version": "1.5.0",
            "value": 466062,
            "_view_count": null,
            "_view_module_version": "1.5.0",
            "orientation": "horizontal",
            "min": 0,
            "description_tooltip": null,
            "_model_module": "@jupyter-widgets/controls",
            "layout": "IPY_MODEL_f72005cc8a39422781440e58125db82c"
          }
        },
        "323285f992bf42db8f86dd1c116bd629": {
          "model_module": "@jupyter-widgets/controls",
          "model_name": "HTMLModel",
          "state": {
            "_view_name": "HTMLView",
            "style": "IPY_MODEL_9424bc29f22041fd8e95aec97165d2d8",
            "_dom_classes": [],
            "description": "",
            "_model_name": "HTMLModel",
            "placeholder": "​",
            "_view_module": "@jupyter-widgets/controls",
            "_model_module_version": "1.5.0",
            "value": " 466k/466k [00:01&lt;00:00, 414kB/s]",
            "_view_count": null,
            "_view_module_version": "1.5.0",
            "description_tooltip": null,
            "_model_module": "@jupyter-widgets/controls",
            "layout": "IPY_MODEL_8f89f73884fa4e7691d68a3065842ac8"
          }
        },
        "f9134ccd2d8f45ff90830add8ec35a80": {
          "model_module": "@jupyter-widgets/controls",
          "model_name": "ProgressStyleModel",
          "state": {
            "_view_name": "StyleView",
            "_model_name": "ProgressStyleModel",
            "description_width": "initial",
            "_view_module": "@jupyter-widgets/base",
            "_model_module_version": "1.5.0",
            "_view_count": null,
            "_view_module_version": "1.2.0",
            "bar_color": null,
            "_model_module": "@jupyter-widgets/controls"
          }
        },
        "f72005cc8a39422781440e58125db82c": {
          "model_module": "@jupyter-widgets/base",
          "model_name": "LayoutModel",
          "state": {
            "_view_name": "LayoutView",
            "grid_template_rows": null,
            "right": null,
            "justify_content": null,
            "_view_module": "@jupyter-widgets/base",
            "overflow": null,
            "_model_module_version": "1.2.0",
            "_view_count": null,
            "flex_flow": null,
            "width": null,
            "min_width": null,
            "border": null,
            "align_items": null,
            "bottom": null,
            "_model_module": "@jupyter-widgets/base",
            "top": null,
            "grid_column": null,
            "overflow_y": null,
            "overflow_x": null,
            "grid_auto_flow": null,
            "grid_area": null,
            "grid_template_columns": null,
            "flex": null,
            "_model_name": "LayoutModel",
            "justify_items": null,
            "grid_row": null,
            "max_height": null,
            "align_content": null,
            "visibility": null,
            "align_self": null,
            "height": null,
            "min_height": null,
            "padding": null,
            "grid_auto_rows": null,
            "grid_gap": null,
            "max_width": null,
            "order": null,
            "_view_module_version": "1.2.0",
            "grid_template_areas": null,
            "object_position": null,
            "object_fit": null,
            "grid_auto_columns": null,
            "margin": null,
            "display": null,
            "left": null
          }
        },
        "9424bc29f22041fd8e95aec97165d2d8": {
          "model_module": "@jupyter-widgets/controls",
          "model_name": "DescriptionStyleModel",
          "state": {
            "_view_name": "StyleView",
            "_model_name": "DescriptionStyleModel",
            "description_width": "",
            "_view_module": "@jupyter-widgets/base",
            "_model_module_version": "1.5.0",
            "_view_count": null,
            "_view_module_version": "1.2.0",
            "_model_module": "@jupyter-widgets/controls"
          }
        },
        "8f89f73884fa4e7691d68a3065842ac8": {
          "model_module": "@jupyter-widgets/base",
          "model_name": "LayoutModel",
          "state": {
            "_view_name": "LayoutView",
            "grid_template_rows": null,
            "right": null,
            "justify_content": null,
            "_view_module": "@jupyter-widgets/base",
            "overflow": null,
            "_model_module_version": "1.2.0",
            "_view_count": null,
            "flex_flow": null,
            "width": null,
            "min_width": null,
            "border": null,
            "align_items": null,
            "bottom": null,
            "_model_module": "@jupyter-widgets/base",
            "top": null,
            "grid_column": null,
            "overflow_y": null,
            "overflow_x": null,
            "grid_auto_flow": null,
            "grid_area": null,
            "grid_template_columns": null,
            "flex": null,
            "_model_name": "LayoutModel",
            "justify_items": null,
            "grid_row": null,
            "max_height": null,
            "align_content": null,
            "visibility": null,
            "align_self": null,
            "height": null,
            "min_height": null,
            "padding": null,
            "grid_auto_rows": null,
            "grid_gap": null,
            "max_width": null,
            "order": null,
            "_view_module_version": "1.2.0",
            "grid_template_areas": null,
            "object_position": null,
            "object_fit": null,
            "grid_auto_columns": null,
            "margin": null,
            "display": null,
            "left": null
          }
        },
        "ca44d11214bf45208cf4cecf8b6d7636": {
          "model_module": "@jupyter-widgets/controls",
          "model_name": "HBoxModel",
          "state": {
            "_view_name": "HBoxView",
            "_dom_classes": [],
            "_model_name": "HBoxModel",
            "_view_module": "@jupyter-widgets/controls",
            "_model_module_version": "1.5.0",
            "_view_count": null,
            "_view_module_version": "1.5.0",
            "box_style": "",
            "layout": "IPY_MODEL_52dc40f9dc904cc99e643bb9821b4e14",
            "_model_module": "@jupyter-widgets/controls",
            "children": [
              "IPY_MODEL_244285dd55c54dba86b25ff284f7d8e4",
              "IPY_MODEL_f899ad124a9c48798fad51fa34022d11"
            ]
          }
        },
        "52dc40f9dc904cc99e643bb9821b4e14": {
          "model_module": "@jupyter-widgets/base",
          "model_name": "LayoutModel",
          "state": {
            "_view_name": "LayoutView",
            "grid_template_rows": null,
            "right": null,
            "justify_content": null,
            "_view_module": "@jupyter-widgets/base",
            "overflow": null,
            "_model_module_version": "1.2.0",
            "_view_count": null,
            "flex_flow": null,
            "width": null,
            "min_width": null,
            "border": null,
            "align_items": null,
            "bottom": null,
            "_model_module": "@jupyter-widgets/base",
            "top": null,
            "grid_column": null,
            "overflow_y": null,
            "overflow_x": null,
            "grid_auto_flow": null,
            "grid_area": null,
            "grid_template_columns": null,
            "flex": null,
            "_model_name": "LayoutModel",
            "justify_items": null,
            "grid_row": null,
            "max_height": null,
            "align_content": null,
            "visibility": null,
            "align_self": null,
            "height": null,
            "min_height": null,
            "padding": null,
            "grid_auto_rows": null,
            "grid_gap": null,
            "max_width": null,
            "order": null,
            "_view_module_version": "1.2.0",
            "grid_template_areas": null,
            "object_position": null,
            "object_fit": null,
            "grid_auto_columns": null,
            "margin": null,
            "display": null,
            "left": null
          }
        },
        "244285dd55c54dba86b25ff284f7d8e4": {
          "model_module": "@jupyter-widgets/controls",
          "model_name": "FloatProgressModel",
          "state": {
            "_view_name": "ProgressView",
            "style": "IPY_MODEL_d8485a28dcd94478902b319bc45693cf",
            "_dom_classes": [],
            "description": "Downloading: 100%",
            "_model_name": "FloatProgressModel",
            "bar_style": "success",
            "max": 28,
            "_view_module": "@jupyter-widgets/controls",
            "_model_module_version": "1.5.0",
            "value": 28,
            "_view_count": null,
            "_view_module_version": "1.5.0",
            "orientation": "horizontal",
            "min": 0,
            "description_tooltip": null,
            "_model_module": "@jupyter-widgets/controls",
            "layout": "IPY_MODEL_b010c0aef94a4e179f7d01d96e3620dc"
          }
        },
        "f899ad124a9c48798fad51fa34022d11": {
          "model_module": "@jupyter-widgets/controls",
          "model_name": "HTMLModel",
          "state": {
            "_view_name": "HTMLView",
            "style": "IPY_MODEL_ccea8c9d9ccb4dd7a158183d97b1ae13",
            "_dom_classes": [],
            "description": "",
            "_model_name": "HTMLModel",
            "placeholder": "​",
            "_view_module": "@jupyter-widgets/controls",
            "_model_module_version": "1.5.0",
            "value": " 28.0/28.0 [00:14&lt;00:00, 1.98B/s]",
            "_view_count": null,
            "_view_module_version": "1.5.0",
            "description_tooltip": null,
            "_model_module": "@jupyter-widgets/controls",
            "layout": "IPY_MODEL_d6d2be1ae96a4594937807f94773d7f9"
          }
        },
        "d8485a28dcd94478902b319bc45693cf": {
          "model_module": "@jupyter-widgets/controls",
          "model_name": "ProgressStyleModel",
          "state": {
            "_view_name": "StyleView",
            "_model_name": "ProgressStyleModel",
            "description_width": "initial",
            "_view_module": "@jupyter-widgets/base",
            "_model_module_version": "1.5.0",
            "_view_count": null,
            "_view_module_version": "1.2.0",
            "bar_color": null,
            "_model_module": "@jupyter-widgets/controls"
          }
        },
        "b010c0aef94a4e179f7d01d96e3620dc": {
          "model_module": "@jupyter-widgets/base",
          "model_name": "LayoutModel",
          "state": {
            "_view_name": "LayoutView",
            "grid_template_rows": null,
            "right": null,
            "justify_content": null,
            "_view_module": "@jupyter-widgets/base",
            "overflow": null,
            "_model_module_version": "1.2.0",
            "_view_count": null,
            "flex_flow": null,
            "width": null,
            "min_width": null,
            "border": null,
            "align_items": null,
            "bottom": null,
            "_model_module": "@jupyter-widgets/base",
            "top": null,
            "grid_column": null,
            "overflow_y": null,
            "overflow_x": null,
            "grid_auto_flow": null,
            "grid_area": null,
            "grid_template_columns": null,
            "flex": null,
            "_model_name": "LayoutModel",
            "justify_items": null,
            "grid_row": null,
            "max_height": null,
            "align_content": null,
            "visibility": null,
            "align_self": null,
            "height": null,
            "min_height": null,
            "padding": null,
            "grid_auto_rows": null,
            "grid_gap": null,
            "max_width": null,
            "order": null,
            "_view_module_version": "1.2.0",
            "grid_template_areas": null,
            "object_position": null,
            "object_fit": null,
            "grid_auto_columns": null,
            "margin": null,
            "display": null,
            "left": null
          }
        },
        "ccea8c9d9ccb4dd7a158183d97b1ae13": {
          "model_module": "@jupyter-widgets/controls",
          "model_name": "DescriptionStyleModel",
          "state": {
            "_view_name": "StyleView",
            "_model_name": "DescriptionStyleModel",
            "description_width": "",
            "_view_module": "@jupyter-widgets/base",
            "_model_module_version": "1.5.0",
            "_view_count": null,
            "_view_module_version": "1.2.0",
            "_model_module": "@jupyter-widgets/controls"
          }
        },
        "d6d2be1ae96a4594937807f94773d7f9": {
          "model_module": "@jupyter-widgets/base",
          "model_name": "LayoutModel",
          "state": {
            "_view_name": "LayoutView",
            "grid_template_rows": null,
            "right": null,
            "justify_content": null,
            "_view_module": "@jupyter-widgets/base",
            "overflow": null,
            "_model_module_version": "1.2.0",
            "_view_count": null,
            "flex_flow": null,
            "width": null,
            "min_width": null,
            "border": null,
            "align_items": null,
            "bottom": null,
            "_model_module": "@jupyter-widgets/base",
            "top": null,
            "grid_column": null,
            "overflow_y": null,
            "overflow_x": null,
            "grid_auto_flow": null,
            "grid_area": null,
            "grid_template_columns": null,
            "flex": null,
            "_model_name": "LayoutModel",
            "justify_items": null,
            "grid_row": null,
            "max_height": null,
            "align_content": null,
            "visibility": null,
            "align_self": null,
            "height": null,
            "min_height": null,
            "padding": null,
            "grid_auto_rows": null,
            "grid_gap": null,
            "max_width": null,
            "order": null,
            "_view_module_version": "1.2.0",
            "grid_template_areas": null,
            "object_position": null,
            "object_fit": null,
            "grid_auto_columns": null,
            "margin": null,
            "display": null,
            "left": null
          }
        },
        "1ce260b585534b06b210ac4181ca3feb": {
          "model_module": "@jupyter-widgets/controls",
          "model_name": "HBoxModel",
          "state": {
            "_view_name": "HBoxView",
            "_dom_classes": [],
            "_model_name": "HBoxModel",
            "_view_module": "@jupyter-widgets/controls",
            "_model_module_version": "1.5.0",
            "_view_count": null,
            "_view_module_version": "1.5.0",
            "box_style": "",
            "layout": "IPY_MODEL_4447dd4e55e94d9fa2bd8b6e253bec3d",
            "_model_module": "@jupyter-widgets/controls",
            "children": [
              "IPY_MODEL_d1864cfd774a440689f43f243d9f0fd8",
              "IPY_MODEL_ec230495454c4438be6d4218aa508f58"
            ]
          }
        },
        "4447dd4e55e94d9fa2bd8b6e253bec3d": {
          "model_module": "@jupyter-widgets/base",
          "model_name": "LayoutModel",
          "state": {
            "_view_name": "LayoutView",
            "grid_template_rows": null,
            "right": null,
            "justify_content": null,
            "_view_module": "@jupyter-widgets/base",
            "overflow": null,
            "_model_module_version": "1.2.0",
            "_view_count": null,
            "flex_flow": null,
            "width": null,
            "min_width": null,
            "border": null,
            "align_items": null,
            "bottom": null,
            "_model_module": "@jupyter-widgets/base",
            "top": null,
            "grid_column": null,
            "overflow_y": null,
            "overflow_x": null,
            "grid_auto_flow": null,
            "grid_area": null,
            "grid_template_columns": null,
            "flex": null,
            "_model_name": "LayoutModel",
            "justify_items": null,
            "grid_row": null,
            "max_height": null,
            "align_content": null,
            "visibility": null,
            "align_self": null,
            "height": null,
            "min_height": null,
            "padding": null,
            "grid_auto_rows": null,
            "grid_gap": null,
            "max_width": null,
            "order": null,
            "_view_module_version": "1.2.0",
            "grid_template_areas": null,
            "object_position": null,
            "object_fit": null,
            "grid_auto_columns": null,
            "margin": null,
            "display": null,
            "left": null
          }
        },
        "d1864cfd774a440689f43f243d9f0fd8": {
          "model_module": "@jupyter-widgets/controls",
          "model_name": "FloatProgressModel",
          "state": {
            "_view_name": "ProgressView",
            "style": "IPY_MODEL_a05e20b6d0e04e9c8131dd13c1887992",
            "_dom_classes": [],
            "description": "Downloading: 100%",
            "_model_name": "FloatProgressModel",
            "bar_style": "success",
            "max": 442,
            "_view_module": "@jupyter-widgets/controls",
            "_model_module_version": "1.5.0",
            "value": 442,
            "_view_count": null,
            "_view_module_version": "1.5.0",
            "orientation": "horizontal",
            "min": 0,
            "description_tooltip": null,
            "_model_module": "@jupyter-widgets/controls",
            "layout": "IPY_MODEL_fa81bcd0d32b4a26812fecfe98ac8df1"
          }
        },
        "ec230495454c4438be6d4218aa508f58": {
          "model_module": "@jupyter-widgets/controls",
          "model_name": "HTMLModel",
          "state": {
            "_view_name": "HTMLView",
            "style": "IPY_MODEL_96f5c60d8135448a968b0d189e2be7e6",
            "_dom_classes": [],
            "description": "",
            "_model_name": "HTMLModel",
            "placeholder": "​",
            "_view_module": "@jupyter-widgets/controls",
            "_model_module_version": "1.5.0",
            "value": " 442/442 [00:00&lt;00:00, 919B/s]",
            "_view_count": null,
            "_view_module_version": "1.5.0",
            "description_tooltip": null,
            "_model_module": "@jupyter-widgets/controls",
            "layout": "IPY_MODEL_660e4cba4a8541b6a6a8cae89756437d"
          }
        },
        "a05e20b6d0e04e9c8131dd13c1887992": {
          "model_module": "@jupyter-widgets/controls",
          "model_name": "ProgressStyleModel",
          "state": {
            "_view_name": "StyleView",
            "_model_name": "ProgressStyleModel",
            "description_width": "initial",
            "_view_module": "@jupyter-widgets/base",
            "_model_module_version": "1.5.0",
            "_view_count": null,
            "_view_module_version": "1.2.0",
            "bar_color": null,
            "_model_module": "@jupyter-widgets/controls"
          }
        },
        "fa81bcd0d32b4a26812fecfe98ac8df1": {
          "model_module": "@jupyter-widgets/base",
          "model_name": "LayoutModel",
          "state": {
            "_view_name": "LayoutView",
            "grid_template_rows": null,
            "right": null,
            "justify_content": null,
            "_view_module": "@jupyter-widgets/base",
            "overflow": null,
            "_model_module_version": "1.2.0",
            "_view_count": null,
            "flex_flow": null,
            "width": null,
            "min_width": null,
            "border": null,
            "align_items": null,
            "bottom": null,
            "_model_module": "@jupyter-widgets/base",
            "top": null,
            "grid_column": null,
            "overflow_y": null,
            "overflow_x": null,
            "grid_auto_flow": null,
            "grid_area": null,
            "grid_template_columns": null,
            "flex": null,
            "_model_name": "LayoutModel",
            "justify_items": null,
            "grid_row": null,
            "max_height": null,
            "align_content": null,
            "visibility": null,
            "align_self": null,
            "height": null,
            "min_height": null,
            "padding": null,
            "grid_auto_rows": null,
            "grid_gap": null,
            "max_width": null,
            "order": null,
            "_view_module_version": "1.2.0",
            "grid_template_areas": null,
            "object_position": null,
            "object_fit": null,
            "grid_auto_columns": null,
            "margin": null,
            "display": null,
            "left": null
          }
        },
        "96f5c60d8135448a968b0d189e2be7e6": {
          "model_module": "@jupyter-widgets/controls",
          "model_name": "DescriptionStyleModel",
          "state": {
            "_view_name": "StyleView",
            "_model_name": "DescriptionStyleModel",
            "description_width": "",
            "_view_module": "@jupyter-widgets/base",
            "_model_module_version": "1.5.0",
            "_view_count": null,
            "_view_module_version": "1.2.0",
            "_model_module": "@jupyter-widgets/controls"
          }
        },
        "660e4cba4a8541b6a6a8cae89756437d": {
          "model_module": "@jupyter-widgets/base",
          "model_name": "LayoutModel",
          "state": {
            "_view_name": "LayoutView",
            "grid_template_rows": null,
            "right": null,
            "justify_content": null,
            "_view_module": "@jupyter-widgets/base",
            "overflow": null,
            "_model_module_version": "1.2.0",
            "_view_count": null,
            "flex_flow": null,
            "width": null,
            "min_width": null,
            "border": null,
            "align_items": null,
            "bottom": null,
            "_model_module": "@jupyter-widgets/base",
            "top": null,
            "grid_column": null,
            "overflow_y": null,
            "overflow_x": null,
            "grid_auto_flow": null,
            "grid_area": null,
            "grid_template_columns": null,
            "flex": null,
            "_model_name": "LayoutModel",
            "justify_items": null,
            "grid_row": null,
            "max_height": null,
            "align_content": null,
            "visibility": null,
            "align_self": null,
            "height": null,
            "min_height": null,
            "padding": null,
            "grid_auto_rows": null,
            "grid_gap": null,
            "max_width": null,
            "order": null,
            "_view_module_version": "1.2.0",
            "grid_template_areas": null,
            "object_position": null,
            "object_fit": null,
            "grid_auto_columns": null,
            "margin": null,
            "display": null,
            "left": null
          }
        },
        "53d73d2b69bf4033b09af5e70160f4ef": {
          "model_module": "@jupyter-widgets/controls",
          "model_name": "HBoxModel",
          "state": {
            "_view_name": "HBoxView",
            "_dom_classes": [],
            "_model_name": "HBoxModel",
            "_view_module": "@jupyter-widgets/controls",
            "_model_module_version": "1.5.0",
            "_view_count": null,
            "_view_module_version": "1.5.0",
            "box_style": "",
            "layout": "IPY_MODEL_cda84b583cea42d09725778fb05d7181",
            "_model_module": "@jupyter-widgets/controls",
            "children": [
              "IPY_MODEL_56e2ef8184c84dfea87946dfa1d53d2c",
              "IPY_MODEL_5312dfe806274a8a834eda8ab7eec2c5"
            ]
          }
        },
        "cda84b583cea42d09725778fb05d7181": {
          "model_module": "@jupyter-widgets/base",
          "model_name": "LayoutModel",
          "state": {
            "_view_name": "LayoutView",
            "grid_template_rows": null,
            "right": null,
            "justify_content": null,
            "_view_module": "@jupyter-widgets/base",
            "overflow": null,
            "_model_module_version": "1.2.0",
            "_view_count": null,
            "flex_flow": null,
            "width": null,
            "min_width": null,
            "border": null,
            "align_items": null,
            "bottom": null,
            "_model_module": "@jupyter-widgets/base",
            "top": null,
            "grid_column": null,
            "overflow_y": null,
            "overflow_x": null,
            "grid_auto_flow": null,
            "grid_area": null,
            "grid_template_columns": null,
            "flex": null,
            "_model_name": "LayoutModel",
            "justify_items": null,
            "grid_row": null,
            "max_height": null,
            "align_content": null,
            "visibility": null,
            "align_self": null,
            "height": null,
            "min_height": null,
            "padding": null,
            "grid_auto_rows": null,
            "grid_gap": null,
            "max_width": null,
            "order": null,
            "_view_module_version": "1.2.0",
            "grid_template_areas": null,
            "object_position": null,
            "object_fit": null,
            "grid_auto_columns": null,
            "margin": null,
            "display": null,
            "left": null
          }
        },
        "56e2ef8184c84dfea87946dfa1d53d2c": {
          "model_module": "@jupyter-widgets/controls",
          "model_name": "FloatProgressModel",
          "state": {
            "_view_name": "ProgressView",
            "style": "IPY_MODEL_f49760ea1b3645359fd6f4105c5dfa94",
            "_dom_classes": [],
            "description": "Downloading: 100%",
            "_model_name": "FloatProgressModel",
            "bar_style": "success",
            "max": 267967963,
            "_view_module": "@jupyter-widgets/controls",
            "_model_module_version": "1.5.0",
            "value": 267967963,
            "_view_count": null,
            "_view_module_version": "1.5.0",
            "orientation": "horizontal",
            "min": 0,
            "description_tooltip": null,
            "_model_module": "@jupyter-widgets/controls",
            "layout": "IPY_MODEL_31865ebb658f420da4a08d5c2e7f9d11"
          }
        },
        "5312dfe806274a8a834eda8ab7eec2c5": {
          "model_module": "@jupyter-widgets/controls",
          "model_name": "HTMLModel",
          "state": {
            "_view_name": "HTMLView",
            "style": "IPY_MODEL_172167e5f5a745c9b95da0a762625f6e",
            "_dom_classes": [],
            "description": "",
            "_model_name": "HTMLModel",
            "placeholder": "​",
            "_view_module": "@jupyter-widgets/controls",
            "_model_module_version": "1.5.0",
            "value": " 268M/268M [00:08&lt;00:00, 31.8MB/s]",
            "_view_count": null,
            "_view_module_version": "1.5.0",
            "description_tooltip": null,
            "_model_module": "@jupyter-widgets/controls",
            "layout": "IPY_MODEL_9d75c4efbf3a41db86cb5005f87e15fa"
          }
        },
        "f49760ea1b3645359fd6f4105c5dfa94": {
          "model_module": "@jupyter-widgets/controls",
          "model_name": "ProgressStyleModel",
          "state": {
            "_view_name": "StyleView",
            "_model_name": "ProgressStyleModel",
            "description_width": "initial",
            "_view_module": "@jupyter-widgets/base",
            "_model_module_version": "1.5.0",
            "_view_count": null,
            "_view_module_version": "1.2.0",
            "bar_color": null,
            "_model_module": "@jupyter-widgets/controls"
          }
        },
        "31865ebb658f420da4a08d5c2e7f9d11": {
          "model_module": "@jupyter-widgets/base",
          "model_name": "LayoutModel",
          "state": {
            "_view_name": "LayoutView",
            "grid_template_rows": null,
            "right": null,
            "justify_content": null,
            "_view_module": "@jupyter-widgets/base",
            "overflow": null,
            "_model_module_version": "1.2.0",
            "_view_count": null,
            "flex_flow": null,
            "width": null,
            "min_width": null,
            "border": null,
            "align_items": null,
            "bottom": null,
            "_model_module": "@jupyter-widgets/base",
            "top": null,
            "grid_column": null,
            "overflow_y": null,
            "overflow_x": null,
            "grid_auto_flow": null,
            "grid_area": null,
            "grid_template_columns": null,
            "flex": null,
            "_model_name": "LayoutModel",
            "justify_items": null,
            "grid_row": null,
            "max_height": null,
            "align_content": null,
            "visibility": null,
            "align_self": null,
            "height": null,
            "min_height": null,
            "padding": null,
            "grid_auto_rows": null,
            "grid_gap": null,
            "max_width": null,
            "order": null,
            "_view_module_version": "1.2.0",
            "grid_template_areas": null,
            "object_position": null,
            "object_fit": null,
            "grid_auto_columns": null,
            "margin": null,
            "display": null,
            "left": null
          }
        },
        "172167e5f5a745c9b95da0a762625f6e": {
          "model_module": "@jupyter-widgets/controls",
          "model_name": "DescriptionStyleModel",
          "state": {
            "_view_name": "StyleView",
            "_model_name": "DescriptionStyleModel",
            "description_width": "",
            "_view_module": "@jupyter-widgets/base",
            "_model_module_version": "1.5.0",
            "_view_count": null,
            "_view_module_version": "1.2.0",
            "_model_module": "@jupyter-widgets/controls"
          }
        },
        "9d75c4efbf3a41db86cb5005f87e15fa": {
          "model_module": "@jupyter-widgets/base",
          "model_name": "LayoutModel",
          "state": {
            "_view_name": "LayoutView",
            "grid_template_rows": null,
            "right": null,
            "justify_content": null,
            "_view_module": "@jupyter-widgets/base",
            "overflow": null,
            "_model_module_version": "1.2.0",
            "_view_count": null,
            "flex_flow": null,
            "width": null,
            "min_width": null,
            "border": null,
            "align_items": null,
            "bottom": null,
            "_model_module": "@jupyter-widgets/base",
            "top": null,
            "grid_column": null,
            "overflow_y": null,
            "overflow_x": null,
            "grid_auto_flow": null,
            "grid_area": null,
            "grid_template_columns": null,
            "flex": null,
            "_model_name": "LayoutModel",
            "justify_items": null,
            "grid_row": null,
            "max_height": null,
            "align_content": null,
            "visibility": null,
            "align_self": null,
            "height": null,
            "min_height": null,
            "padding": null,
            "grid_auto_rows": null,
            "grid_gap": null,
            "max_width": null,
            "order": null,
            "_view_module_version": "1.2.0",
            "grid_template_areas": null,
            "object_position": null,
            "object_fit": null,
            "grid_auto_columns": null,
            "margin": null,
            "display": null,
            "left": null
          }
        },
        "d205cf6d92fb47c7a6f0f7f886fdbd6f": {
          "model_module": "@jupyter-widgets/controls",
          "model_name": "HBoxModel",
          "state": {
            "_view_name": "HBoxView",
            "_dom_classes": [],
            "_model_name": "HBoxModel",
            "_view_module": "@jupyter-widgets/controls",
            "_model_module_version": "1.5.0",
            "_view_count": null,
            "_view_module_version": "1.5.0",
            "box_style": "",
            "layout": "IPY_MODEL_d1c03cc67d6e4aae96eca8cbce33546a",
            "_model_module": "@jupyter-widgets/controls",
            "children": [
              "IPY_MODEL_ed986483857c404f8de26e0cfab2fea2",
              "IPY_MODEL_4ab4a5976c764e5da4671e289107a4a6"
            ]
          }
        },
        "d1c03cc67d6e4aae96eca8cbce33546a": {
          "model_module": "@jupyter-widgets/base",
          "model_name": "LayoutModel",
          "state": {
            "_view_name": "LayoutView",
            "grid_template_rows": null,
            "right": null,
            "justify_content": null,
            "_view_module": "@jupyter-widgets/base",
            "overflow": null,
            "_model_module_version": "1.2.0",
            "_view_count": null,
            "flex_flow": null,
            "width": null,
            "min_width": null,
            "border": null,
            "align_items": null,
            "bottom": null,
            "_model_module": "@jupyter-widgets/base",
            "top": null,
            "grid_column": null,
            "overflow_y": null,
            "overflow_x": null,
            "grid_auto_flow": null,
            "grid_area": null,
            "grid_template_columns": null,
            "flex": null,
            "_model_name": "LayoutModel",
            "justify_items": null,
            "grid_row": null,
            "max_height": null,
            "align_content": null,
            "visibility": null,
            "align_self": null,
            "height": null,
            "min_height": null,
            "padding": null,
            "grid_auto_rows": null,
            "grid_gap": null,
            "max_width": null,
            "order": null,
            "_view_module_version": "1.2.0",
            "grid_template_areas": null,
            "object_position": null,
            "object_fit": null,
            "grid_auto_columns": null,
            "margin": null,
            "display": null,
            "left": null
          }
        },
        "ed986483857c404f8de26e0cfab2fea2": {
          "model_module": "@jupyter-widgets/controls",
          "model_name": "FloatProgressModel",
          "state": {
            "_view_name": "ProgressView",
            "style": "IPY_MODEL_8aad684fc96347cc90c69524326a8f60",
            "_dom_classes": [],
            "description": "100%",
            "_model_name": "FloatProgressModel",
            "bar_style": "success",
            "max": 2714,
            "_view_module": "@jupyter-widgets/controls",
            "_model_module_version": "1.5.0",
            "value": 2714,
            "_view_count": null,
            "_view_module_version": "1.5.0",
            "orientation": "horizontal",
            "min": 0,
            "description_tooltip": null,
            "_model_module": "@jupyter-widgets/controls",
            "layout": "IPY_MODEL_82bccecefda949d584d95184462376af"
          }
        },
        "4ab4a5976c764e5da4671e289107a4a6": {
          "model_module": "@jupyter-widgets/controls",
          "model_name": "HTMLModel",
          "state": {
            "_view_name": "HTMLView",
            "style": "IPY_MODEL_296d9e92ff0a419f8794568158704f25",
            "_dom_classes": [],
            "description": "",
            "_model_name": "HTMLModel",
            "placeholder": "​",
            "_view_module": "@jupyter-widgets/controls",
            "_model_module_version": "1.5.0",
            "value": " 2714/2714 [1:53:32&lt;00:00,  2.51s/it]",
            "_view_count": null,
            "_view_module_version": "1.5.0",
            "description_tooltip": null,
            "_model_module": "@jupyter-widgets/controls",
            "layout": "IPY_MODEL_d37b280e96814cde956a38dd66d28325"
          }
        },
        "8aad684fc96347cc90c69524326a8f60": {
          "model_module": "@jupyter-widgets/controls",
          "model_name": "ProgressStyleModel",
          "state": {
            "_view_name": "StyleView",
            "_model_name": "ProgressStyleModel",
            "description_width": "initial",
            "_view_module": "@jupyter-widgets/base",
            "_model_module_version": "1.5.0",
            "_view_count": null,
            "_view_module_version": "1.2.0",
            "bar_color": null,
            "_model_module": "@jupyter-widgets/controls"
          }
        },
        "82bccecefda949d584d95184462376af": {
          "model_module": "@jupyter-widgets/base",
          "model_name": "LayoutModel",
          "state": {
            "_view_name": "LayoutView",
            "grid_template_rows": null,
            "right": null,
            "justify_content": null,
            "_view_module": "@jupyter-widgets/base",
            "overflow": null,
            "_model_module_version": "1.2.0",
            "_view_count": null,
            "flex_flow": null,
            "width": null,
            "min_width": null,
            "border": null,
            "align_items": null,
            "bottom": null,
            "_model_module": "@jupyter-widgets/base",
            "top": null,
            "grid_column": null,
            "overflow_y": null,
            "overflow_x": null,
            "grid_auto_flow": null,
            "grid_area": null,
            "grid_template_columns": null,
            "flex": null,
            "_model_name": "LayoutModel",
            "justify_items": null,
            "grid_row": null,
            "max_height": null,
            "align_content": null,
            "visibility": null,
            "align_self": null,
            "height": null,
            "min_height": null,
            "padding": null,
            "grid_auto_rows": null,
            "grid_gap": null,
            "max_width": null,
            "order": null,
            "_view_module_version": "1.2.0",
            "grid_template_areas": null,
            "object_position": null,
            "object_fit": null,
            "grid_auto_columns": null,
            "margin": null,
            "display": null,
            "left": null
          }
        },
        "296d9e92ff0a419f8794568158704f25": {
          "model_module": "@jupyter-widgets/controls",
          "model_name": "DescriptionStyleModel",
          "state": {
            "_view_name": "StyleView",
            "_model_name": "DescriptionStyleModel",
            "description_width": "",
            "_view_module": "@jupyter-widgets/base",
            "_model_module_version": "1.5.0",
            "_view_count": null,
            "_view_module_version": "1.2.0",
            "_model_module": "@jupyter-widgets/controls"
          }
        },
        "d37b280e96814cde956a38dd66d28325": {
          "model_module": "@jupyter-widgets/base",
          "model_name": "LayoutModel",
          "state": {
            "_view_name": "LayoutView",
            "grid_template_rows": null,
            "right": null,
            "justify_content": null,
            "_view_module": "@jupyter-widgets/base",
            "overflow": null,
            "_model_module_version": "1.2.0",
            "_view_count": null,
            "flex_flow": null,
            "width": null,
            "min_width": null,
            "border": null,
            "align_items": null,
            "bottom": null,
            "_model_module": "@jupyter-widgets/base",
            "top": null,
            "grid_column": null,
            "overflow_y": null,
            "overflow_x": null,
            "grid_auto_flow": null,
            "grid_area": null,
            "grid_template_columns": null,
            "flex": null,
            "_model_name": "LayoutModel",
            "justify_items": null,
            "grid_row": null,
            "max_height": null,
            "align_content": null,
            "visibility": null,
            "align_self": null,
            "height": null,
            "min_height": null,
            "padding": null,
            "grid_auto_rows": null,
            "grid_gap": null,
            "max_width": null,
            "order": null,
            "_view_module_version": "1.2.0",
            "grid_template_areas": null,
            "object_position": null,
            "object_fit": null,
            "grid_auto_columns": null,
            "margin": null,
            "display": null,
            "left": null
          }
        },
        "894ce38d0afe45c58e717a376b2ce734": {
          "model_module": "@jupyter-widgets/controls",
          "model_name": "HBoxModel",
          "state": {
            "_view_name": "HBoxView",
            "_dom_classes": [],
            "_model_name": "HBoxModel",
            "_view_module": "@jupyter-widgets/controls",
            "_model_module_version": "1.5.0",
            "_view_count": null,
            "_view_module_version": "1.5.0",
            "box_style": "",
            "layout": "IPY_MODEL_a50d15f870354ffcbe2b120df0ca76b5",
            "_model_module": "@jupyter-widgets/controls",
            "children": [
              "IPY_MODEL_3bf54259022e4487a37c5214a4a85851",
              "IPY_MODEL_81b12bd0d7054cb0a4755159543a4157"
            ]
          }
        },
        "a50d15f870354ffcbe2b120df0ca76b5": {
          "model_module": "@jupyter-widgets/base",
          "model_name": "LayoutModel",
          "state": {
            "_view_name": "LayoutView",
            "grid_template_rows": null,
            "right": null,
            "justify_content": null,
            "_view_module": "@jupyter-widgets/base",
            "overflow": null,
            "_model_module_version": "1.2.0",
            "_view_count": null,
            "flex_flow": null,
            "width": null,
            "min_width": null,
            "border": null,
            "align_items": null,
            "bottom": null,
            "_model_module": "@jupyter-widgets/base",
            "top": null,
            "grid_column": null,
            "overflow_y": null,
            "overflow_x": null,
            "grid_auto_flow": null,
            "grid_area": null,
            "grid_template_columns": null,
            "flex": null,
            "_model_name": "LayoutModel",
            "justify_items": null,
            "grid_row": null,
            "max_height": null,
            "align_content": null,
            "visibility": null,
            "align_self": null,
            "height": null,
            "min_height": null,
            "padding": null,
            "grid_auto_rows": null,
            "grid_gap": null,
            "max_width": null,
            "order": null,
            "_view_module_version": "1.2.0",
            "grid_template_areas": null,
            "object_position": null,
            "object_fit": null,
            "grid_auto_columns": null,
            "margin": null,
            "display": null,
            "left": null
          }
        },
        "3bf54259022e4487a37c5214a4a85851": {
          "model_module": "@jupyter-widgets/controls",
          "model_name": "FloatProgressModel",
          "state": {
            "_view_name": "ProgressView",
            "style": "IPY_MODEL_21821b5f9f9144b38a0e8db661ef1392",
            "_dom_classes": [],
            "description": "100%",
            "_model_name": "FloatProgressModel",
            "bar_style": "success",
            "max": 2714,
            "_view_module": "@jupyter-widgets/controls",
            "_model_module_version": "1.5.0",
            "value": 2714,
            "_view_count": null,
            "_view_module_version": "1.5.0",
            "orientation": "horizontal",
            "min": 0,
            "description_tooltip": null,
            "_model_module": "@jupyter-widgets/controls",
            "layout": "IPY_MODEL_e09425a83a0d4b81833d41012cc12425"
          }
        },
        "81b12bd0d7054cb0a4755159543a4157": {
          "model_module": "@jupyter-widgets/controls",
          "model_name": "HTMLModel",
          "state": {
            "_view_name": "HTMLView",
            "style": "IPY_MODEL_bcce891cfe5e45a4b75878a39404907a",
            "_dom_classes": [],
            "description": "",
            "_model_name": "HTMLModel",
            "placeholder": "​",
            "_view_module": "@jupyter-widgets/controls",
            "_model_module_version": "1.5.0",
            "value": " 2714/2714 [1:15:40&lt;00:00,  1.67s/it]",
            "_view_count": null,
            "_view_module_version": "1.5.0",
            "description_tooltip": null,
            "_model_module": "@jupyter-widgets/controls",
            "layout": "IPY_MODEL_aa9b387a3a7444e8b1c6ae763347292e"
          }
        },
        "21821b5f9f9144b38a0e8db661ef1392": {
          "model_module": "@jupyter-widgets/controls",
          "model_name": "ProgressStyleModel",
          "state": {
            "_view_name": "StyleView",
            "_model_name": "ProgressStyleModel",
            "description_width": "initial",
            "_view_module": "@jupyter-widgets/base",
            "_model_module_version": "1.5.0",
            "_view_count": null,
            "_view_module_version": "1.2.0",
            "bar_color": null,
            "_model_module": "@jupyter-widgets/controls"
          }
        },
        "e09425a83a0d4b81833d41012cc12425": {
          "model_module": "@jupyter-widgets/base",
          "model_name": "LayoutModel",
          "state": {
            "_view_name": "LayoutView",
            "grid_template_rows": null,
            "right": null,
            "justify_content": null,
            "_view_module": "@jupyter-widgets/base",
            "overflow": null,
            "_model_module_version": "1.2.0",
            "_view_count": null,
            "flex_flow": null,
            "width": null,
            "min_width": null,
            "border": null,
            "align_items": null,
            "bottom": null,
            "_model_module": "@jupyter-widgets/base",
            "top": null,
            "grid_column": null,
            "overflow_y": null,
            "overflow_x": null,
            "grid_auto_flow": null,
            "grid_area": null,
            "grid_template_columns": null,
            "flex": null,
            "_model_name": "LayoutModel",
            "justify_items": null,
            "grid_row": null,
            "max_height": null,
            "align_content": null,
            "visibility": null,
            "align_self": null,
            "height": null,
            "min_height": null,
            "padding": null,
            "grid_auto_rows": null,
            "grid_gap": null,
            "max_width": null,
            "order": null,
            "_view_module_version": "1.2.0",
            "grid_template_areas": null,
            "object_position": null,
            "object_fit": null,
            "grid_auto_columns": null,
            "margin": null,
            "display": null,
            "left": null
          }
        },
        "bcce891cfe5e45a4b75878a39404907a": {
          "model_module": "@jupyter-widgets/controls",
          "model_name": "DescriptionStyleModel",
          "state": {
            "_view_name": "StyleView",
            "_model_name": "DescriptionStyleModel",
            "description_width": "",
            "_view_module": "@jupyter-widgets/base",
            "_model_module_version": "1.5.0",
            "_view_count": null,
            "_view_module_version": "1.2.0",
            "_model_module": "@jupyter-widgets/controls"
          }
        },
        "aa9b387a3a7444e8b1c6ae763347292e": {
          "model_module": "@jupyter-widgets/base",
          "model_name": "LayoutModel",
          "state": {
            "_view_name": "LayoutView",
            "grid_template_rows": null,
            "right": null,
            "justify_content": null,
            "_view_module": "@jupyter-widgets/base",
            "overflow": null,
            "_model_module_version": "1.2.0",
            "_view_count": null,
            "flex_flow": null,
            "width": null,
            "min_width": null,
            "border": null,
            "align_items": null,
            "bottom": null,
            "_model_module": "@jupyter-widgets/base",
            "top": null,
            "grid_column": null,
            "overflow_y": null,
            "overflow_x": null,
            "grid_auto_flow": null,
            "grid_area": null,
            "grid_template_columns": null,
            "flex": null,
            "_model_name": "LayoutModel",
            "justify_items": null,
            "grid_row": null,
            "max_height": null,
            "align_content": null,
            "visibility": null,
            "align_self": null,
            "height": null,
            "min_height": null,
            "padding": null,
            "grid_auto_rows": null,
            "grid_gap": null,
            "max_width": null,
            "order": null,
            "_view_module_version": "1.2.0",
            "grid_template_areas": null,
            "object_position": null,
            "object_fit": null,
            "grid_auto_columns": null,
            "margin": null,
            "display": null,
            "left": null
          }
        },
        "925e54fa556241a1a818cff7be6f3373": {
          "model_module": "@jupyter-widgets/controls",
          "model_name": "HBoxModel",
          "state": {
            "_view_name": "HBoxView",
            "_dom_classes": [],
            "_model_name": "HBoxModel",
            "_view_module": "@jupyter-widgets/controls",
            "_model_module_version": "1.5.0",
            "_view_count": null,
            "_view_module_version": "1.5.0",
            "box_style": "",
            "layout": "IPY_MODEL_c90a2ad49e7d4f8b9f2a035ed72981b5",
            "_model_module": "@jupyter-widgets/controls",
            "children": [
              "IPY_MODEL_a6902960d3af4fa9aada1364ed11e661",
              "IPY_MODEL_06caab83d4d54987853c6b96ca0fd2d1"
            ]
          }
        },
        "c90a2ad49e7d4f8b9f2a035ed72981b5": {
          "model_module": "@jupyter-widgets/base",
          "model_name": "LayoutModel",
          "state": {
            "_view_name": "LayoutView",
            "grid_template_rows": null,
            "right": null,
            "justify_content": null,
            "_view_module": "@jupyter-widgets/base",
            "overflow": null,
            "_model_module_version": "1.2.0",
            "_view_count": null,
            "flex_flow": null,
            "width": null,
            "min_width": null,
            "border": null,
            "align_items": null,
            "bottom": null,
            "_model_module": "@jupyter-widgets/base",
            "top": null,
            "grid_column": null,
            "overflow_y": null,
            "overflow_x": null,
            "grid_auto_flow": null,
            "grid_area": null,
            "grid_template_columns": null,
            "flex": null,
            "_model_name": "LayoutModel",
            "justify_items": null,
            "grid_row": null,
            "max_height": null,
            "align_content": null,
            "visibility": null,
            "align_self": null,
            "height": null,
            "min_height": null,
            "padding": null,
            "grid_auto_rows": null,
            "grid_gap": null,
            "max_width": null,
            "order": null,
            "_view_module_version": "1.2.0",
            "grid_template_areas": null,
            "object_position": null,
            "object_fit": null,
            "grid_auto_columns": null,
            "margin": null,
            "display": null,
            "left": null
          }
        },
        "a6902960d3af4fa9aada1364ed11e661": {
          "model_module": "@jupyter-widgets/controls",
          "model_name": "FloatProgressModel",
          "state": {
            "_view_name": "ProgressView",
            "style": "IPY_MODEL_e3b7b04fd0c34e55849d3d3ee0824d93",
            "_dom_classes": [],
            "description": "100%",
            "_model_name": "FloatProgressModel",
            "bar_style": "success",
            "max": 2714,
            "_view_module": "@jupyter-widgets/controls",
            "_model_module_version": "1.5.0",
            "value": 2714,
            "_view_count": null,
            "_view_module_version": "1.5.0",
            "orientation": "horizontal",
            "min": 0,
            "description_tooltip": null,
            "_model_module": "@jupyter-widgets/controls",
            "layout": "IPY_MODEL_a3308c9df65845ce8f8306fd3aa5f633"
          }
        },
        "06caab83d4d54987853c6b96ca0fd2d1": {
          "model_module": "@jupyter-widgets/controls",
          "model_name": "HTMLModel",
          "state": {
            "_view_name": "HTMLView",
            "style": "IPY_MODEL_c7f4ab7b52aa430d86cf1a1b7128e2f9",
            "_dom_classes": [],
            "description": "",
            "_model_name": "HTMLModel",
            "placeholder": "​",
            "_view_module": "@jupyter-widgets/controls",
            "_model_module_version": "1.5.0",
            "value": " 2714/2714 [37:49&lt;00:00,  1.20it/s]",
            "_view_count": null,
            "_view_module_version": "1.5.0",
            "description_tooltip": null,
            "_model_module": "@jupyter-widgets/controls",
            "layout": "IPY_MODEL_f3c8e0a69aab4b828c3fcc5d17a255d5"
          }
        },
        "e3b7b04fd0c34e55849d3d3ee0824d93": {
          "model_module": "@jupyter-widgets/controls",
          "model_name": "ProgressStyleModel",
          "state": {
            "_view_name": "StyleView",
            "_model_name": "ProgressStyleModel",
            "description_width": "initial",
            "_view_module": "@jupyter-widgets/base",
            "_model_module_version": "1.5.0",
            "_view_count": null,
            "_view_module_version": "1.2.0",
            "bar_color": null,
            "_model_module": "@jupyter-widgets/controls"
          }
        },
        "a3308c9df65845ce8f8306fd3aa5f633": {
          "model_module": "@jupyter-widgets/base",
          "model_name": "LayoutModel",
          "state": {
            "_view_name": "LayoutView",
            "grid_template_rows": null,
            "right": null,
            "justify_content": null,
            "_view_module": "@jupyter-widgets/base",
            "overflow": null,
            "_model_module_version": "1.2.0",
            "_view_count": null,
            "flex_flow": null,
            "width": null,
            "min_width": null,
            "border": null,
            "align_items": null,
            "bottom": null,
            "_model_module": "@jupyter-widgets/base",
            "top": null,
            "grid_column": null,
            "overflow_y": null,
            "overflow_x": null,
            "grid_auto_flow": null,
            "grid_area": null,
            "grid_template_columns": null,
            "flex": null,
            "_model_name": "LayoutModel",
            "justify_items": null,
            "grid_row": null,
            "max_height": null,
            "align_content": null,
            "visibility": null,
            "align_self": null,
            "height": null,
            "min_height": null,
            "padding": null,
            "grid_auto_rows": null,
            "grid_gap": null,
            "max_width": null,
            "order": null,
            "_view_module_version": "1.2.0",
            "grid_template_areas": null,
            "object_position": null,
            "object_fit": null,
            "grid_auto_columns": null,
            "margin": null,
            "display": null,
            "left": null
          }
        },
        "c7f4ab7b52aa430d86cf1a1b7128e2f9": {
          "model_module": "@jupyter-widgets/controls",
          "model_name": "DescriptionStyleModel",
          "state": {
            "_view_name": "StyleView",
            "_model_name": "DescriptionStyleModel",
            "description_width": "",
            "_view_module": "@jupyter-widgets/base",
            "_model_module_version": "1.5.0",
            "_view_count": null,
            "_view_module_version": "1.2.0",
            "_model_module": "@jupyter-widgets/controls"
          }
        },
        "f3c8e0a69aab4b828c3fcc5d17a255d5": {
          "model_module": "@jupyter-widgets/base",
          "model_name": "LayoutModel",
          "state": {
            "_view_name": "LayoutView",
            "grid_template_rows": null,
            "right": null,
            "justify_content": null,
            "_view_module": "@jupyter-widgets/base",
            "overflow": null,
            "_model_module_version": "1.2.0",
            "_view_count": null,
            "flex_flow": null,
            "width": null,
            "min_width": null,
            "border": null,
            "align_items": null,
            "bottom": null,
            "_model_module": "@jupyter-widgets/base",
            "top": null,
            "grid_column": null,
            "overflow_y": null,
            "overflow_x": null,
            "grid_auto_flow": null,
            "grid_area": null,
            "grid_template_columns": null,
            "flex": null,
            "_model_name": "LayoutModel",
            "justify_items": null,
            "grid_row": null,
            "max_height": null,
            "align_content": null,
            "visibility": null,
            "align_self": null,
            "height": null,
            "min_height": null,
            "padding": null,
            "grid_auto_rows": null,
            "grid_gap": null,
            "max_width": null,
            "order": null,
            "_view_module_version": "1.2.0",
            "grid_template_areas": null,
            "object_position": null,
            "object_fit": null,
            "grid_auto_columns": null,
            "margin": null,
            "display": null,
            "left": null
          }
        },
        "0f397e822bba4f71908b73e8a593b73a": {
          "model_module": "@jupyter-widgets/controls",
          "model_name": "HBoxModel",
          "state": {
            "_view_name": "HBoxView",
            "_dom_classes": [],
            "_model_name": "HBoxModel",
            "_view_module": "@jupyter-widgets/controls",
            "_model_module_version": "1.5.0",
            "_view_count": null,
            "_view_module_version": "1.5.0",
            "box_style": "",
            "layout": "IPY_MODEL_a07ab89261df4e28bef4a872cce4b4cb",
            "_model_module": "@jupyter-widgets/controls",
            "children": [
              "IPY_MODEL_35986669dbad4c799a90b6f223703243",
              "IPY_MODEL_18756801403d4d11b05529c253bf61c6"
            ]
          }
        },
        "a07ab89261df4e28bef4a872cce4b4cb": {
          "model_module": "@jupyter-widgets/base",
          "model_name": "LayoutModel",
          "state": {
            "_view_name": "LayoutView",
            "grid_template_rows": null,
            "right": null,
            "justify_content": null,
            "_view_module": "@jupyter-widgets/base",
            "overflow": null,
            "_model_module_version": "1.2.0",
            "_view_count": null,
            "flex_flow": null,
            "width": null,
            "min_width": null,
            "border": null,
            "align_items": null,
            "bottom": null,
            "_model_module": "@jupyter-widgets/base",
            "top": null,
            "grid_column": null,
            "overflow_y": null,
            "overflow_x": null,
            "grid_auto_flow": null,
            "grid_area": null,
            "grid_template_columns": null,
            "flex": null,
            "_model_name": "LayoutModel",
            "justify_items": null,
            "grid_row": null,
            "max_height": null,
            "align_content": null,
            "visibility": null,
            "align_self": null,
            "height": null,
            "min_height": null,
            "padding": null,
            "grid_auto_rows": null,
            "grid_gap": null,
            "max_width": null,
            "order": null,
            "_view_module_version": "1.2.0",
            "grid_template_areas": null,
            "object_position": null,
            "object_fit": null,
            "grid_auto_columns": null,
            "margin": null,
            "display": null,
            "left": null
          }
        },
        "35986669dbad4c799a90b6f223703243": {
          "model_module": "@jupyter-widgets/controls",
          "model_name": "FloatProgressModel",
          "state": {
            "_view_name": "ProgressView",
            "style": "IPY_MODEL_ba199a490f9d4a42b417841c9867c737",
            "_dom_classes": [],
            "description": "100%",
            "_model_name": "FloatProgressModel",
            "bar_style": "success",
            "max": 26247,
            "_view_module": "@jupyter-widgets/controls",
            "_model_module_version": "1.5.0",
            "value": 26247,
            "_view_count": null,
            "_view_module_version": "1.5.0",
            "orientation": "horizontal",
            "min": 0,
            "description_tooltip": null,
            "_model_module": "@jupyter-widgets/controls",
            "layout": "IPY_MODEL_f956d64fe5294155bbb981025fc1f417"
          }
        },
        "18756801403d4d11b05529c253bf61c6": {
          "model_module": "@jupyter-widgets/controls",
          "model_name": "HTMLModel",
          "state": {
            "_view_name": "HTMLView",
            "style": "IPY_MODEL_a6aab0438a0c4cd1b5a144c92336259f",
            "_dom_classes": [],
            "description": "",
            "_model_name": "HTMLModel",
            "placeholder": "​",
            "_view_module": "@jupyter-widgets/controls",
            "_model_module_version": "1.5.0",
            "value": " 26247/26247 [05:13&lt;00:00, 83.61it/s]",
            "_view_count": null,
            "_view_module_version": "1.5.0",
            "description_tooltip": null,
            "_model_module": "@jupyter-widgets/controls",
            "layout": "IPY_MODEL_aea9f7c1582e4c9c94d0220a61cdc719"
          }
        },
        "ba199a490f9d4a42b417841c9867c737": {
          "model_module": "@jupyter-widgets/controls",
          "model_name": "ProgressStyleModel",
          "state": {
            "_view_name": "StyleView",
            "_model_name": "ProgressStyleModel",
            "description_width": "initial",
            "_view_module": "@jupyter-widgets/base",
            "_model_module_version": "1.5.0",
            "_view_count": null,
            "_view_module_version": "1.2.0",
            "bar_color": null,
            "_model_module": "@jupyter-widgets/controls"
          }
        },
        "f956d64fe5294155bbb981025fc1f417": {
          "model_module": "@jupyter-widgets/base",
          "model_name": "LayoutModel",
          "state": {
            "_view_name": "LayoutView",
            "grid_template_rows": null,
            "right": null,
            "justify_content": null,
            "_view_module": "@jupyter-widgets/base",
            "overflow": null,
            "_model_module_version": "1.2.0",
            "_view_count": null,
            "flex_flow": null,
            "width": null,
            "min_width": null,
            "border": null,
            "align_items": null,
            "bottom": null,
            "_model_module": "@jupyter-widgets/base",
            "top": null,
            "grid_column": null,
            "overflow_y": null,
            "overflow_x": null,
            "grid_auto_flow": null,
            "grid_area": null,
            "grid_template_columns": null,
            "flex": null,
            "_model_name": "LayoutModel",
            "justify_items": null,
            "grid_row": null,
            "max_height": null,
            "align_content": null,
            "visibility": null,
            "align_self": null,
            "height": null,
            "min_height": null,
            "padding": null,
            "grid_auto_rows": null,
            "grid_gap": null,
            "max_width": null,
            "order": null,
            "_view_module_version": "1.2.0",
            "grid_template_areas": null,
            "object_position": null,
            "object_fit": null,
            "grid_auto_columns": null,
            "margin": null,
            "display": null,
            "left": null
          }
        },
        "a6aab0438a0c4cd1b5a144c92336259f": {
          "model_module": "@jupyter-widgets/controls",
          "model_name": "DescriptionStyleModel",
          "state": {
            "_view_name": "StyleView",
            "_model_name": "DescriptionStyleModel",
            "description_width": "",
            "_view_module": "@jupyter-widgets/base",
            "_model_module_version": "1.5.0",
            "_view_count": null,
            "_view_module_version": "1.2.0",
            "_model_module": "@jupyter-widgets/controls"
          }
        },
        "aea9f7c1582e4c9c94d0220a61cdc719": {
          "model_module": "@jupyter-widgets/base",
          "model_name": "LayoutModel",
          "state": {
            "_view_name": "LayoutView",
            "grid_template_rows": null,
            "right": null,
            "justify_content": null,
            "_view_module": "@jupyter-widgets/base",
            "overflow": null,
            "_model_module_version": "1.2.0",
            "_view_count": null,
            "flex_flow": null,
            "width": null,
            "min_width": null,
            "border": null,
            "align_items": null,
            "bottom": null,
            "_model_module": "@jupyter-widgets/base",
            "top": null,
            "grid_column": null,
            "overflow_y": null,
            "overflow_x": null,
            "grid_auto_flow": null,
            "grid_area": null,
            "grid_template_columns": null,
            "flex": null,
            "_model_name": "LayoutModel",
            "justify_items": null,
            "grid_row": null,
            "max_height": null,
            "align_content": null,
            "visibility": null,
            "align_self": null,
            "height": null,
            "min_height": null,
            "padding": null,
            "grid_auto_rows": null,
            "grid_gap": null,
            "max_width": null,
            "order": null,
            "_view_module_version": "1.2.0",
            "grid_template_areas": null,
            "object_position": null,
            "object_fit": null,
            "grid_auto_columns": null,
            "margin": null,
            "display": null,
            "left": null
          }
        },
        "b6302520a04b422eab5ee1d717d13bfe": {
          "model_module": "@jupyter-widgets/controls",
          "model_name": "HBoxModel",
          "state": {
            "_view_name": "HBoxView",
            "_dom_classes": [],
            "_model_name": "HBoxModel",
            "_view_module": "@jupyter-widgets/controls",
            "_model_module_version": "1.5.0",
            "_view_count": null,
            "_view_module_version": "1.5.0",
            "box_style": "",
            "layout": "IPY_MODEL_16fcc0eb15f14dd998dce118c895bac8",
            "_model_module": "@jupyter-widgets/controls",
            "children": [
              "IPY_MODEL_c4ab1523503a4f32ae03ba8051e0e03c",
              "IPY_MODEL_c30755dbf3b94db8ab5471cce64ee592"
            ]
          }
        },
        "16fcc0eb15f14dd998dce118c895bac8": {
          "model_module": "@jupyter-widgets/base",
          "model_name": "LayoutModel",
          "state": {
            "_view_name": "LayoutView",
            "grid_template_rows": null,
            "right": null,
            "justify_content": null,
            "_view_module": "@jupyter-widgets/base",
            "overflow": null,
            "_model_module_version": "1.2.0",
            "_view_count": null,
            "flex_flow": null,
            "width": null,
            "min_width": null,
            "border": null,
            "align_items": null,
            "bottom": null,
            "_model_module": "@jupyter-widgets/base",
            "top": null,
            "grid_column": null,
            "overflow_y": null,
            "overflow_x": null,
            "grid_auto_flow": null,
            "grid_area": null,
            "grid_template_columns": null,
            "flex": null,
            "_model_name": "LayoutModel",
            "justify_items": null,
            "grid_row": null,
            "max_height": null,
            "align_content": null,
            "visibility": null,
            "align_self": null,
            "height": null,
            "min_height": null,
            "padding": null,
            "grid_auto_rows": null,
            "grid_gap": null,
            "max_width": null,
            "order": null,
            "_view_module_version": "1.2.0",
            "grid_template_areas": null,
            "object_position": null,
            "object_fit": null,
            "grid_auto_columns": null,
            "margin": null,
            "display": null,
            "left": null
          }
        },
        "c4ab1523503a4f32ae03ba8051e0e03c": {
          "model_module": "@jupyter-widgets/controls",
          "model_name": "FloatProgressModel",
          "state": {
            "_view_name": "ProgressView",
            "style": "IPY_MODEL_748393dd86dc45338ee7e0c831d2b100",
            "_dom_classes": [],
            "description": "100%",
            "_model_name": "FloatProgressModel",
            "bar_style": "success",
            "max": 26247,
            "_view_module": "@jupyter-widgets/controls",
            "_model_module_version": "1.5.0",
            "value": 26247,
            "_view_count": null,
            "_view_module_version": "1.5.0",
            "orientation": "horizontal",
            "min": 0,
            "description_tooltip": null,
            "_model_module": "@jupyter-widgets/controls",
            "layout": "IPY_MODEL_b9bb2d376a204cdc8e213708c0cff99a"
          }
        },
        "c30755dbf3b94db8ab5471cce64ee592": {
          "model_module": "@jupyter-widgets/controls",
          "model_name": "HTMLModel",
          "state": {
            "_view_name": "HTMLView",
            "style": "IPY_MODEL_6609a63d4b2748b182a4f9f49d4f2eb8",
            "_dom_classes": [],
            "description": "",
            "_model_name": "HTMLModel",
            "placeholder": "​",
            "_view_module": "@jupyter-widgets/controls",
            "_model_module_version": "1.5.0",
            "value": " 26247/26247 [05:13&lt;00:00, 83.67it/s]",
            "_view_count": null,
            "_view_module_version": "1.5.0",
            "description_tooltip": null,
            "_model_module": "@jupyter-widgets/controls",
            "layout": "IPY_MODEL_36b74ea40a3c4ff39d7d0d7a1ee4add3"
          }
        },
        "748393dd86dc45338ee7e0c831d2b100": {
          "model_module": "@jupyter-widgets/controls",
          "model_name": "ProgressStyleModel",
          "state": {
            "_view_name": "StyleView",
            "_model_name": "ProgressStyleModel",
            "description_width": "initial",
            "_view_module": "@jupyter-widgets/base",
            "_model_module_version": "1.5.0",
            "_view_count": null,
            "_view_module_version": "1.2.0",
            "bar_color": null,
            "_model_module": "@jupyter-widgets/controls"
          }
        },
        "b9bb2d376a204cdc8e213708c0cff99a": {
          "model_module": "@jupyter-widgets/base",
          "model_name": "LayoutModel",
          "state": {
            "_view_name": "LayoutView",
            "grid_template_rows": null,
            "right": null,
            "justify_content": null,
            "_view_module": "@jupyter-widgets/base",
            "overflow": null,
            "_model_module_version": "1.2.0",
            "_view_count": null,
            "flex_flow": null,
            "width": null,
            "min_width": null,
            "border": null,
            "align_items": null,
            "bottom": null,
            "_model_module": "@jupyter-widgets/base",
            "top": null,
            "grid_column": null,
            "overflow_y": null,
            "overflow_x": null,
            "grid_auto_flow": null,
            "grid_area": null,
            "grid_template_columns": null,
            "flex": null,
            "_model_name": "LayoutModel",
            "justify_items": null,
            "grid_row": null,
            "max_height": null,
            "align_content": null,
            "visibility": null,
            "align_self": null,
            "height": null,
            "min_height": null,
            "padding": null,
            "grid_auto_rows": null,
            "grid_gap": null,
            "max_width": null,
            "order": null,
            "_view_module_version": "1.2.0",
            "grid_template_areas": null,
            "object_position": null,
            "object_fit": null,
            "grid_auto_columns": null,
            "margin": null,
            "display": null,
            "left": null
          }
        },
        "6609a63d4b2748b182a4f9f49d4f2eb8": {
          "model_module": "@jupyter-widgets/controls",
          "model_name": "DescriptionStyleModel",
          "state": {
            "_view_name": "StyleView",
            "_model_name": "DescriptionStyleModel",
            "description_width": "",
            "_view_module": "@jupyter-widgets/base",
            "_model_module_version": "1.5.0",
            "_view_count": null,
            "_view_module_version": "1.2.0",
            "_model_module": "@jupyter-widgets/controls"
          }
        },
        "36b74ea40a3c4ff39d7d0d7a1ee4add3": {
          "model_module": "@jupyter-widgets/base",
          "model_name": "LayoutModel",
          "state": {
            "_view_name": "LayoutView",
            "grid_template_rows": null,
            "right": null,
            "justify_content": null,
            "_view_module": "@jupyter-widgets/base",
            "overflow": null,
            "_model_module_version": "1.2.0",
            "_view_count": null,
            "flex_flow": null,
            "width": null,
            "min_width": null,
            "border": null,
            "align_items": null,
            "bottom": null,
            "_model_module": "@jupyter-widgets/base",
            "top": null,
            "grid_column": null,
            "overflow_y": null,
            "overflow_x": null,
            "grid_auto_flow": null,
            "grid_area": null,
            "grid_template_columns": null,
            "flex": null,
            "_model_name": "LayoutModel",
            "justify_items": null,
            "grid_row": null,
            "max_height": null,
            "align_content": null,
            "visibility": null,
            "align_self": null,
            "height": null,
            "min_height": null,
            "padding": null,
            "grid_auto_rows": null,
            "grid_gap": null,
            "max_width": null,
            "order": null,
            "_view_module_version": "1.2.0",
            "grid_template_areas": null,
            "object_position": null,
            "object_fit": null,
            "grid_auto_columns": null,
            "margin": null,
            "display": null,
            "left": null
          }
        },
        "8f99ca4352a8410f903ab952d8882b25": {
          "model_module": "@jupyter-widgets/controls",
          "model_name": "HBoxModel",
          "state": {
            "_view_name": "HBoxView",
            "_dom_classes": [],
            "_model_name": "HBoxModel",
            "_view_module": "@jupyter-widgets/controls",
            "_model_module_version": "1.5.0",
            "_view_count": null,
            "_view_module_version": "1.5.0",
            "box_style": "",
            "layout": "IPY_MODEL_3fa6eaa95aaf41e2bd1b72860651a8a1",
            "_model_module": "@jupyter-widgets/controls",
            "children": [
              "IPY_MODEL_d66585a711bc47c99dd31e0a2613ccf4",
              "IPY_MODEL_dd182b3734714f1d8de436d6c64fd455"
            ]
          }
        },
        "3fa6eaa95aaf41e2bd1b72860651a8a1": {
          "model_module": "@jupyter-widgets/base",
          "model_name": "LayoutModel",
          "state": {
            "_view_name": "LayoutView",
            "grid_template_rows": null,
            "right": null,
            "justify_content": null,
            "_view_module": "@jupyter-widgets/base",
            "overflow": null,
            "_model_module_version": "1.2.0",
            "_view_count": null,
            "flex_flow": null,
            "width": null,
            "min_width": null,
            "border": null,
            "align_items": null,
            "bottom": null,
            "_model_module": "@jupyter-widgets/base",
            "top": null,
            "grid_column": null,
            "overflow_y": null,
            "overflow_x": null,
            "grid_auto_flow": null,
            "grid_area": null,
            "grid_template_columns": null,
            "flex": null,
            "_model_name": "LayoutModel",
            "justify_items": null,
            "grid_row": null,
            "max_height": null,
            "align_content": null,
            "visibility": null,
            "align_self": null,
            "height": null,
            "min_height": null,
            "padding": null,
            "grid_auto_rows": null,
            "grid_gap": null,
            "max_width": null,
            "order": null,
            "_view_module_version": "1.2.0",
            "grid_template_areas": null,
            "object_position": null,
            "object_fit": null,
            "grid_auto_columns": null,
            "margin": null,
            "display": null,
            "left": null
          }
        },
        "d66585a711bc47c99dd31e0a2613ccf4": {
          "model_module": "@jupyter-widgets/controls",
          "model_name": "FloatProgressModel",
          "state": {
            "_view_name": "ProgressView",
            "style": "IPY_MODEL_6de3bc3c47ba4f0cbeddd0ad83670f89",
            "_dom_classes": [],
            "description": "100%",
            "_model_name": "FloatProgressModel",
            "bar_style": "success",
            "max": 26247,
            "_view_module": "@jupyter-widgets/controls",
            "_model_module_version": "1.5.0",
            "value": 26247,
            "_view_count": null,
            "_view_module_version": "1.5.0",
            "orientation": "horizontal",
            "min": 0,
            "description_tooltip": null,
            "_model_module": "@jupyter-widgets/controls",
            "layout": "IPY_MODEL_1e3eb366c4e84e1fbe0e6741bd211464"
          }
        },
        "dd182b3734714f1d8de436d6c64fd455": {
          "model_module": "@jupyter-widgets/controls",
          "model_name": "HTMLModel",
          "state": {
            "_view_name": "HTMLView",
            "style": "IPY_MODEL_d8b439a4ccb849c4939e76310b815448",
            "_dom_classes": [],
            "description": "",
            "_model_name": "HTMLModel",
            "placeholder": "​",
            "_view_module": "@jupyter-widgets/controls",
            "_model_module_version": "1.5.0",
            "value": " 26247/26247 [10:26&lt;00:00, 41.90it/s]",
            "_view_count": null,
            "_view_module_version": "1.5.0",
            "description_tooltip": null,
            "_model_module": "@jupyter-widgets/controls",
            "layout": "IPY_MODEL_bee8481af6d947adaace250888ef7cdc"
          }
        },
        "6de3bc3c47ba4f0cbeddd0ad83670f89": {
          "model_module": "@jupyter-widgets/controls",
          "model_name": "ProgressStyleModel",
          "state": {
            "_view_name": "StyleView",
            "_model_name": "ProgressStyleModel",
            "description_width": "initial",
            "_view_module": "@jupyter-widgets/base",
            "_model_module_version": "1.5.0",
            "_view_count": null,
            "_view_module_version": "1.2.0",
            "bar_color": null,
            "_model_module": "@jupyter-widgets/controls"
          }
        },
        "1e3eb366c4e84e1fbe0e6741bd211464": {
          "model_module": "@jupyter-widgets/base",
          "model_name": "LayoutModel",
          "state": {
            "_view_name": "LayoutView",
            "grid_template_rows": null,
            "right": null,
            "justify_content": null,
            "_view_module": "@jupyter-widgets/base",
            "overflow": null,
            "_model_module_version": "1.2.0",
            "_view_count": null,
            "flex_flow": null,
            "width": null,
            "min_width": null,
            "border": null,
            "align_items": null,
            "bottom": null,
            "_model_module": "@jupyter-widgets/base",
            "top": null,
            "grid_column": null,
            "overflow_y": null,
            "overflow_x": null,
            "grid_auto_flow": null,
            "grid_area": null,
            "grid_template_columns": null,
            "flex": null,
            "_model_name": "LayoutModel",
            "justify_items": null,
            "grid_row": null,
            "max_height": null,
            "align_content": null,
            "visibility": null,
            "align_self": null,
            "height": null,
            "min_height": null,
            "padding": null,
            "grid_auto_rows": null,
            "grid_gap": null,
            "max_width": null,
            "order": null,
            "_view_module_version": "1.2.0",
            "grid_template_areas": null,
            "object_position": null,
            "object_fit": null,
            "grid_auto_columns": null,
            "margin": null,
            "display": null,
            "left": null
          }
        },
        "d8b439a4ccb849c4939e76310b815448": {
          "model_module": "@jupyter-widgets/controls",
          "model_name": "DescriptionStyleModel",
          "state": {
            "_view_name": "StyleView",
            "_model_name": "DescriptionStyleModel",
            "description_width": "",
            "_view_module": "@jupyter-widgets/base",
            "_model_module_version": "1.5.0",
            "_view_count": null,
            "_view_module_version": "1.2.0",
            "_model_module": "@jupyter-widgets/controls"
          }
        },
        "bee8481af6d947adaace250888ef7cdc": {
          "model_module": "@jupyter-widgets/base",
          "model_name": "LayoutModel",
          "state": {
            "_view_name": "LayoutView",
            "grid_template_rows": null,
            "right": null,
            "justify_content": null,
            "_view_module": "@jupyter-widgets/base",
            "overflow": null,
            "_model_module_version": "1.2.0",
            "_view_count": null,
            "flex_flow": null,
            "width": null,
            "min_width": null,
            "border": null,
            "align_items": null,
            "bottom": null,
            "_model_module": "@jupyter-widgets/base",
            "top": null,
            "grid_column": null,
            "overflow_y": null,
            "overflow_x": null,
            "grid_auto_flow": null,
            "grid_area": null,
            "grid_template_columns": null,
            "flex": null,
            "_model_name": "LayoutModel",
            "justify_items": null,
            "grid_row": null,
            "max_height": null,
            "align_content": null,
            "visibility": null,
            "align_self": null,
            "height": null,
            "min_height": null,
            "padding": null,
            "grid_auto_rows": null,
            "grid_gap": null,
            "max_width": null,
            "order": null,
            "_view_module_version": "1.2.0",
            "grid_template_areas": null,
            "object_position": null,
            "object_fit": null,
            "grid_auto_columns": null,
            "margin": null,
            "display": null,
            "left": null
          }
        },
        "8dd194fe048442ebb4d764486de3dac1": {
          "model_module": "@jupyter-widgets/controls",
          "model_name": "HBoxModel",
          "state": {
            "_view_name": "HBoxView",
            "_dom_classes": [],
            "_model_name": "HBoxModel",
            "_view_module": "@jupyter-widgets/controls",
            "_model_module_version": "1.5.0",
            "_view_count": null,
            "_view_module_version": "1.5.0",
            "box_style": "",
            "layout": "IPY_MODEL_ef352a4a42b34b4685201ec38abd1eb1",
            "_model_module": "@jupyter-widgets/controls",
            "children": [
              "IPY_MODEL_b7d543d492b74468985765bc3cd111bf",
              "IPY_MODEL_b74fc6a4945b43e5a9c505a56ad903db"
            ]
          }
        },
        "ef352a4a42b34b4685201ec38abd1eb1": {
          "model_module": "@jupyter-widgets/base",
          "model_name": "LayoutModel",
          "state": {
            "_view_name": "LayoutView",
            "grid_template_rows": null,
            "right": null,
            "justify_content": null,
            "_view_module": "@jupyter-widgets/base",
            "overflow": null,
            "_model_module_version": "1.2.0",
            "_view_count": null,
            "flex_flow": null,
            "width": null,
            "min_width": null,
            "border": null,
            "align_items": null,
            "bottom": null,
            "_model_module": "@jupyter-widgets/base",
            "top": null,
            "grid_column": null,
            "overflow_y": null,
            "overflow_x": null,
            "grid_auto_flow": null,
            "grid_area": null,
            "grid_template_columns": null,
            "flex": null,
            "_model_name": "LayoutModel",
            "justify_items": null,
            "grid_row": null,
            "max_height": null,
            "align_content": null,
            "visibility": null,
            "align_self": null,
            "height": null,
            "min_height": null,
            "padding": null,
            "grid_auto_rows": null,
            "grid_gap": null,
            "max_width": null,
            "order": null,
            "_view_module_version": "1.2.0",
            "grid_template_areas": null,
            "object_position": null,
            "object_fit": null,
            "grid_auto_columns": null,
            "margin": null,
            "display": null,
            "left": null
          }
        },
        "b7d543d492b74468985765bc3cd111bf": {
          "model_module": "@jupyter-widgets/controls",
          "model_name": "FloatProgressModel",
          "state": {
            "_view_name": "ProgressView",
            "style": "IPY_MODEL_5a156cb8e13f4fdf909569d3c101a7dc",
            "_dom_classes": [],
            "description": "100%",
            "_model_name": "FloatProgressModel",
            "bar_style": "success",
            "max": 26247,
            "_view_module": "@jupyter-widgets/controls",
            "_model_module_version": "1.5.0",
            "value": 26247,
            "_view_count": null,
            "_view_module_version": "1.5.0",
            "orientation": "horizontal",
            "min": 0,
            "description_tooltip": null,
            "_model_module": "@jupyter-widgets/controls",
            "layout": "IPY_MODEL_8194e25e4bde4e5593c0628b3a91901f"
          }
        },
        "b74fc6a4945b43e5a9c505a56ad903db": {
          "model_module": "@jupyter-widgets/controls",
          "model_name": "HTMLModel",
          "state": {
            "_view_name": "HTMLView",
            "style": "IPY_MODEL_13128af1f64a44f98259151c06b83b30",
            "_dom_classes": [],
            "description": "",
            "_model_name": "HTMLModel",
            "placeholder": "​",
            "_view_module": "@jupyter-widgets/controls",
            "_model_module_version": "1.5.0",
            "value": " 26247/26247 [05:13&lt;00:00, 83.85it/s]",
            "_view_count": null,
            "_view_module_version": "1.5.0",
            "description_tooltip": null,
            "_model_module": "@jupyter-widgets/controls",
            "layout": "IPY_MODEL_aec5e8613a68486a8f6b57124719a90c"
          }
        },
        "5a156cb8e13f4fdf909569d3c101a7dc": {
          "model_module": "@jupyter-widgets/controls",
          "model_name": "ProgressStyleModel",
          "state": {
            "_view_name": "StyleView",
            "_model_name": "ProgressStyleModel",
            "description_width": "initial",
            "_view_module": "@jupyter-widgets/base",
            "_model_module_version": "1.5.0",
            "_view_count": null,
            "_view_module_version": "1.2.0",
            "bar_color": null,
            "_model_module": "@jupyter-widgets/controls"
          }
        },
        "8194e25e4bde4e5593c0628b3a91901f": {
          "model_module": "@jupyter-widgets/base",
          "model_name": "LayoutModel",
          "state": {
            "_view_name": "LayoutView",
            "grid_template_rows": null,
            "right": null,
            "justify_content": null,
            "_view_module": "@jupyter-widgets/base",
            "overflow": null,
            "_model_module_version": "1.2.0",
            "_view_count": null,
            "flex_flow": null,
            "width": null,
            "min_width": null,
            "border": null,
            "align_items": null,
            "bottom": null,
            "_model_module": "@jupyter-widgets/base",
            "top": null,
            "grid_column": null,
            "overflow_y": null,
            "overflow_x": null,
            "grid_auto_flow": null,
            "grid_area": null,
            "grid_template_columns": null,
            "flex": null,
            "_model_name": "LayoutModel",
            "justify_items": null,
            "grid_row": null,
            "max_height": null,
            "align_content": null,
            "visibility": null,
            "align_self": null,
            "height": null,
            "min_height": null,
            "padding": null,
            "grid_auto_rows": null,
            "grid_gap": null,
            "max_width": null,
            "order": null,
            "_view_module_version": "1.2.0",
            "grid_template_areas": null,
            "object_position": null,
            "object_fit": null,
            "grid_auto_columns": null,
            "margin": null,
            "display": null,
            "left": null
          }
        },
        "13128af1f64a44f98259151c06b83b30": {
          "model_module": "@jupyter-widgets/controls",
          "model_name": "DescriptionStyleModel",
          "state": {
            "_view_name": "StyleView",
            "_model_name": "DescriptionStyleModel",
            "description_width": "",
            "_view_module": "@jupyter-widgets/base",
            "_model_module_version": "1.5.0",
            "_view_count": null,
            "_view_module_version": "1.2.0",
            "_model_module": "@jupyter-widgets/controls"
          }
        },
        "aec5e8613a68486a8f6b57124719a90c": {
          "model_module": "@jupyter-widgets/base",
          "model_name": "LayoutModel",
          "state": {
            "_view_name": "LayoutView",
            "grid_template_rows": null,
            "right": null,
            "justify_content": null,
            "_view_module": "@jupyter-widgets/base",
            "overflow": null,
            "_model_module_version": "1.2.0",
            "_view_count": null,
            "flex_flow": null,
            "width": null,
            "min_width": null,
            "border": null,
            "align_items": null,
            "bottom": null,
            "_model_module": "@jupyter-widgets/base",
            "top": null,
            "grid_column": null,
            "overflow_y": null,
            "overflow_x": null,
            "grid_auto_flow": null,
            "grid_area": null,
            "grid_template_columns": null,
            "flex": null,
            "_model_name": "LayoutModel",
            "justify_items": null,
            "grid_row": null,
            "max_height": null,
            "align_content": null,
            "visibility": null,
            "align_self": null,
            "height": null,
            "min_height": null,
            "padding": null,
            "grid_auto_rows": null,
            "grid_gap": null,
            "max_width": null,
            "order": null,
            "_view_module_version": "1.2.0",
            "grid_template_areas": null,
            "object_position": null,
            "object_fit": null,
            "grid_auto_columns": null,
            "margin": null,
            "display": null,
            "left": null
          }
        },
        "6351d8544f0c426e8e4dfc09638b1c93": {
          "model_module": "@jupyter-widgets/controls",
          "model_name": "HBoxModel",
          "state": {
            "_view_name": "HBoxView",
            "_dom_classes": [],
            "_model_name": "HBoxModel",
            "_view_module": "@jupyter-widgets/controls",
            "_model_module_version": "1.5.0",
            "_view_count": null,
            "_view_module_version": "1.5.0",
            "box_style": "",
            "layout": "IPY_MODEL_e452d167dfe446b394a6ef4f8397942c",
            "_model_module": "@jupyter-widgets/controls",
            "children": [
              "IPY_MODEL_36eb2044c5db4d2c9611342ea93e198f",
              "IPY_MODEL_74fa18fb2bb54d88abc9236b1490277b"
            ]
          }
        },
        "e452d167dfe446b394a6ef4f8397942c": {
          "model_module": "@jupyter-widgets/base",
          "model_name": "LayoutModel",
          "state": {
            "_view_name": "LayoutView",
            "grid_template_rows": null,
            "right": null,
            "justify_content": null,
            "_view_module": "@jupyter-widgets/base",
            "overflow": null,
            "_model_module_version": "1.2.0",
            "_view_count": null,
            "flex_flow": null,
            "width": null,
            "min_width": null,
            "border": null,
            "align_items": null,
            "bottom": null,
            "_model_module": "@jupyter-widgets/base",
            "top": null,
            "grid_column": null,
            "overflow_y": null,
            "overflow_x": null,
            "grid_auto_flow": null,
            "grid_area": null,
            "grid_template_columns": null,
            "flex": null,
            "_model_name": "LayoutModel",
            "justify_items": null,
            "grid_row": null,
            "max_height": null,
            "align_content": null,
            "visibility": null,
            "align_self": null,
            "height": null,
            "min_height": null,
            "padding": null,
            "grid_auto_rows": null,
            "grid_gap": null,
            "max_width": null,
            "order": null,
            "_view_module_version": "1.2.0",
            "grid_template_areas": null,
            "object_position": null,
            "object_fit": null,
            "grid_auto_columns": null,
            "margin": null,
            "display": null,
            "left": null
          }
        },
        "36eb2044c5db4d2c9611342ea93e198f": {
          "model_module": "@jupyter-widgets/controls",
          "model_name": "FloatProgressModel",
          "state": {
            "_view_name": "ProgressView",
            "style": "IPY_MODEL_850b98452e7d4c72ac53d070d846b59f",
            "_dom_classes": [],
            "description": "100%",
            "_model_name": "FloatProgressModel",
            "bar_style": "success",
            "max": 26247,
            "_view_module": "@jupyter-widgets/controls",
            "_model_module_version": "1.5.0",
            "value": 26247,
            "_view_count": null,
            "_view_module_version": "1.5.0",
            "orientation": "horizontal",
            "min": 0,
            "description_tooltip": null,
            "_model_module": "@jupyter-widgets/controls",
            "layout": "IPY_MODEL_138c6eb0fe5744fd9c6a3a813ebfd5dd"
          }
        },
        "74fa18fb2bb54d88abc9236b1490277b": {
          "model_module": "@jupyter-widgets/controls",
          "model_name": "HTMLModel",
          "state": {
            "_view_name": "HTMLView",
            "style": "IPY_MODEL_1642bde352ef4da8b9018b3743b7171a",
            "_dom_classes": [],
            "description": "",
            "_model_name": "HTMLModel",
            "placeholder": "​",
            "_view_module": "@jupyter-widgets/controls",
            "_model_module_version": "1.5.0",
            "value": " 26247/26247 [00:05&lt;00:00, 4732.58it/s]",
            "_view_count": null,
            "_view_module_version": "1.5.0",
            "description_tooltip": null,
            "_model_module": "@jupyter-widgets/controls",
            "layout": "IPY_MODEL_c31ad082907a4b148339159d297c59f7"
          }
        },
        "850b98452e7d4c72ac53d070d846b59f": {
          "model_module": "@jupyter-widgets/controls",
          "model_name": "ProgressStyleModel",
          "state": {
            "_view_name": "StyleView",
            "_model_name": "ProgressStyleModel",
            "description_width": "initial",
            "_view_module": "@jupyter-widgets/base",
            "_model_module_version": "1.5.0",
            "_view_count": null,
            "_view_module_version": "1.2.0",
            "bar_color": null,
            "_model_module": "@jupyter-widgets/controls"
          }
        },
        "138c6eb0fe5744fd9c6a3a813ebfd5dd": {
          "model_module": "@jupyter-widgets/base",
          "model_name": "LayoutModel",
          "state": {
            "_view_name": "LayoutView",
            "grid_template_rows": null,
            "right": null,
            "justify_content": null,
            "_view_module": "@jupyter-widgets/base",
            "overflow": null,
            "_model_module_version": "1.2.0",
            "_view_count": null,
            "flex_flow": null,
            "width": null,
            "min_width": null,
            "border": null,
            "align_items": null,
            "bottom": null,
            "_model_module": "@jupyter-widgets/base",
            "top": null,
            "grid_column": null,
            "overflow_y": null,
            "overflow_x": null,
            "grid_auto_flow": null,
            "grid_area": null,
            "grid_template_columns": null,
            "flex": null,
            "_model_name": "LayoutModel",
            "justify_items": null,
            "grid_row": null,
            "max_height": null,
            "align_content": null,
            "visibility": null,
            "align_self": null,
            "height": null,
            "min_height": null,
            "padding": null,
            "grid_auto_rows": null,
            "grid_gap": null,
            "max_width": null,
            "order": null,
            "_view_module_version": "1.2.0",
            "grid_template_areas": null,
            "object_position": null,
            "object_fit": null,
            "grid_auto_columns": null,
            "margin": null,
            "display": null,
            "left": null
          }
        },
        "1642bde352ef4da8b9018b3743b7171a": {
          "model_module": "@jupyter-widgets/controls",
          "model_name": "DescriptionStyleModel",
          "state": {
            "_view_name": "StyleView",
            "_model_name": "DescriptionStyleModel",
            "description_width": "",
            "_view_module": "@jupyter-widgets/base",
            "_model_module_version": "1.5.0",
            "_view_count": null,
            "_view_module_version": "1.2.0",
            "_model_module": "@jupyter-widgets/controls"
          }
        },
        "c31ad082907a4b148339159d297c59f7": {
          "model_module": "@jupyter-widgets/base",
          "model_name": "LayoutModel",
          "state": {
            "_view_name": "LayoutView",
            "grid_template_rows": null,
            "right": null,
            "justify_content": null,
            "_view_module": "@jupyter-widgets/base",
            "overflow": null,
            "_model_module_version": "1.2.0",
            "_view_count": null,
            "flex_flow": null,
            "width": null,
            "min_width": null,
            "border": null,
            "align_items": null,
            "bottom": null,
            "_model_module": "@jupyter-widgets/base",
            "top": null,
            "grid_column": null,
            "overflow_y": null,
            "overflow_x": null,
            "grid_auto_flow": null,
            "grid_area": null,
            "grid_template_columns": null,
            "flex": null,
            "_model_name": "LayoutModel",
            "justify_items": null,
            "grid_row": null,
            "max_height": null,
            "align_content": null,
            "visibility": null,
            "align_self": null,
            "height": null,
            "min_height": null,
            "padding": null,
            "grid_auto_rows": null,
            "grid_gap": null,
            "max_width": null,
            "order": null,
            "_view_module_version": "1.2.0",
            "grid_template_areas": null,
            "object_position": null,
            "object_fit": null,
            "grid_auto_columns": null,
            "margin": null,
            "display": null,
            "left": null
          }
        },
        "f66c8be0d9444d78b18ffd44337ca744": {
          "model_module": "@jupyter-widgets/controls",
          "model_name": "HBoxModel",
          "state": {
            "_view_name": "HBoxView",
            "_dom_classes": [],
            "_model_name": "HBoxModel",
            "_view_module": "@jupyter-widgets/controls",
            "_model_module_version": "1.5.0",
            "_view_count": null,
            "_view_module_version": "1.5.0",
            "box_style": "",
            "layout": "IPY_MODEL_47c47e793279414a993a4de8ebba9e24",
            "_model_module": "@jupyter-widgets/controls",
            "children": [
              "IPY_MODEL_c0daef04eb4e45c085e1cdaa4bcb0952",
              "IPY_MODEL_bfac54a7febd46f0b48d1635d4d7ea60"
            ]
          }
        },
        "47c47e793279414a993a4de8ebba9e24": {
          "model_module": "@jupyter-widgets/base",
          "model_name": "LayoutModel",
          "state": {
            "_view_name": "LayoutView",
            "grid_template_rows": null,
            "right": null,
            "justify_content": null,
            "_view_module": "@jupyter-widgets/base",
            "overflow": null,
            "_model_module_version": "1.2.0",
            "_view_count": null,
            "flex_flow": null,
            "width": null,
            "min_width": null,
            "border": null,
            "align_items": null,
            "bottom": null,
            "_model_module": "@jupyter-widgets/base",
            "top": null,
            "grid_column": null,
            "overflow_y": null,
            "overflow_x": null,
            "grid_auto_flow": null,
            "grid_area": null,
            "grid_template_columns": null,
            "flex": null,
            "_model_name": "LayoutModel",
            "justify_items": null,
            "grid_row": null,
            "max_height": null,
            "align_content": null,
            "visibility": null,
            "align_self": null,
            "height": null,
            "min_height": null,
            "padding": null,
            "grid_auto_rows": null,
            "grid_gap": null,
            "max_width": null,
            "order": null,
            "_view_module_version": "1.2.0",
            "grid_template_areas": null,
            "object_position": null,
            "object_fit": null,
            "grid_auto_columns": null,
            "margin": null,
            "display": null,
            "left": null
          }
        },
        "c0daef04eb4e45c085e1cdaa4bcb0952": {
          "model_module": "@jupyter-widgets/controls",
          "model_name": "FloatProgressModel",
          "state": {
            "_view_name": "ProgressView",
            "style": "IPY_MODEL_50f9b080486744ef926864b254a5cd43",
            "_dom_classes": [],
            "description": "100%",
            "_model_name": "FloatProgressModel",
            "bar_style": "success",
            "max": 26247,
            "_view_module": "@jupyter-widgets/controls",
            "_model_module_version": "1.5.0",
            "value": 26247,
            "_view_count": null,
            "_view_module_version": "1.5.0",
            "orientation": "horizontal",
            "min": 0,
            "description_tooltip": null,
            "_model_module": "@jupyter-widgets/controls",
            "layout": "IPY_MODEL_8d5ba8faf072480d9fef750f44898522"
          }
        },
        "bfac54a7febd46f0b48d1635d4d7ea60": {
          "model_module": "@jupyter-widgets/controls",
          "model_name": "HTMLModel",
          "state": {
            "_view_name": "HTMLView",
            "style": "IPY_MODEL_399c94f267d040a9b63d462160f9625a",
            "_dom_classes": [],
            "description": "",
            "_model_name": "HTMLModel",
            "placeholder": "​",
            "_view_module": "@jupyter-widgets/controls",
            "_model_module_version": "1.5.0",
            "value": " 26247/26247 [00:06&lt;00:00, 4170.93it/s]",
            "_view_count": null,
            "_view_module_version": "1.5.0",
            "description_tooltip": null,
            "_model_module": "@jupyter-widgets/controls",
            "layout": "IPY_MODEL_5444baf8d375498eb25e72b31a28b0e8"
          }
        },
        "50f9b080486744ef926864b254a5cd43": {
          "model_module": "@jupyter-widgets/controls",
          "model_name": "ProgressStyleModel",
          "state": {
            "_view_name": "StyleView",
            "_model_name": "ProgressStyleModel",
            "description_width": "initial",
            "_view_module": "@jupyter-widgets/base",
            "_model_module_version": "1.5.0",
            "_view_count": null,
            "_view_module_version": "1.2.0",
            "bar_color": null,
            "_model_module": "@jupyter-widgets/controls"
          }
        },
        "8d5ba8faf072480d9fef750f44898522": {
          "model_module": "@jupyter-widgets/base",
          "model_name": "LayoutModel",
          "state": {
            "_view_name": "LayoutView",
            "grid_template_rows": null,
            "right": null,
            "justify_content": null,
            "_view_module": "@jupyter-widgets/base",
            "overflow": null,
            "_model_module_version": "1.2.0",
            "_view_count": null,
            "flex_flow": null,
            "width": null,
            "min_width": null,
            "border": null,
            "align_items": null,
            "bottom": null,
            "_model_module": "@jupyter-widgets/base",
            "top": null,
            "grid_column": null,
            "overflow_y": null,
            "overflow_x": null,
            "grid_auto_flow": null,
            "grid_area": null,
            "grid_template_columns": null,
            "flex": null,
            "_model_name": "LayoutModel",
            "justify_items": null,
            "grid_row": null,
            "max_height": null,
            "align_content": null,
            "visibility": null,
            "align_self": null,
            "height": null,
            "min_height": null,
            "padding": null,
            "grid_auto_rows": null,
            "grid_gap": null,
            "max_width": null,
            "order": null,
            "_view_module_version": "1.2.0",
            "grid_template_areas": null,
            "object_position": null,
            "object_fit": null,
            "grid_auto_columns": null,
            "margin": null,
            "display": null,
            "left": null
          }
        },
        "399c94f267d040a9b63d462160f9625a": {
          "model_module": "@jupyter-widgets/controls",
          "model_name": "DescriptionStyleModel",
          "state": {
            "_view_name": "StyleView",
            "_model_name": "DescriptionStyleModel",
            "description_width": "",
            "_view_module": "@jupyter-widgets/base",
            "_model_module_version": "1.5.0",
            "_view_count": null,
            "_view_module_version": "1.2.0",
            "_model_module": "@jupyter-widgets/controls"
          }
        },
        "5444baf8d375498eb25e72b31a28b0e8": {
          "model_module": "@jupyter-widgets/base",
          "model_name": "LayoutModel",
          "state": {
            "_view_name": "LayoutView",
            "grid_template_rows": null,
            "right": null,
            "justify_content": null,
            "_view_module": "@jupyter-widgets/base",
            "overflow": null,
            "_model_module_version": "1.2.0",
            "_view_count": null,
            "flex_flow": null,
            "width": null,
            "min_width": null,
            "border": null,
            "align_items": null,
            "bottom": null,
            "_model_module": "@jupyter-widgets/base",
            "top": null,
            "grid_column": null,
            "overflow_y": null,
            "overflow_x": null,
            "grid_auto_flow": null,
            "grid_area": null,
            "grid_template_columns": null,
            "flex": null,
            "_model_name": "LayoutModel",
            "justify_items": null,
            "grid_row": null,
            "max_height": null,
            "align_content": null,
            "visibility": null,
            "align_self": null,
            "height": null,
            "min_height": null,
            "padding": null,
            "grid_auto_rows": null,
            "grid_gap": null,
            "max_width": null,
            "order": null,
            "_view_module_version": "1.2.0",
            "grid_template_areas": null,
            "object_position": null,
            "object_fit": null,
            "grid_auto_columns": null,
            "margin": null,
            "display": null,
            "left": null
          }
        },
        "108cc16abe8e4435a3fa7256ec050a24": {
          "model_module": "@jupyter-widgets/controls",
          "model_name": "HBoxModel",
          "state": {
            "_view_name": "HBoxView",
            "_dom_classes": [],
            "_model_name": "HBoxModel",
            "_view_module": "@jupyter-widgets/controls",
            "_model_module_version": "1.5.0",
            "_view_count": null,
            "_view_module_version": "1.5.0",
            "box_style": "",
            "layout": "IPY_MODEL_ef2e3e2fe6fe4c6fa59c619796372203",
            "_model_module": "@jupyter-widgets/controls",
            "children": [
              "IPY_MODEL_6f54afc5ed194633990bc3b319d5a0e7",
              "IPY_MODEL_4764f31ec4d74090a4d2baefa0db0e25"
            ]
          }
        },
        "ef2e3e2fe6fe4c6fa59c619796372203": {
          "model_module": "@jupyter-widgets/base",
          "model_name": "LayoutModel",
          "state": {
            "_view_name": "LayoutView",
            "grid_template_rows": null,
            "right": null,
            "justify_content": null,
            "_view_module": "@jupyter-widgets/base",
            "overflow": null,
            "_model_module_version": "1.2.0",
            "_view_count": null,
            "flex_flow": null,
            "width": null,
            "min_width": null,
            "border": null,
            "align_items": null,
            "bottom": null,
            "_model_module": "@jupyter-widgets/base",
            "top": null,
            "grid_column": null,
            "overflow_y": null,
            "overflow_x": null,
            "grid_auto_flow": null,
            "grid_area": null,
            "grid_template_columns": null,
            "flex": null,
            "_model_name": "LayoutModel",
            "justify_items": null,
            "grid_row": null,
            "max_height": null,
            "align_content": null,
            "visibility": null,
            "align_self": null,
            "height": null,
            "min_height": null,
            "padding": null,
            "grid_auto_rows": null,
            "grid_gap": null,
            "max_width": null,
            "order": null,
            "_view_module_version": "1.2.0",
            "grid_template_areas": null,
            "object_position": null,
            "object_fit": null,
            "grid_auto_columns": null,
            "margin": null,
            "display": null,
            "left": null
          }
        },
        "6f54afc5ed194633990bc3b319d5a0e7": {
          "model_module": "@jupyter-widgets/controls",
          "model_name": "FloatProgressModel",
          "state": {
            "_view_name": "ProgressView",
            "style": "IPY_MODEL_6b4bbd90c9a74886b02f939fb7ec802f",
            "_dom_classes": [],
            "description": "100%",
            "_model_name": "FloatProgressModel",
            "bar_style": "success",
            "max": 26247,
            "_view_module": "@jupyter-widgets/controls",
            "_model_module_version": "1.5.0",
            "value": 26247,
            "_view_count": null,
            "_view_module_version": "1.5.0",
            "orientation": "horizontal",
            "min": 0,
            "description_tooltip": null,
            "_model_module": "@jupyter-widgets/controls",
            "layout": "IPY_MODEL_b008f88cfc3a4e41b59dfe0d05c511c4"
          }
        },
        "4764f31ec4d74090a4d2baefa0db0e25": {
          "model_module": "@jupyter-widgets/controls",
          "model_name": "HTMLModel",
          "state": {
            "_view_name": "HTMLView",
            "style": "IPY_MODEL_9e5ae200c9234086898612d719e62599",
            "_dom_classes": [],
            "description": "",
            "_model_name": "HTMLModel",
            "placeholder": "​",
            "_view_module": "@jupyter-widgets/controls",
            "_model_module_version": "1.5.0",
            "value": " 26247/26247 [00:05&lt;00:00, 4581.07it/s]",
            "_view_count": null,
            "_view_module_version": "1.5.0",
            "description_tooltip": null,
            "_model_module": "@jupyter-widgets/controls",
            "layout": "IPY_MODEL_40cb6bb509bd4e4eba34824a89393c0b"
          }
        },
        "6b4bbd90c9a74886b02f939fb7ec802f": {
          "model_module": "@jupyter-widgets/controls",
          "model_name": "ProgressStyleModel",
          "state": {
            "_view_name": "StyleView",
            "_model_name": "ProgressStyleModel",
            "description_width": "initial",
            "_view_module": "@jupyter-widgets/base",
            "_model_module_version": "1.5.0",
            "_view_count": null,
            "_view_module_version": "1.2.0",
            "bar_color": null,
            "_model_module": "@jupyter-widgets/controls"
          }
        },
        "b008f88cfc3a4e41b59dfe0d05c511c4": {
          "model_module": "@jupyter-widgets/base",
          "model_name": "LayoutModel",
          "state": {
            "_view_name": "LayoutView",
            "grid_template_rows": null,
            "right": null,
            "justify_content": null,
            "_view_module": "@jupyter-widgets/base",
            "overflow": null,
            "_model_module_version": "1.2.0",
            "_view_count": null,
            "flex_flow": null,
            "width": null,
            "min_width": null,
            "border": null,
            "align_items": null,
            "bottom": null,
            "_model_module": "@jupyter-widgets/base",
            "top": null,
            "grid_column": null,
            "overflow_y": null,
            "overflow_x": null,
            "grid_auto_flow": null,
            "grid_area": null,
            "grid_template_columns": null,
            "flex": null,
            "_model_name": "LayoutModel",
            "justify_items": null,
            "grid_row": null,
            "max_height": null,
            "align_content": null,
            "visibility": null,
            "align_self": null,
            "height": null,
            "min_height": null,
            "padding": null,
            "grid_auto_rows": null,
            "grid_gap": null,
            "max_width": null,
            "order": null,
            "_view_module_version": "1.2.0",
            "grid_template_areas": null,
            "object_position": null,
            "object_fit": null,
            "grid_auto_columns": null,
            "margin": null,
            "display": null,
            "left": null
          }
        },
        "9e5ae200c9234086898612d719e62599": {
          "model_module": "@jupyter-widgets/controls",
          "model_name": "DescriptionStyleModel",
          "state": {
            "_view_name": "StyleView",
            "_model_name": "DescriptionStyleModel",
            "description_width": "",
            "_view_module": "@jupyter-widgets/base",
            "_model_module_version": "1.5.0",
            "_view_count": null,
            "_view_module_version": "1.2.0",
            "_model_module": "@jupyter-widgets/controls"
          }
        },
        "40cb6bb509bd4e4eba34824a89393c0b": {
          "model_module": "@jupyter-widgets/base",
          "model_name": "LayoutModel",
          "state": {
            "_view_name": "LayoutView",
            "grid_template_rows": null,
            "right": null,
            "justify_content": null,
            "_view_module": "@jupyter-widgets/base",
            "overflow": null,
            "_model_module_version": "1.2.0",
            "_view_count": null,
            "flex_flow": null,
            "width": null,
            "min_width": null,
            "border": null,
            "align_items": null,
            "bottom": null,
            "_model_module": "@jupyter-widgets/base",
            "top": null,
            "grid_column": null,
            "overflow_y": null,
            "overflow_x": null,
            "grid_auto_flow": null,
            "grid_area": null,
            "grid_template_columns": null,
            "flex": null,
            "_model_name": "LayoutModel",
            "justify_items": null,
            "grid_row": null,
            "max_height": null,
            "align_content": null,
            "visibility": null,
            "align_self": null,
            "height": null,
            "min_height": null,
            "padding": null,
            "grid_auto_rows": null,
            "grid_gap": null,
            "max_width": null,
            "order": null,
            "_view_module_version": "1.2.0",
            "grid_template_areas": null,
            "object_position": null,
            "object_fit": null,
            "grid_auto_columns": null,
            "margin": null,
            "display": null,
            "left": null
          }
        },
        "bbb84960528d49f3b34928850326d9ee": {
          "model_module": "@jupyter-widgets/controls",
          "model_name": "HBoxModel",
          "state": {
            "_view_name": "HBoxView",
            "_dom_classes": [],
            "_model_name": "HBoxModel",
            "_view_module": "@jupyter-widgets/controls",
            "_model_module_version": "1.5.0",
            "_view_count": null,
            "_view_module_version": "1.5.0",
            "box_style": "",
            "layout": "IPY_MODEL_b81ed8611c7b41c3bdd160072be20913",
            "_model_module": "@jupyter-widgets/controls",
            "children": [
              "IPY_MODEL_d43750d9c4e14ae3a675d8035690a585",
              "IPY_MODEL_3e2c990519814ae5a2866b195b39b65b"
            ]
          }
        },
        "b81ed8611c7b41c3bdd160072be20913": {
          "model_module": "@jupyter-widgets/base",
          "model_name": "LayoutModel",
          "state": {
            "_view_name": "LayoutView",
            "grid_template_rows": null,
            "right": null,
            "justify_content": null,
            "_view_module": "@jupyter-widgets/base",
            "overflow": null,
            "_model_module_version": "1.2.0",
            "_view_count": null,
            "flex_flow": null,
            "width": null,
            "min_width": null,
            "border": null,
            "align_items": null,
            "bottom": null,
            "_model_module": "@jupyter-widgets/base",
            "top": null,
            "grid_column": null,
            "overflow_y": null,
            "overflow_x": null,
            "grid_auto_flow": null,
            "grid_area": null,
            "grid_template_columns": null,
            "flex": null,
            "_model_name": "LayoutModel",
            "justify_items": null,
            "grid_row": null,
            "max_height": null,
            "align_content": null,
            "visibility": null,
            "align_self": null,
            "height": null,
            "min_height": null,
            "padding": null,
            "grid_auto_rows": null,
            "grid_gap": null,
            "max_width": null,
            "order": null,
            "_view_module_version": "1.2.0",
            "grid_template_areas": null,
            "object_position": null,
            "object_fit": null,
            "grid_auto_columns": null,
            "margin": null,
            "display": null,
            "left": null
          }
        },
        "d43750d9c4e14ae3a675d8035690a585": {
          "model_module": "@jupyter-widgets/controls",
          "model_name": "FloatProgressModel",
          "state": {
            "_view_name": "ProgressView",
            "style": "IPY_MODEL_ddf74fb83fee4a59a5b6b5102dc67779",
            "_dom_classes": [],
            "description": "100%",
            "_model_name": "FloatProgressModel",
            "bar_style": "success",
            "max": 26247,
            "_view_module": "@jupyter-widgets/controls",
            "_model_module_version": "1.5.0",
            "value": 26247,
            "_view_count": null,
            "_view_module_version": "1.5.0",
            "orientation": "horizontal",
            "min": 0,
            "description_tooltip": null,
            "_model_module": "@jupyter-widgets/controls",
            "layout": "IPY_MODEL_bf8f503371c249f484f0f8067801668f"
          }
        },
        "3e2c990519814ae5a2866b195b39b65b": {
          "model_module": "@jupyter-widgets/controls",
          "model_name": "HTMLModel",
          "state": {
            "_view_name": "HTMLView",
            "style": "IPY_MODEL_cbc209cb1dfd470b8b0262ff53a20090",
            "_dom_classes": [],
            "description": "",
            "_model_name": "HTMLModel",
            "placeholder": "​",
            "_view_module": "@jupyter-widgets/controls",
            "_model_module_version": "1.5.0",
            "value": " 26247/26247 [00:36&lt;00:00, 718.47it/s]",
            "_view_count": null,
            "_view_module_version": "1.5.0",
            "description_tooltip": null,
            "_model_module": "@jupyter-widgets/controls",
            "layout": "IPY_MODEL_fbf73bb605a14f31ab70f510ede49a5d"
          }
        },
        "ddf74fb83fee4a59a5b6b5102dc67779": {
          "model_module": "@jupyter-widgets/controls",
          "model_name": "ProgressStyleModel",
          "state": {
            "_view_name": "StyleView",
            "_model_name": "ProgressStyleModel",
            "description_width": "initial",
            "_view_module": "@jupyter-widgets/base",
            "_model_module_version": "1.5.0",
            "_view_count": null,
            "_view_module_version": "1.2.0",
            "bar_color": null,
            "_model_module": "@jupyter-widgets/controls"
          }
        },
        "bf8f503371c249f484f0f8067801668f": {
          "model_module": "@jupyter-widgets/base",
          "model_name": "LayoutModel",
          "state": {
            "_view_name": "LayoutView",
            "grid_template_rows": null,
            "right": null,
            "justify_content": null,
            "_view_module": "@jupyter-widgets/base",
            "overflow": null,
            "_model_module_version": "1.2.0",
            "_view_count": null,
            "flex_flow": null,
            "width": null,
            "min_width": null,
            "border": null,
            "align_items": null,
            "bottom": null,
            "_model_module": "@jupyter-widgets/base",
            "top": null,
            "grid_column": null,
            "overflow_y": null,
            "overflow_x": null,
            "grid_auto_flow": null,
            "grid_area": null,
            "grid_template_columns": null,
            "flex": null,
            "_model_name": "LayoutModel",
            "justify_items": null,
            "grid_row": null,
            "max_height": null,
            "align_content": null,
            "visibility": null,
            "align_self": null,
            "height": null,
            "min_height": null,
            "padding": null,
            "grid_auto_rows": null,
            "grid_gap": null,
            "max_width": null,
            "order": null,
            "_view_module_version": "1.2.0",
            "grid_template_areas": null,
            "object_position": null,
            "object_fit": null,
            "grid_auto_columns": null,
            "margin": null,
            "display": null,
            "left": null
          }
        },
        "cbc209cb1dfd470b8b0262ff53a20090": {
          "model_module": "@jupyter-widgets/controls",
          "model_name": "DescriptionStyleModel",
          "state": {
            "_view_name": "StyleView",
            "_model_name": "DescriptionStyleModel",
            "description_width": "",
            "_view_module": "@jupyter-widgets/base",
            "_model_module_version": "1.5.0",
            "_view_count": null,
            "_view_module_version": "1.2.0",
            "_model_module": "@jupyter-widgets/controls"
          }
        },
        "fbf73bb605a14f31ab70f510ede49a5d": {
          "model_module": "@jupyter-widgets/base",
          "model_name": "LayoutModel",
          "state": {
            "_view_name": "LayoutView",
            "grid_template_rows": null,
            "right": null,
            "justify_content": null,
            "_view_module": "@jupyter-widgets/base",
            "overflow": null,
            "_model_module_version": "1.2.0",
            "_view_count": null,
            "flex_flow": null,
            "width": null,
            "min_width": null,
            "border": null,
            "align_items": null,
            "bottom": null,
            "_model_module": "@jupyter-widgets/base",
            "top": null,
            "grid_column": null,
            "overflow_y": null,
            "overflow_x": null,
            "grid_auto_flow": null,
            "grid_area": null,
            "grid_template_columns": null,
            "flex": null,
            "_model_name": "LayoutModel",
            "justify_items": null,
            "grid_row": null,
            "max_height": null,
            "align_content": null,
            "visibility": null,
            "align_self": null,
            "height": null,
            "min_height": null,
            "padding": null,
            "grid_auto_rows": null,
            "grid_gap": null,
            "max_width": null,
            "order": null,
            "_view_module_version": "1.2.0",
            "grid_template_areas": null,
            "object_position": null,
            "object_fit": null,
            "grid_auto_columns": null,
            "margin": null,
            "display": null,
            "left": null
          }
        },
        "4e7a279938ae47219502c315f9302507": {
          "model_module": "@jupyter-widgets/controls",
          "model_name": "HBoxModel",
          "state": {
            "_view_name": "HBoxView",
            "_dom_classes": [],
            "_model_name": "HBoxModel",
            "_view_module": "@jupyter-widgets/controls",
            "_model_module_version": "1.5.0",
            "_view_count": null,
            "_view_module_version": "1.5.0",
            "box_style": "",
            "layout": "IPY_MODEL_94aca822dcc3448eba1f4e78445dd97b",
            "_model_module": "@jupyter-widgets/controls",
            "children": [
              "IPY_MODEL_9dfa75bf01084f37b10005b0f87b8118",
              "IPY_MODEL_70557e2679b342a0bd041d6ce7459a44"
            ]
          }
        },
        "94aca822dcc3448eba1f4e78445dd97b": {
          "model_module": "@jupyter-widgets/base",
          "model_name": "LayoutModel",
          "state": {
            "_view_name": "LayoutView",
            "grid_template_rows": null,
            "right": null,
            "justify_content": null,
            "_view_module": "@jupyter-widgets/base",
            "overflow": null,
            "_model_module_version": "1.2.0",
            "_view_count": null,
            "flex_flow": null,
            "width": null,
            "min_width": null,
            "border": null,
            "align_items": null,
            "bottom": null,
            "_model_module": "@jupyter-widgets/base",
            "top": null,
            "grid_column": null,
            "overflow_y": null,
            "overflow_x": null,
            "grid_auto_flow": null,
            "grid_area": null,
            "grid_template_columns": null,
            "flex": null,
            "_model_name": "LayoutModel",
            "justify_items": null,
            "grid_row": null,
            "max_height": null,
            "align_content": null,
            "visibility": null,
            "align_self": null,
            "height": null,
            "min_height": null,
            "padding": null,
            "grid_auto_rows": null,
            "grid_gap": null,
            "max_width": null,
            "order": null,
            "_view_module_version": "1.2.0",
            "grid_template_areas": null,
            "object_position": null,
            "object_fit": null,
            "grid_auto_columns": null,
            "margin": null,
            "display": null,
            "left": null
          }
        },
        "9dfa75bf01084f37b10005b0f87b8118": {
          "model_module": "@jupyter-widgets/controls",
          "model_name": "FloatProgressModel",
          "state": {
            "_view_name": "ProgressView",
            "style": "IPY_MODEL_4820379ee5d44adf85e5e5ab7a310518",
            "_dom_classes": [],
            "description": "100%",
            "_model_name": "FloatProgressModel",
            "bar_style": "success",
            "max": 100,
            "_view_module": "@jupyter-widgets/controls",
            "_model_module_version": "1.5.0",
            "value": 100,
            "_view_count": null,
            "_view_module_version": "1.5.0",
            "orientation": "horizontal",
            "min": 0,
            "description_tooltip": null,
            "_model_module": "@jupyter-widgets/controls",
            "layout": "IPY_MODEL_111c09465a5b4259a53a01728a2f9e6f"
          }
        },
        "70557e2679b342a0bd041d6ce7459a44": {
          "model_module": "@jupyter-widgets/controls",
          "model_name": "HTMLModel",
          "state": {
            "_view_name": "HTMLView",
            "style": "IPY_MODEL_1c7d208e9f6744beb37faaebe9c57420",
            "_dom_classes": [],
            "description": "",
            "_model_name": "HTMLModel",
            "placeholder": "​",
            "_view_module": "@jupyter-widgets/controls",
            "_model_module_version": "1.5.0",
            "value": " 100/100 [09:13&lt;00:00,  5.53s/it]",
            "_view_count": null,
            "_view_module_version": "1.5.0",
            "description_tooltip": null,
            "_model_module": "@jupyter-widgets/controls",
            "layout": "IPY_MODEL_c363f59ca5e0474da433c5042f3cca18"
          }
        },
        "4820379ee5d44adf85e5e5ab7a310518": {
          "model_module": "@jupyter-widgets/controls",
          "model_name": "ProgressStyleModel",
          "state": {
            "_view_name": "StyleView",
            "_model_name": "ProgressStyleModel",
            "description_width": "initial",
            "_view_module": "@jupyter-widgets/base",
            "_model_module_version": "1.5.0",
            "_view_count": null,
            "_view_module_version": "1.2.0",
            "bar_color": null,
            "_model_module": "@jupyter-widgets/controls"
          }
        },
        "111c09465a5b4259a53a01728a2f9e6f": {
          "model_module": "@jupyter-widgets/base",
          "model_name": "LayoutModel",
          "state": {
            "_view_name": "LayoutView",
            "grid_template_rows": null,
            "right": null,
            "justify_content": null,
            "_view_module": "@jupyter-widgets/base",
            "overflow": null,
            "_model_module_version": "1.2.0",
            "_view_count": null,
            "flex_flow": null,
            "width": null,
            "min_width": null,
            "border": null,
            "align_items": null,
            "bottom": null,
            "_model_module": "@jupyter-widgets/base",
            "top": null,
            "grid_column": null,
            "overflow_y": null,
            "overflow_x": null,
            "grid_auto_flow": null,
            "grid_area": null,
            "grid_template_columns": null,
            "flex": null,
            "_model_name": "LayoutModel",
            "justify_items": null,
            "grid_row": null,
            "max_height": null,
            "align_content": null,
            "visibility": null,
            "align_self": null,
            "height": null,
            "min_height": null,
            "padding": null,
            "grid_auto_rows": null,
            "grid_gap": null,
            "max_width": null,
            "order": null,
            "_view_module_version": "1.2.0",
            "grid_template_areas": null,
            "object_position": null,
            "object_fit": null,
            "grid_auto_columns": null,
            "margin": null,
            "display": null,
            "left": null
          }
        },
        "1c7d208e9f6744beb37faaebe9c57420": {
          "model_module": "@jupyter-widgets/controls",
          "model_name": "DescriptionStyleModel",
          "state": {
            "_view_name": "StyleView",
            "_model_name": "DescriptionStyleModel",
            "description_width": "",
            "_view_module": "@jupyter-widgets/base",
            "_model_module_version": "1.5.0",
            "_view_count": null,
            "_view_module_version": "1.2.0",
            "_model_module": "@jupyter-widgets/controls"
          }
        },
        "c363f59ca5e0474da433c5042f3cca18": {
          "model_module": "@jupyter-widgets/base",
          "model_name": "LayoutModel",
          "state": {
            "_view_name": "LayoutView",
            "grid_template_rows": null,
            "right": null,
            "justify_content": null,
            "_view_module": "@jupyter-widgets/base",
            "overflow": null,
            "_model_module_version": "1.2.0",
            "_view_count": null,
            "flex_flow": null,
            "width": null,
            "min_width": null,
            "border": null,
            "align_items": null,
            "bottom": null,
            "_model_module": "@jupyter-widgets/base",
            "top": null,
            "grid_column": null,
            "overflow_y": null,
            "overflow_x": null,
            "grid_auto_flow": null,
            "grid_area": null,
            "grid_template_columns": null,
            "flex": null,
            "_model_name": "LayoutModel",
            "justify_items": null,
            "grid_row": null,
            "max_height": null,
            "align_content": null,
            "visibility": null,
            "align_self": null,
            "height": null,
            "min_height": null,
            "padding": null,
            "grid_auto_rows": null,
            "grid_gap": null,
            "max_width": null,
            "order": null,
            "_view_module_version": "1.2.0",
            "grid_template_areas": null,
            "object_position": null,
            "object_fit": null,
            "grid_auto_columns": null,
            "margin": null,
            "display": null,
            "left": null
          }
        },
        "e9549fb58ff54d9c9613069a892ab4c3": {
          "model_module": "@jupyter-widgets/controls",
          "model_name": "HBoxModel",
          "state": {
            "_view_name": "HBoxView",
            "_dom_classes": [],
            "_model_name": "HBoxModel",
            "_view_module": "@jupyter-widgets/controls",
            "_model_module_version": "1.5.0",
            "_view_count": null,
            "_view_module_version": "1.5.0",
            "box_style": "",
            "layout": "IPY_MODEL_ac26a8fe09c34baea1d9065f661591b1",
            "_model_module": "@jupyter-widgets/controls",
            "children": [
              "IPY_MODEL_25d6438c730b452caf5b830fafe0e5c0",
              "IPY_MODEL_926671e1082c47bc8a2ae0b129f519a2"
            ]
          }
        },
        "ac26a8fe09c34baea1d9065f661591b1": {
          "model_module": "@jupyter-widgets/base",
          "model_name": "LayoutModel",
          "state": {
            "_view_name": "LayoutView",
            "grid_template_rows": null,
            "right": null,
            "justify_content": null,
            "_view_module": "@jupyter-widgets/base",
            "overflow": null,
            "_model_module_version": "1.2.0",
            "_view_count": null,
            "flex_flow": null,
            "width": null,
            "min_width": null,
            "border": null,
            "align_items": null,
            "bottom": null,
            "_model_module": "@jupyter-widgets/base",
            "top": null,
            "grid_column": null,
            "overflow_y": null,
            "overflow_x": null,
            "grid_auto_flow": null,
            "grid_area": null,
            "grid_template_columns": null,
            "flex": null,
            "_model_name": "LayoutModel",
            "justify_items": null,
            "grid_row": null,
            "max_height": null,
            "align_content": null,
            "visibility": null,
            "align_self": null,
            "height": null,
            "min_height": null,
            "padding": null,
            "grid_auto_rows": null,
            "grid_gap": null,
            "max_width": null,
            "order": null,
            "_view_module_version": "1.2.0",
            "grid_template_areas": null,
            "object_position": null,
            "object_fit": null,
            "grid_auto_columns": null,
            "margin": null,
            "display": null,
            "left": null
          }
        },
        "25d6438c730b452caf5b830fafe0e5c0": {
          "model_module": "@jupyter-widgets/controls",
          "model_name": "FloatProgressModel",
          "state": {
            "_view_name": "ProgressView",
            "style": "IPY_MODEL_e0152b88801e4fd7a40cccca10d5a010",
            "_dom_classes": [],
            "description": "100%",
            "_model_name": "FloatProgressModel",
            "bar_style": "success",
            "max": 100,
            "_view_module": "@jupyter-widgets/controls",
            "_model_module_version": "1.5.0",
            "value": 100,
            "_view_count": null,
            "_view_module_version": "1.5.0",
            "orientation": "horizontal",
            "min": 0,
            "description_tooltip": null,
            "_model_module": "@jupyter-widgets/controls",
            "layout": "IPY_MODEL_3f3336f473ff4fdf944db45ed9b1b9df"
          }
        },
        "926671e1082c47bc8a2ae0b129f519a2": {
          "model_module": "@jupyter-widgets/controls",
          "model_name": "HTMLModel",
          "state": {
            "_view_name": "HTMLView",
            "style": "IPY_MODEL_3880339d8b8a4496a3b8472ee7069a94",
            "_dom_classes": [],
            "description": "",
            "_model_name": "HTMLModel",
            "placeholder": "​",
            "_view_module": "@jupyter-widgets/controls",
            "_model_module_version": "1.5.0",
            "value": " 100/100 [2:11:15&lt;00:00, 78.76s/it]",
            "_view_count": null,
            "_view_module_version": "1.5.0",
            "description_tooltip": null,
            "_model_module": "@jupyter-widgets/controls",
            "layout": "IPY_MODEL_8ab8e35d3ed6407f83888a51b87b815e"
          }
        },
        "e0152b88801e4fd7a40cccca10d5a010": {
          "model_module": "@jupyter-widgets/controls",
          "model_name": "ProgressStyleModel",
          "state": {
            "_view_name": "StyleView",
            "_model_name": "ProgressStyleModel",
            "description_width": "initial",
            "_view_module": "@jupyter-widgets/base",
            "_model_module_version": "1.5.0",
            "_view_count": null,
            "_view_module_version": "1.2.0",
            "bar_color": null,
            "_model_module": "@jupyter-widgets/controls"
          }
        },
        "3f3336f473ff4fdf944db45ed9b1b9df": {
          "model_module": "@jupyter-widgets/base",
          "model_name": "LayoutModel",
          "state": {
            "_view_name": "LayoutView",
            "grid_template_rows": null,
            "right": null,
            "justify_content": null,
            "_view_module": "@jupyter-widgets/base",
            "overflow": null,
            "_model_module_version": "1.2.0",
            "_view_count": null,
            "flex_flow": null,
            "width": null,
            "min_width": null,
            "border": null,
            "align_items": null,
            "bottom": null,
            "_model_module": "@jupyter-widgets/base",
            "top": null,
            "grid_column": null,
            "overflow_y": null,
            "overflow_x": null,
            "grid_auto_flow": null,
            "grid_area": null,
            "grid_template_columns": null,
            "flex": null,
            "_model_name": "LayoutModel",
            "justify_items": null,
            "grid_row": null,
            "max_height": null,
            "align_content": null,
            "visibility": null,
            "align_self": null,
            "height": null,
            "min_height": null,
            "padding": null,
            "grid_auto_rows": null,
            "grid_gap": null,
            "max_width": null,
            "order": null,
            "_view_module_version": "1.2.0",
            "grid_template_areas": null,
            "object_position": null,
            "object_fit": null,
            "grid_auto_columns": null,
            "margin": null,
            "display": null,
            "left": null
          }
        },
        "3880339d8b8a4496a3b8472ee7069a94": {
          "model_module": "@jupyter-widgets/controls",
          "model_name": "DescriptionStyleModel",
          "state": {
            "_view_name": "StyleView",
            "_model_name": "DescriptionStyleModel",
            "description_width": "",
            "_view_module": "@jupyter-widgets/base",
            "_model_module_version": "1.5.0",
            "_view_count": null,
            "_view_module_version": "1.2.0",
            "_model_module": "@jupyter-widgets/controls"
          }
        },
        "8ab8e35d3ed6407f83888a51b87b815e": {
          "model_module": "@jupyter-widgets/base",
          "model_name": "LayoutModel",
          "state": {
            "_view_name": "LayoutView",
            "grid_template_rows": null,
            "right": null,
            "justify_content": null,
            "_view_module": "@jupyter-widgets/base",
            "overflow": null,
            "_model_module_version": "1.2.0",
            "_view_count": null,
            "flex_flow": null,
            "width": null,
            "min_width": null,
            "border": null,
            "align_items": null,
            "bottom": null,
            "_model_module": "@jupyter-widgets/base",
            "top": null,
            "grid_column": null,
            "overflow_y": null,
            "overflow_x": null,
            "grid_auto_flow": null,
            "grid_area": null,
            "grid_template_columns": null,
            "flex": null,
            "_model_name": "LayoutModel",
            "justify_items": null,
            "grid_row": null,
            "max_height": null,
            "align_content": null,
            "visibility": null,
            "align_self": null,
            "height": null,
            "min_height": null,
            "padding": null,
            "grid_auto_rows": null,
            "grid_gap": null,
            "max_width": null,
            "order": null,
            "_view_module_version": "1.2.0",
            "grid_template_areas": null,
            "object_position": null,
            "object_fit": null,
            "grid_auto_columns": null,
            "margin": null,
            "display": null,
            "left": null
          }
        },
        "b2774951a5d847a1932db2671bb9cf37": {
          "model_module": "@jupyter-widgets/controls",
          "model_name": "HBoxModel",
          "state": {
            "_view_name": "HBoxView",
            "_dom_classes": [],
            "_model_name": "HBoxModel",
            "_view_module": "@jupyter-widgets/controls",
            "_model_module_version": "1.5.0",
            "_view_count": null,
            "_view_module_version": "1.5.0",
            "box_style": "",
            "layout": "IPY_MODEL_cd057e65790c4f189b2d918d3ab8f1e7",
            "_model_module": "@jupyter-widgets/controls",
            "children": [
              "IPY_MODEL_986c8443ab1d4e1ebda7d87074fae943",
              "IPY_MODEL_6dad151002e9424c8767750acfadfb7d"
            ]
          }
        },
        "cd057e65790c4f189b2d918d3ab8f1e7": {
          "model_module": "@jupyter-widgets/base",
          "model_name": "LayoutModel",
          "state": {
            "_view_name": "LayoutView",
            "grid_template_rows": null,
            "right": null,
            "justify_content": null,
            "_view_module": "@jupyter-widgets/base",
            "overflow": null,
            "_model_module_version": "1.2.0",
            "_view_count": null,
            "flex_flow": null,
            "width": null,
            "min_width": null,
            "border": null,
            "align_items": null,
            "bottom": null,
            "_model_module": "@jupyter-widgets/base",
            "top": null,
            "grid_column": null,
            "overflow_y": null,
            "overflow_x": null,
            "grid_auto_flow": null,
            "grid_area": null,
            "grid_template_columns": null,
            "flex": null,
            "_model_name": "LayoutModel",
            "justify_items": null,
            "grid_row": null,
            "max_height": null,
            "align_content": null,
            "visibility": null,
            "align_self": null,
            "height": null,
            "min_height": null,
            "padding": null,
            "grid_auto_rows": null,
            "grid_gap": null,
            "max_width": null,
            "order": null,
            "_view_module_version": "1.2.0",
            "grid_template_areas": null,
            "object_position": null,
            "object_fit": null,
            "grid_auto_columns": null,
            "margin": null,
            "display": null,
            "left": null
          }
        },
        "986c8443ab1d4e1ebda7d87074fae943": {
          "model_module": "@jupyter-widgets/controls",
          "model_name": "FloatProgressModel",
          "state": {
            "_view_name": "ProgressView",
            "style": "IPY_MODEL_fa9a549e50e24c1a8a84844b0a86ab55",
            "_dom_classes": [],
            "description": "100%",
            "_model_name": "FloatProgressModel",
            "bar_style": "success",
            "max": 100,
            "_view_module": "@jupyter-widgets/controls",
            "_model_module_version": "1.5.0",
            "value": 100,
            "_view_count": null,
            "_view_module_version": "1.5.0",
            "orientation": "horizontal",
            "min": 0,
            "description_tooltip": null,
            "_model_module": "@jupyter-widgets/controls",
            "layout": "IPY_MODEL_7ec0a979f0d84cc2a7b9ff482a0df09a"
          }
        },
        "6dad151002e9424c8767750acfadfb7d": {
          "model_module": "@jupyter-widgets/controls",
          "model_name": "HTMLModel",
          "state": {
            "_view_name": "HTMLView",
            "style": "IPY_MODEL_cc8215077e0845da8f2e00d86684721c",
            "_dom_classes": [],
            "description": "",
            "_model_name": "HTMLModel",
            "placeholder": "​",
            "_view_module": "@jupyter-widgets/controls",
            "_model_module_version": "1.5.0",
            "value": " 100/100 [04:56&lt;00:00,  2.97s/it]",
            "_view_count": null,
            "_view_module_version": "1.5.0",
            "description_tooltip": null,
            "_model_module": "@jupyter-widgets/controls",
            "layout": "IPY_MODEL_8291c30196f4494ea549bb93d18ddf4d"
          }
        },
        "fa9a549e50e24c1a8a84844b0a86ab55": {
          "model_module": "@jupyter-widgets/controls",
          "model_name": "ProgressStyleModel",
          "state": {
            "_view_name": "StyleView",
            "_model_name": "ProgressStyleModel",
            "description_width": "initial",
            "_view_module": "@jupyter-widgets/base",
            "_model_module_version": "1.5.0",
            "_view_count": null,
            "_view_module_version": "1.2.0",
            "bar_color": null,
            "_model_module": "@jupyter-widgets/controls"
          }
        },
        "7ec0a979f0d84cc2a7b9ff482a0df09a": {
          "model_module": "@jupyter-widgets/base",
          "model_name": "LayoutModel",
          "state": {
            "_view_name": "LayoutView",
            "grid_template_rows": null,
            "right": null,
            "justify_content": null,
            "_view_module": "@jupyter-widgets/base",
            "overflow": null,
            "_model_module_version": "1.2.0",
            "_view_count": null,
            "flex_flow": null,
            "width": null,
            "min_width": null,
            "border": null,
            "align_items": null,
            "bottom": null,
            "_model_module": "@jupyter-widgets/base",
            "top": null,
            "grid_column": null,
            "overflow_y": null,
            "overflow_x": null,
            "grid_auto_flow": null,
            "grid_area": null,
            "grid_template_columns": null,
            "flex": null,
            "_model_name": "LayoutModel",
            "justify_items": null,
            "grid_row": null,
            "max_height": null,
            "align_content": null,
            "visibility": null,
            "align_self": null,
            "height": null,
            "min_height": null,
            "padding": null,
            "grid_auto_rows": null,
            "grid_gap": null,
            "max_width": null,
            "order": null,
            "_view_module_version": "1.2.0",
            "grid_template_areas": null,
            "object_position": null,
            "object_fit": null,
            "grid_auto_columns": null,
            "margin": null,
            "display": null,
            "left": null
          }
        },
        "cc8215077e0845da8f2e00d86684721c": {
          "model_module": "@jupyter-widgets/controls",
          "model_name": "DescriptionStyleModel",
          "state": {
            "_view_name": "StyleView",
            "_model_name": "DescriptionStyleModel",
            "description_width": "",
            "_view_module": "@jupyter-widgets/base",
            "_model_module_version": "1.5.0",
            "_view_count": null,
            "_view_module_version": "1.2.0",
            "_model_module": "@jupyter-widgets/controls"
          }
        },
        "8291c30196f4494ea549bb93d18ddf4d": {
          "model_module": "@jupyter-widgets/base",
          "model_name": "LayoutModel",
          "state": {
            "_view_name": "LayoutView",
            "grid_template_rows": null,
            "right": null,
            "justify_content": null,
            "_view_module": "@jupyter-widgets/base",
            "overflow": null,
            "_model_module_version": "1.2.0",
            "_view_count": null,
            "flex_flow": null,
            "width": null,
            "min_width": null,
            "border": null,
            "align_items": null,
            "bottom": null,
            "_model_module": "@jupyter-widgets/base",
            "top": null,
            "grid_column": null,
            "overflow_y": null,
            "overflow_x": null,
            "grid_auto_flow": null,
            "grid_area": null,
            "grid_template_columns": null,
            "flex": null,
            "_model_name": "LayoutModel",
            "justify_items": null,
            "grid_row": null,
            "max_height": null,
            "align_content": null,
            "visibility": null,
            "align_self": null,
            "height": null,
            "min_height": null,
            "padding": null,
            "grid_auto_rows": null,
            "grid_gap": null,
            "max_width": null,
            "order": null,
            "_view_module_version": "1.2.0",
            "grid_template_areas": null,
            "object_position": null,
            "object_fit": null,
            "grid_auto_columns": null,
            "margin": null,
            "display": null,
            "left": null
          }
        },
        "28c1f13ca20c4d339f8f4ef842f034a9": {
          "model_module": "@jupyter-widgets/controls",
          "model_name": "HBoxModel",
          "state": {
            "_view_name": "HBoxView",
            "_dom_classes": [],
            "_model_name": "HBoxModel",
            "_view_module": "@jupyter-widgets/controls",
            "_model_module_version": "1.5.0",
            "_view_count": null,
            "_view_module_version": "1.5.0",
            "box_style": "",
            "layout": "IPY_MODEL_57192d6086b040a8a3ae6ec67274707c",
            "_model_module": "@jupyter-widgets/controls",
            "children": [
              "IPY_MODEL_e8e049486ae24a6b8fa6d5bdd69e6c17",
              "IPY_MODEL_dea386560e0448acba6c529921b9d24e"
            ]
          }
        },
        "57192d6086b040a8a3ae6ec67274707c": {
          "model_module": "@jupyter-widgets/base",
          "model_name": "LayoutModel",
          "state": {
            "_view_name": "LayoutView",
            "grid_template_rows": null,
            "right": null,
            "justify_content": null,
            "_view_module": "@jupyter-widgets/base",
            "overflow": null,
            "_model_module_version": "1.2.0",
            "_view_count": null,
            "flex_flow": null,
            "width": null,
            "min_width": null,
            "border": null,
            "align_items": null,
            "bottom": null,
            "_model_module": "@jupyter-widgets/base",
            "top": null,
            "grid_column": null,
            "overflow_y": null,
            "overflow_x": null,
            "grid_auto_flow": null,
            "grid_area": null,
            "grid_template_columns": null,
            "flex": null,
            "_model_name": "LayoutModel",
            "justify_items": null,
            "grid_row": null,
            "max_height": null,
            "align_content": null,
            "visibility": null,
            "align_self": null,
            "height": null,
            "min_height": null,
            "padding": null,
            "grid_auto_rows": null,
            "grid_gap": null,
            "max_width": null,
            "order": null,
            "_view_module_version": "1.2.0",
            "grid_template_areas": null,
            "object_position": null,
            "object_fit": null,
            "grid_auto_columns": null,
            "margin": null,
            "display": null,
            "left": null
          }
        },
        "e8e049486ae24a6b8fa6d5bdd69e6c17": {
          "model_module": "@jupyter-widgets/controls",
          "model_name": "FloatProgressModel",
          "state": {
            "_view_name": "ProgressView",
            "style": "IPY_MODEL_d3137da9cebc4296912b32098f0c59d7",
            "_dom_classes": [],
            "description": "100%",
            "_model_name": "FloatProgressModel",
            "bar_style": "success",
            "max": 26247,
            "_view_module": "@jupyter-widgets/controls",
            "_model_module_version": "1.5.0",
            "value": 26247,
            "_view_count": null,
            "_view_module_version": "1.5.0",
            "orientation": "horizontal",
            "min": 0,
            "description_tooltip": null,
            "_model_module": "@jupyter-widgets/controls",
            "layout": "IPY_MODEL_01aeed0ec02f4b668eeed7386b0bbce1"
          }
        },
        "dea386560e0448acba6c529921b9d24e": {
          "model_module": "@jupyter-widgets/controls",
          "model_name": "HTMLModel",
          "state": {
            "_view_name": "HTMLView",
            "style": "IPY_MODEL_717d3d5fcf0d40359ed13c1ff385e5ed",
            "_dom_classes": [],
            "description": "",
            "_model_name": "HTMLModel",
            "placeholder": "​",
            "_view_module": "@jupyter-widgets/controls",
            "_model_module_version": "1.5.0",
            "value": " 26247/26247 [00:05&lt;00:00, 4935.30it/s]",
            "_view_count": null,
            "_view_module_version": "1.5.0",
            "description_tooltip": null,
            "_model_module": "@jupyter-widgets/controls",
            "layout": "IPY_MODEL_86d6b0b40ec544409ff171f39ee10f0f"
          }
        },
        "d3137da9cebc4296912b32098f0c59d7": {
          "model_module": "@jupyter-widgets/controls",
          "model_name": "ProgressStyleModel",
          "state": {
            "_view_name": "StyleView",
            "_model_name": "ProgressStyleModel",
            "description_width": "initial",
            "_view_module": "@jupyter-widgets/base",
            "_model_module_version": "1.5.0",
            "_view_count": null,
            "_view_module_version": "1.2.0",
            "bar_color": null,
            "_model_module": "@jupyter-widgets/controls"
          }
        },
        "01aeed0ec02f4b668eeed7386b0bbce1": {
          "model_module": "@jupyter-widgets/base",
          "model_name": "LayoutModel",
          "state": {
            "_view_name": "LayoutView",
            "grid_template_rows": null,
            "right": null,
            "justify_content": null,
            "_view_module": "@jupyter-widgets/base",
            "overflow": null,
            "_model_module_version": "1.2.0",
            "_view_count": null,
            "flex_flow": null,
            "width": null,
            "min_width": null,
            "border": null,
            "align_items": null,
            "bottom": null,
            "_model_module": "@jupyter-widgets/base",
            "top": null,
            "grid_column": null,
            "overflow_y": null,
            "overflow_x": null,
            "grid_auto_flow": null,
            "grid_area": null,
            "grid_template_columns": null,
            "flex": null,
            "_model_name": "LayoutModel",
            "justify_items": null,
            "grid_row": null,
            "max_height": null,
            "align_content": null,
            "visibility": null,
            "align_self": null,
            "height": null,
            "min_height": null,
            "padding": null,
            "grid_auto_rows": null,
            "grid_gap": null,
            "max_width": null,
            "order": null,
            "_view_module_version": "1.2.0",
            "grid_template_areas": null,
            "object_position": null,
            "object_fit": null,
            "grid_auto_columns": null,
            "margin": null,
            "display": null,
            "left": null
          }
        },
        "717d3d5fcf0d40359ed13c1ff385e5ed": {
          "model_module": "@jupyter-widgets/controls",
          "model_name": "DescriptionStyleModel",
          "state": {
            "_view_name": "StyleView",
            "_model_name": "DescriptionStyleModel",
            "description_width": "",
            "_view_module": "@jupyter-widgets/base",
            "_model_module_version": "1.5.0",
            "_view_count": null,
            "_view_module_version": "1.2.0",
            "_model_module": "@jupyter-widgets/controls"
          }
        },
        "86d6b0b40ec544409ff171f39ee10f0f": {
          "model_module": "@jupyter-widgets/base",
          "model_name": "LayoutModel",
          "state": {
            "_view_name": "LayoutView",
            "grid_template_rows": null,
            "right": null,
            "justify_content": null,
            "_view_module": "@jupyter-widgets/base",
            "overflow": null,
            "_model_module_version": "1.2.0",
            "_view_count": null,
            "flex_flow": null,
            "width": null,
            "min_width": null,
            "border": null,
            "align_items": null,
            "bottom": null,
            "_model_module": "@jupyter-widgets/base",
            "top": null,
            "grid_column": null,
            "overflow_y": null,
            "overflow_x": null,
            "grid_auto_flow": null,
            "grid_area": null,
            "grid_template_columns": null,
            "flex": null,
            "_model_name": "LayoutModel",
            "justify_items": null,
            "grid_row": null,
            "max_height": null,
            "align_content": null,
            "visibility": null,
            "align_self": null,
            "height": null,
            "min_height": null,
            "padding": null,
            "grid_auto_rows": null,
            "grid_gap": null,
            "max_width": null,
            "order": null,
            "_view_module_version": "1.2.0",
            "grid_template_areas": null,
            "object_position": null,
            "object_fit": null,
            "grid_auto_columns": null,
            "margin": null,
            "display": null,
            "left": null
          }
        },
        "1683ea17f0fd4130894320a012a81cd1": {
          "model_module": "@jupyter-widgets/controls",
          "model_name": "HBoxModel",
          "state": {
            "_view_name": "HBoxView",
            "_dom_classes": [],
            "_model_name": "HBoxModel",
            "_view_module": "@jupyter-widgets/controls",
            "_model_module_version": "1.5.0",
            "_view_count": null,
            "_view_module_version": "1.5.0",
            "box_style": "",
            "layout": "IPY_MODEL_aaafeac56b924934a21e36dc8f3f87de",
            "_model_module": "@jupyter-widgets/controls",
            "children": [
              "IPY_MODEL_ddfe514f1e7040a89dce4d96df3c864a",
              "IPY_MODEL_6d920ecf23924e75821b63658846e923"
            ]
          }
        },
        "aaafeac56b924934a21e36dc8f3f87de": {
          "model_module": "@jupyter-widgets/base",
          "model_name": "LayoutModel",
          "state": {
            "_view_name": "LayoutView",
            "grid_template_rows": null,
            "right": null,
            "justify_content": null,
            "_view_module": "@jupyter-widgets/base",
            "overflow": null,
            "_model_module_version": "1.2.0",
            "_view_count": null,
            "flex_flow": null,
            "width": null,
            "min_width": null,
            "border": null,
            "align_items": null,
            "bottom": null,
            "_model_module": "@jupyter-widgets/base",
            "top": null,
            "grid_column": null,
            "overflow_y": null,
            "overflow_x": null,
            "grid_auto_flow": null,
            "grid_area": null,
            "grid_template_columns": null,
            "flex": null,
            "_model_name": "LayoutModel",
            "justify_items": null,
            "grid_row": null,
            "max_height": null,
            "align_content": null,
            "visibility": null,
            "align_self": null,
            "height": null,
            "min_height": null,
            "padding": null,
            "grid_auto_rows": null,
            "grid_gap": null,
            "max_width": null,
            "order": null,
            "_view_module_version": "1.2.0",
            "grid_template_areas": null,
            "object_position": null,
            "object_fit": null,
            "grid_auto_columns": null,
            "margin": null,
            "display": null,
            "left": null
          }
        },
        "ddfe514f1e7040a89dce4d96df3c864a": {
          "model_module": "@jupyter-widgets/controls",
          "model_name": "FloatProgressModel",
          "state": {
            "_view_name": "ProgressView",
            "style": "IPY_MODEL_c5bd19e15fd044d79272c3502b048cdc",
            "_dom_classes": [],
            "description": "100%",
            "_model_name": "FloatProgressModel",
            "bar_style": "success",
            "max": 26247,
            "_view_module": "@jupyter-widgets/controls",
            "_model_module_version": "1.5.0",
            "value": 26247,
            "_view_count": null,
            "_view_module_version": "1.5.0",
            "orientation": "horizontal",
            "min": 0,
            "description_tooltip": null,
            "_model_module": "@jupyter-widgets/controls",
            "layout": "IPY_MODEL_158f944ad7b64710a7d979101691d5b4"
          }
        },
        "6d920ecf23924e75821b63658846e923": {
          "model_module": "@jupyter-widgets/controls",
          "model_name": "HTMLModel",
          "state": {
            "_view_name": "HTMLView",
            "style": "IPY_MODEL_97963e311b6747c6bd8e20ebcd4d3d06",
            "_dom_classes": [],
            "description": "",
            "_model_name": "HTMLModel",
            "placeholder": "​",
            "_view_module": "@jupyter-widgets/controls",
            "_model_module_version": "1.5.0",
            "value": " 26247/26247 [18:08&lt;00:00, 24.12it/s]",
            "_view_count": null,
            "_view_module_version": "1.5.0",
            "description_tooltip": null,
            "_model_module": "@jupyter-widgets/controls",
            "layout": "IPY_MODEL_dff8918dd665402da960c7436ccdf4e7"
          }
        },
        "c5bd19e15fd044d79272c3502b048cdc": {
          "model_module": "@jupyter-widgets/controls",
          "model_name": "ProgressStyleModel",
          "state": {
            "_view_name": "StyleView",
            "_model_name": "ProgressStyleModel",
            "description_width": "initial",
            "_view_module": "@jupyter-widgets/base",
            "_model_module_version": "1.5.0",
            "_view_count": null,
            "_view_module_version": "1.2.0",
            "bar_color": null,
            "_model_module": "@jupyter-widgets/controls"
          }
        },
        "158f944ad7b64710a7d979101691d5b4": {
          "model_module": "@jupyter-widgets/base",
          "model_name": "LayoutModel",
          "state": {
            "_view_name": "LayoutView",
            "grid_template_rows": null,
            "right": null,
            "justify_content": null,
            "_view_module": "@jupyter-widgets/base",
            "overflow": null,
            "_model_module_version": "1.2.0",
            "_view_count": null,
            "flex_flow": null,
            "width": null,
            "min_width": null,
            "border": null,
            "align_items": null,
            "bottom": null,
            "_model_module": "@jupyter-widgets/base",
            "top": null,
            "grid_column": null,
            "overflow_y": null,
            "overflow_x": null,
            "grid_auto_flow": null,
            "grid_area": null,
            "grid_template_columns": null,
            "flex": null,
            "_model_name": "LayoutModel",
            "justify_items": null,
            "grid_row": null,
            "max_height": null,
            "align_content": null,
            "visibility": null,
            "align_self": null,
            "height": null,
            "min_height": null,
            "padding": null,
            "grid_auto_rows": null,
            "grid_gap": null,
            "max_width": null,
            "order": null,
            "_view_module_version": "1.2.0",
            "grid_template_areas": null,
            "object_position": null,
            "object_fit": null,
            "grid_auto_columns": null,
            "margin": null,
            "display": null,
            "left": null
          }
        },
        "97963e311b6747c6bd8e20ebcd4d3d06": {
          "model_module": "@jupyter-widgets/controls",
          "model_name": "DescriptionStyleModel",
          "state": {
            "_view_name": "StyleView",
            "_model_name": "DescriptionStyleModel",
            "description_width": "",
            "_view_module": "@jupyter-widgets/base",
            "_model_module_version": "1.5.0",
            "_view_count": null,
            "_view_module_version": "1.2.0",
            "_model_module": "@jupyter-widgets/controls"
          }
        },
        "dff8918dd665402da960c7436ccdf4e7": {
          "model_module": "@jupyter-widgets/base",
          "model_name": "LayoutModel",
          "state": {
            "_view_name": "LayoutView",
            "grid_template_rows": null,
            "right": null,
            "justify_content": null,
            "_view_module": "@jupyter-widgets/base",
            "overflow": null,
            "_model_module_version": "1.2.0",
            "_view_count": null,
            "flex_flow": null,
            "width": null,
            "min_width": null,
            "border": null,
            "align_items": null,
            "bottom": null,
            "_model_module": "@jupyter-widgets/base",
            "top": null,
            "grid_column": null,
            "overflow_y": null,
            "overflow_x": null,
            "grid_auto_flow": null,
            "grid_area": null,
            "grid_template_columns": null,
            "flex": null,
            "_model_name": "LayoutModel",
            "justify_items": null,
            "grid_row": null,
            "max_height": null,
            "align_content": null,
            "visibility": null,
            "align_self": null,
            "height": null,
            "min_height": null,
            "padding": null,
            "grid_auto_rows": null,
            "grid_gap": null,
            "max_width": null,
            "order": null,
            "_view_module_version": "1.2.0",
            "grid_template_areas": null,
            "object_position": null,
            "object_fit": null,
            "grid_auto_columns": null,
            "margin": null,
            "display": null,
            "left": null
          }
        },
        "7a5baf422eb749acb793b4d8836b50b8": {
          "model_module": "@jupyter-widgets/controls",
          "model_name": "HBoxModel",
          "state": {
            "_view_name": "HBoxView",
            "_dom_classes": [],
            "_model_name": "HBoxModel",
            "_view_module": "@jupyter-widgets/controls",
            "_model_module_version": "1.5.0",
            "_view_count": null,
            "_view_module_version": "1.5.0",
            "box_style": "",
            "layout": "IPY_MODEL_82254b606da64951aa3b0986d523c664",
            "_model_module": "@jupyter-widgets/controls",
            "children": [
              "IPY_MODEL_9390f31c6f6444c790aaec767cf4a8ec",
              "IPY_MODEL_7fab57d185854bd2b87fb8aac9dd647b"
            ]
          }
        },
        "82254b606da64951aa3b0986d523c664": {
          "model_module": "@jupyter-widgets/base",
          "model_name": "LayoutModel",
          "state": {
            "_view_name": "LayoutView",
            "grid_template_rows": null,
            "right": null,
            "justify_content": null,
            "_view_module": "@jupyter-widgets/base",
            "overflow": null,
            "_model_module_version": "1.2.0",
            "_view_count": null,
            "flex_flow": null,
            "width": null,
            "min_width": null,
            "border": null,
            "align_items": null,
            "bottom": null,
            "_model_module": "@jupyter-widgets/base",
            "top": null,
            "grid_column": null,
            "overflow_y": null,
            "overflow_x": null,
            "grid_auto_flow": null,
            "grid_area": null,
            "grid_template_columns": null,
            "flex": null,
            "_model_name": "LayoutModel",
            "justify_items": null,
            "grid_row": null,
            "max_height": null,
            "align_content": null,
            "visibility": null,
            "align_self": null,
            "height": null,
            "min_height": null,
            "padding": null,
            "grid_auto_rows": null,
            "grid_gap": null,
            "max_width": null,
            "order": null,
            "_view_module_version": "1.2.0",
            "grid_template_areas": null,
            "object_position": null,
            "object_fit": null,
            "grid_auto_columns": null,
            "margin": null,
            "display": null,
            "left": null
          }
        },
        "9390f31c6f6444c790aaec767cf4a8ec": {
          "model_module": "@jupyter-widgets/controls",
          "model_name": "FloatProgressModel",
          "state": {
            "_view_name": "ProgressView",
            "style": "IPY_MODEL_3c54f42aa38c44b58a27672f6b602d12",
            "_dom_classes": [],
            "description": "100%",
            "_model_name": "FloatProgressModel",
            "bar_style": "success",
            "max": 26247,
            "_view_module": "@jupyter-widgets/controls",
            "_model_module_version": "1.5.0",
            "value": 26247,
            "_view_count": null,
            "_view_module_version": "1.5.0",
            "orientation": "horizontal",
            "min": 0,
            "description_tooltip": null,
            "_model_module": "@jupyter-widgets/controls",
            "layout": "IPY_MODEL_c7fa024c3b054df2bdd914796b3869e0"
          }
        },
        "7fab57d185854bd2b87fb8aac9dd647b": {
          "model_module": "@jupyter-widgets/controls",
          "model_name": "HTMLModel",
          "state": {
            "_view_name": "HTMLView",
            "style": "IPY_MODEL_8426eab767f341b2bab11a888be4ee70",
            "_dom_classes": [],
            "description": "",
            "_model_name": "HTMLModel",
            "placeholder": "​",
            "_view_module": "@jupyter-widgets/controls",
            "_model_module_version": "1.5.0",
            "value": " 26247/26247 [00:02&lt;00:00, 10764.94it/s]",
            "_view_count": null,
            "_view_module_version": "1.5.0",
            "description_tooltip": null,
            "_model_module": "@jupyter-widgets/controls",
            "layout": "IPY_MODEL_691699506c1d450cb906eb9ad1093b9b"
          }
        },
        "3c54f42aa38c44b58a27672f6b602d12": {
          "model_module": "@jupyter-widgets/controls",
          "model_name": "ProgressStyleModel",
          "state": {
            "_view_name": "StyleView",
            "_model_name": "ProgressStyleModel",
            "description_width": "initial",
            "_view_module": "@jupyter-widgets/base",
            "_model_module_version": "1.5.0",
            "_view_count": null,
            "_view_module_version": "1.2.0",
            "bar_color": null,
            "_model_module": "@jupyter-widgets/controls"
          }
        },
        "c7fa024c3b054df2bdd914796b3869e0": {
          "model_module": "@jupyter-widgets/base",
          "model_name": "LayoutModel",
          "state": {
            "_view_name": "LayoutView",
            "grid_template_rows": null,
            "right": null,
            "justify_content": null,
            "_view_module": "@jupyter-widgets/base",
            "overflow": null,
            "_model_module_version": "1.2.0",
            "_view_count": null,
            "flex_flow": null,
            "width": null,
            "min_width": null,
            "border": null,
            "align_items": null,
            "bottom": null,
            "_model_module": "@jupyter-widgets/base",
            "top": null,
            "grid_column": null,
            "overflow_y": null,
            "overflow_x": null,
            "grid_auto_flow": null,
            "grid_area": null,
            "grid_template_columns": null,
            "flex": null,
            "_model_name": "LayoutModel",
            "justify_items": null,
            "grid_row": null,
            "max_height": null,
            "align_content": null,
            "visibility": null,
            "align_self": null,
            "height": null,
            "min_height": null,
            "padding": null,
            "grid_auto_rows": null,
            "grid_gap": null,
            "max_width": null,
            "order": null,
            "_view_module_version": "1.2.0",
            "grid_template_areas": null,
            "object_position": null,
            "object_fit": null,
            "grid_auto_columns": null,
            "margin": null,
            "display": null,
            "left": null
          }
        },
        "8426eab767f341b2bab11a888be4ee70": {
          "model_module": "@jupyter-widgets/controls",
          "model_name": "DescriptionStyleModel",
          "state": {
            "_view_name": "StyleView",
            "_model_name": "DescriptionStyleModel",
            "description_width": "",
            "_view_module": "@jupyter-widgets/base",
            "_model_module_version": "1.5.0",
            "_view_count": null,
            "_view_module_version": "1.2.0",
            "_model_module": "@jupyter-widgets/controls"
          }
        },
        "691699506c1d450cb906eb9ad1093b9b": {
          "model_module": "@jupyter-widgets/base",
          "model_name": "LayoutModel",
          "state": {
            "_view_name": "LayoutView",
            "grid_template_rows": null,
            "right": null,
            "justify_content": null,
            "_view_module": "@jupyter-widgets/base",
            "overflow": null,
            "_model_module_version": "1.2.0",
            "_view_count": null,
            "flex_flow": null,
            "width": null,
            "min_width": null,
            "border": null,
            "align_items": null,
            "bottom": null,
            "_model_module": "@jupyter-widgets/base",
            "top": null,
            "grid_column": null,
            "overflow_y": null,
            "overflow_x": null,
            "grid_auto_flow": null,
            "grid_area": null,
            "grid_template_columns": null,
            "flex": null,
            "_model_name": "LayoutModel",
            "justify_items": null,
            "grid_row": null,
            "max_height": null,
            "align_content": null,
            "visibility": null,
            "align_self": null,
            "height": null,
            "min_height": null,
            "padding": null,
            "grid_auto_rows": null,
            "grid_gap": null,
            "max_width": null,
            "order": null,
            "_view_module_version": "1.2.0",
            "grid_template_areas": null,
            "object_position": null,
            "object_fit": null,
            "grid_auto_columns": null,
            "margin": null,
            "display": null,
            "left": null
          }
        },
        "17760988c36a4a93a4bcfbd33036ff04": {
          "model_module": "@jupyter-widgets/controls",
          "model_name": "HBoxModel",
          "state": {
            "_view_name": "HBoxView",
            "_dom_classes": [],
            "_model_name": "HBoxModel",
            "_view_module": "@jupyter-widgets/controls",
            "_model_module_version": "1.5.0",
            "_view_count": null,
            "_view_module_version": "1.5.0",
            "box_style": "",
            "layout": "IPY_MODEL_e0115efa07fe4ca193495b5096f24315",
            "_model_module": "@jupyter-widgets/controls",
            "children": [
              "IPY_MODEL_d0b3877659fa41628fbee84388fb443a",
              "IPY_MODEL_83738f0c61564991b1344be360c0fc44"
            ]
          }
        },
        "e0115efa07fe4ca193495b5096f24315": {
          "model_module": "@jupyter-widgets/base",
          "model_name": "LayoutModel",
          "state": {
            "_view_name": "LayoutView",
            "grid_template_rows": null,
            "right": null,
            "justify_content": null,
            "_view_module": "@jupyter-widgets/base",
            "overflow": null,
            "_model_module_version": "1.2.0",
            "_view_count": null,
            "flex_flow": null,
            "width": null,
            "min_width": null,
            "border": null,
            "align_items": null,
            "bottom": null,
            "_model_module": "@jupyter-widgets/base",
            "top": null,
            "grid_column": null,
            "overflow_y": null,
            "overflow_x": null,
            "grid_auto_flow": null,
            "grid_area": null,
            "grid_template_columns": null,
            "flex": null,
            "_model_name": "LayoutModel",
            "justify_items": null,
            "grid_row": null,
            "max_height": null,
            "align_content": null,
            "visibility": null,
            "align_self": null,
            "height": null,
            "min_height": null,
            "padding": null,
            "grid_auto_rows": null,
            "grid_gap": null,
            "max_width": null,
            "order": null,
            "_view_module_version": "1.2.0",
            "grid_template_areas": null,
            "object_position": null,
            "object_fit": null,
            "grid_auto_columns": null,
            "margin": null,
            "display": null,
            "left": null
          }
        },
        "d0b3877659fa41628fbee84388fb443a": {
          "model_module": "@jupyter-widgets/controls",
          "model_name": "FloatProgressModel",
          "state": {
            "_view_name": "ProgressView",
            "style": "IPY_MODEL_63751490e09643f3ba88ac404109fcf3",
            "_dom_classes": [],
            "description": "100%",
            "_model_name": "FloatProgressModel",
            "bar_style": "success",
            "max": 26247,
            "_view_module": "@jupyter-widgets/controls",
            "_model_module_version": "1.5.0",
            "value": 26247,
            "_view_count": null,
            "_view_module_version": "1.5.0",
            "orientation": "horizontal",
            "min": 0,
            "description_tooltip": null,
            "_model_module": "@jupyter-widgets/controls",
            "layout": "IPY_MODEL_5b230f53c489421bb1515dd3a0cf4006"
          }
        },
        "83738f0c61564991b1344be360c0fc44": {
          "model_module": "@jupyter-widgets/controls",
          "model_name": "HTMLModel",
          "state": {
            "_view_name": "HTMLView",
            "style": "IPY_MODEL_c7791b3bbd6e425a987dc3e7a1af9322",
            "_dom_classes": [],
            "description": "",
            "_model_name": "HTMLModel",
            "placeholder": "​",
            "_view_module": "@jupyter-widgets/controls",
            "_model_module_version": "1.5.0",
            "value": " 26247/26247 [00:01&lt;00:00, 21023.25it/s]",
            "_view_count": null,
            "_view_module_version": "1.5.0",
            "description_tooltip": null,
            "_model_module": "@jupyter-widgets/controls",
            "layout": "IPY_MODEL_dba0d1a3a34045c7a5432ef60f46b7a6"
          }
        },
        "63751490e09643f3ba88ac404109fcf3": {
          "model_module": "@jupyter-widgets/controls",
          "model_name": "ProgressStyleModel",
          "state": {
            "_view_name": "StyleView",
            "_model_name": "ProgressStyleModel",
            "description_width": "initial",
            "_view_module": "@jupyter-widgets/base",
            "_model_module_version": "1.5.0",
            "_view_count": null,
            "_view_module_version": "1.2.0",
            "bar_color": null,
            "_model_module": "@jupyter-widgets/controls"
          }
        },
        "5b230f53c489421bb1515dd3a0cf4006": {
          "model_module": "@jupyter-widgets/base",
          "model_name": "LayoutModel",
          "state": {
            "_view_name": "LayoutView",
            "grid_template_rows": null,
            "right": null,
            "justify_content": null,
            "_view_module": "@jupyter-widgets/base",
            "overflow": null,
            "_model_module_version": "1.2.0",
            "_view_count": null,
            "flex_flow": null,
            "width": null,
            "min_width": null,
            "border": null,
            "align_items": null,
            "bottom": null,
            "_model_module": "@jupyter-widgets/base",
            "top": null,
            "grid_column": null,
            "overflow_y": null,
            "overflow_x": null,
            "grid_auto_flow": null,
            "grid_area": null,
            "grid_template_columns": null,
            "flex": null,
            "_model_name": "LayoutModel",
            "justify_items": null,
            "grid_row": null,
            "max_height": null,
            "align_content": null,
            "visibility": null,
            "align_self": null,
            "height": null,
            "min_height": null,
            "padding": null,
            "grid_auto_rows": null,
            "grid_gap": null,
            "max_width": null,
            "order": null,
            "_view_module_version": "1.2.0",
            "grid_template_areas": null,
            "object_position": null,
            "object_fit": null,
            "grid_auto_columns": null,
            "margin": null,
            "display": null,
            "left": null
          }
        },
        "c7791b3bbd6e425a987dc3e7a1af9322": {
          "model_module": "@jupyter-widgets/controls",
          "model_name": "DescriptionStyleModel",
          "state": {
            "_view_name": "StyleView",
            "_model_name": "DescriptionStyleModel",
            "description_width": "",
            "_view_module": "@jupyter-widgets/base",
            "_model_module_version": "1.5.0",
            "_view_count": null,
            "_view_module_version": "1.2.0",
            "_model_module": "@jupyter-widgets/controls"
          }
        },
        "dba0d1a3a34045c7a5432ef60f46b7a6": {
          "model_module": "@jupyter-widgets/base",
          "model_name": "LayoutModel",
          "state": {
            "_view_name": "LayoutView",
            "grid_template_rows": null,
            "right": null,
            "justify_content": null,
            "_view_module": "@jupyter-widgets/base",
            "overflow": null,
            "_model_module_version": "1.2.0",
            "_view_count": null,
            "flex_flow": null,
            "width": null,
            "min_width": null,
            "border": null,
            "align_items": null,
            "bottom": null,
            "_model_module": "@jupyter-widgets/base",
            "top": null,
            "grid_column": null,
            "overflow_y": null,
            "overflow_x": null,
            "grid_auto_flow": null,
            "grid_area": null,
            "grid_template_columns": null,
            "flex": null,
            "_model_name": "LayoutModel",
            "justify_items": null,
            "grid_row": null,
            "max_height": null,
            "align_content": null,
            "visibility": null,
            "align_self": null,
            "height": null,
            "min_height": null,
            "padding": null,
            "grid_auto_rows": null,
            "grid_gap": null,
            "max_width": null,
            "order": null,
            "_view_module_version": "1.2.0",
            "grid_template_areas": null,
            "object_position": null,
            "object_fit": null,
            "grid_auto_columns": null,
            "margin": null,
            "display": null,
            "left": null
          }
        },
        "9500227931f74483ba18d8d6da22968b": {
          "model_module": "@jupyter-widgets/controls",
          "model_name": "HBoxModel",
          "state": {
            "_view_name": "HBoxView",
            "_dom_classes": [],
            "_model_name": "HBoxModel",
            "_view_module": "@jupyter-widgets/controls",
            "_model_module_version": "1.5.0",
            "_view_count": null,
            "_view_module_version": "1.5.0",
            "box_style": "",
            "layout": "IPY_MODEL_9bcdea4adbbc4288b7aa711356b4a0fb",
            "_model_module": "@jupyter-widgets/controls",
            "children": [
              "IPY_MODEL_8665afad1627483d9dfebbd47749039d",
              "IPY_MODEL_482e421e5c4b4550ba04328cd9b46ad2"
            ]
          }
        },
        "9bcdea4adbbc4288b7aa711356b4a0fb": {
          "model_module": "@jupyter-widgets/base",
          "model_name": "LayoutModel",
          "state": {
            "_view_name": "LayoutView",
            "grid_template_rows": null,
            "right": null,
            "justify_content": null,
            "_view_module": "@jupyter-widgets/base",
            "overflow": null,
            "_model_module_version": "1.2.0",
            "_view_count": null,
            "flex_flow": null,
            "width": null,
            "min_width": null,
            "border": null,
            "align_items": null,
            "bottom": null,
            "_model_module": "@jupyter-widgets/base",
            "top": null,
            "grid_column": null,
            "overflow_y": null,
            "overflow_x": null,
            "grid_auto_flow": null,
            "grid_area": null,
            "grid_template_columns": null,
            "flex": null,
            "_model_name": "LayoutModel",
            "justify_items": null,
            "grid_row": null,
            "max_height": null,
            "align_content": null,
            "visibility": null,
            "align_self": null,
            "height": null,
            "min_height": null,
            "padding": null,
            "grid_auto_rows": null,
            "grid_gap": null,
            "max_width": null,
            "order": null,
            "_view_module_version": "1.2.0",
            "grid_template_areas": null,
            "object_position": null,
            "object_fit": null,
            "grid_auto_columns": null,
            "margin": null,
            "display": null,
            "left": null
          }
        },
        "8665afad1627483d9dfebbd47749039d": {
          "model_module": "@jupyter-widgets/controls",
          "model_name": "FloatProgressModel",
          "state": {
            "_view_name": "ProgressView",
            "style": "IPY_MODEL_6bb427d2df264fb4a6751a2ac559396f",
            "_dom_classes": [],
            "description": "100%",
            "_model_name": "FloatProgressModel",
            "bar_style": "success",
            "max": 26247,
            "_view_module": "@jupyter-widgets/controls",
            "_model_module_version": "1.5.0",
            "value": 26247,
            "_view_count": null,
            "_view_module_version": "1.5.0",
            "orientation": "horizontal",
            "min": 0,
            "description_tooltip": null,
            "_model_module": "@jupyter-widgets/controls",
            "layout": "IPY_MODEL_8895f3bbe317481582dbd32d4cb39753"
          }
        },
        "482e421e5c4b4550ba04328cd9b46ad2": {
          "model_module": "@jupyter-widgets/controls",
          "model_name": "HTMLModel",
          "state": {
            "_view_name": "HTMLView",
            "style": "IPY_MODEL_53cfb6c4389f4c65aa874cd17da8d8da",
            "_dom_classes": [],
            "description": "",
            "_model_name": "HTMLModel",
            "placeholder": "​",
            "_view_module": "@jupyter-widgets/controls",
            "_model_module_version": "1.5.0",
            "value": " 26247/26247 [18:04&lt;00:00, 24.20it/s]",
            "_view_count": null,
            "_view_module_version": "1.5.0",
            "description_tooltip": null,
            "_model_module": "@jupyter-widgets/controls",
            "layout": "IPY_MODEL_2e196fbe6cdf4c22aeabe5d125f49df3"
          }
        },
        "6bb427d2df264fb4a6751a2ac559396f": {
          "model_module": "@jupyter-widgets/controls",
          "model_name": "ProgressStyleModel",
          "state": {
            "_view_name": "StyleView",
            "_model_name": "ProgressStyleModel",
            "description_width": "initial",
            "_view_module": "@jupyter-widgets/base",
            "_model_module_version": "1.5.0",
            "_view_count": null,
            "_view_module_version": "1.2.0",
            "bar_color": null,
            "_model_module": "@jupyter-widgets/controls"
          }
        },
        "8895f3bbe317481582dbd32d4cb39753": {
          "model_module": "@jupyter-widgets/base",
          "model_name": "LayoutModel",
          "state": {
            "_view_name": "LayoutView",
            "grid_template_rows": null,
            "right": null,
            "justify_content": null,
            "_view_module": "@jupyter-widgets/base",
            "overflow": null,
            "_model_module_version": "1.2.0",
            "_view_count": null,
            "flex_flow": null,
            "width": null,
            "min_width": null,
            "border": null,
            "align_items": null,
            "bottom": null,
            "_model_module": "@jupyter-widgets/base",
            "top": null,
            "grid_column": null,
            "overflow_y": null,
            "overflow_x": null,
            "grid_auto_flow": null,
            "grid_area": null,
            "grid_template_columns": null,
            "flex": null,
            "_model_name": "LayoutModel",
            "justify_items": null,
            "grid_row": null,
            "max_height": null,
            "align_content": null,
            "visibility": null,
            "align_self": null,
            "height": null,
            "min_height": null,
            "padding": null,
            "grid_auto_rows": null,
            "grid_gap": null,
            "max_width": null,
            "order": null,
            "_view_module_version": "1.2.0",
            "grid_template_areas": null,
            "object_position": null,
            "object_fit": null,
            "grid_auto_columns": null,
            "margin": null,
            "display": null,
            "left": null
          }
        },
        "53cfb6c4389f4c65aa874cd17da8d8da": {
          "model_module": "@jupyter-widgets/controls",
          "model_name": "DescriptionStyleModel",
          "state": {
            "_view_name": "StyleView",
            "_model_name": "DescriptionStyleModel",
            "description_width": "",
            "_view_module": "@jupyter-widgets/base",
            "_model_module_version": "1.5.0",
            "_view_count": null,
            "_view_module_version": "1.2.0",
            "_model_module": "@jupyter-widgets/controls"
          }
        },
        "2e196fbe6cdf4c22aeabe5d125f49df3": {
          "model_module": "@jupyter-widgets/base",
          "model_name": "LayoutModel",
          "state": {
            "_view_name": "LayoutView",
            "grid_template_rows": null,
            "right": null,
            "justify_content": null,
            "_view_module": "@jupyter-widgets/base",
            "overflow": null,
            "_model_module_version": "1.2.0",
            "_view_count": null,
            "flex_flow": null,
            "width": null,
            "min_width": null,
            "border": null,
            "align_items": null,
            "bottom": null,
            "_model_module": "@jupyter-widgets/base",
            "top": null,
            "grid_column": null,
            "overflow_y": null,
            "overflow_x": null,
            "grid_auto_flow": null,
            "grid_area": null,
            "grid_template_columns": null,
            "flex": null,
            "_model_name": "LayoutModel",
            "justify_items": null,
            "grid_row": null,
            "max_height": null,
            "align_content": null,
            "visibility": null,
            "align_self": null,
            "height": null,
            "min_height": null,
            "padding": null,
            "grid_auto_rows": null,
            "grid_gap": null,
            "max_width": null,
            "order": null,
            "_view_module_version": "1.2.0",
            "grid_template_areas": null,
            "object_position": null,
            "object_fit": null,
            "grid_auto_columns": null,
            "margin": null,
            "display": null,
            "left": null
          }
        },
        "7e05e88d5e104e7bae9f60d1c171a42a": {
          "model_module": "@jupyter-widgets/controls",
          "model_name": "HBoxModel",
          "state": {
            "_view_name": "HBoxView",
            "_dom_classes": [],
            "_model_name": "HBoxModel",
            "_view_module": "@jupyter-widgets/controls",
            "_model_module_version": "1.5.0",
            "_view_count": null,
            "_view_module_version": "1.5.0",
            "box_style": "",
            "layout": "IPY_MODEL_90bb0ab9da0747b4b6045f05d82ba0b2",
            "_model_module": "@jupyter-widgets/controls",
            "children": [
              "IPY_MODEL_049efa0c7de144b3871403480a1a8e40",
              "IPY_MODEL_90f55bcac22b43c9a878f5c1a05969ac"
            ]
          }
        },
        "90bb0ab9da0747b4b6045f05d82ba0b2": {
          "model_module": "@jupyter-widgets/base",
          "model_name": "LayoutModel",
          "state": {
            "_view_name": "LayoutView",
            "grid_template_rows": null,
            "right": null,
            "justify_content": null,
            "_view_module": "@jupyter-widgets/base",
            "overflow": null,
            "_model_module_version": "1.2.0",
            "_view_count": null,
            "flex_flow": null,
            "width": null,
            "min_width": null,
            "border": null,
            "align_items": null,
            "bottom": null,
            "_model_module": "@jupyter-widgets/base",
            "top": null,
            "grid_column": null,
            "overflow_y": null,
            "overflow_x": null,
            "grid_auto_flow": null,
            "grid_area": null,
            "grid_template_columns": null,
            "flex": null,
            "_model_name": "LayoutModel",
            "justify_items": null,
            "grid_row": null,
            "max_height": null,
            "align_content": null,
            "visibility": null,
            "align_self": null,
            "height": null,
            "min_height": null,
            "padding": null,
            "grid_auto_rows": null,
            "grid_gap": null,
            "max_width": null,
            "order": null,
            "_view_module_version": "1.2.0",
            "grid_template_areas": null,
            "object_position": null,
            "object_fit": null,
            "grid_auto_columns": null,
            "margin": null,
            "display": null,
            "left": null
          }
        },
        "049efa0c7de144b3871403480a1a8e40": {
          "model_module": "@jupyter-widgets/controls",
          "model_name": "FloatProgressModel",
          "state": {
            "_view_name": "ProgressView",
            "style": "IPY_MODEL_1367cc66942e4b7b92fbec86654a0e62",
            "_dom_classes": [],
            "description": "100%",
            "_model_name": "FloatProgressModel",
            "bar_style": "success",
            "max": 26247,
            "_view_module": "@jupyter-widgets/controls",
            "_model_module_version": "1.5.0",
            "value": 26247,
            "_view_count": null,
            "_view_module_version": "1.5.0",
            "orientation": "horizontal",
            "min": 0,
            "description_tooltip": null,
            "_model_module": "@jupyter-widgets/controls",
            "layout": "IPY_MODEL_a1f6be4ecd194214bfa9da0c77b8e8ca"
          }
        },
        "90f55bcac22b43c9a878f5c1a05969ac": {
          "model_module": "@jupyter-widgets/controls",
          "model_name": "HTMLModel",
          "state": {
            "_view_name": "HTMLView",
            "style": "IPY_MODEL_1157a8b1be2f460490e847f9b6300c4e",
            "_dom_classes": [],
            "description": "",
            "_model_name": "HTMLModel",
            "placeholder": "​",
            "_view_module": "@jupyter-widgets/controls",
            "_model_module_version": "1.5.0",
            "value": " 26247/26247 [13:56&lt;00:00, 31.38it/s]",
            "_view_count": null,
            "_view_module_version": "1.5.0",
            "description_tooltip": null,
            "_model_module": "@jupyter-widgets/controls",
            "layout": "IPY_MODEL_80797ab07a8842498989ac8d946ce956"
          }
        },
        "1367cc66942e4b7b92fbec86654a0e62": {
          "model_module": "@jupyter-widgets/controls",
          "model_name": "ProgressStyleModel",
          "state": {
            "_view_name": "StyleView",
            "_model_name": "ProgressStyleModel",
            "description_width": "initial",
            "_view_module": "@jupyter-widgets/base",
            "_model_module_version": "1.5.0",
            "_view_count": null,
            "_view_module_version": "1.2.0",
            "bar_color": null,
            "_model_module": "@jupyter-widgets/controls"
          }
        },
        "a1f6be4ecd194214bfa9da0c77b8e8ca": {
          "model_module": "@jupyter-widgets/base",
          "model_name": "LayoutModel",
          "state": {
            "_view_name": "LayoutView",
            "grid_template_rows": null,
            "right": null,
            "justify_content": null,
            "_view_module": "@jupyter-widgets/base",
            "overflow": null,
            "_model_module_version": "1.2.0",
            "_view_count": null,
            "flex_flow": null,
            "width": null,
            "min_width": null,
            "border": null,
            "align_items": null,
            "bottom": null,
            "_model_module": "@jupyter-widgets/base",
            "top": null,
            "grid_column": null,
            "overflow_y": null,
            "overflow_x": null,
            "grid_auto_flow": null,
            "grid_area": null,
            "grid_template_columns": null,
            "flex": null,
            "_model_name": "LayoutModel",
            "justify_items": null,
            "grid_row": null,
            "max_height": null,
            "align_content": null,
            "visibility": null,
            "align_self": null,
            "height": null,
            "min_height": null,
            "padding": null,
            "grid_auto_rows": null,
            "grid_gap": null,
            "max_width": null,
            "order": null,
            "_view_module_version": "1.2.0",
            "grid_template_areas": null,
            "object_position": null,
            "object_fit": null,
            "grid_auto_columns": null,
            "margin": null,
            "display": null,
            "left": null
          }
        },
        "1157a8b1be2f460490e847f9b6300c4e": {
          "model_module": "@jupyter-widgets/controls",
          "model_name": "DescriptionStyleModel",
          "state": {
            "_view_name": "StyleView",
            "_model_name": "DescriptionStyleModel",
            "description_width": "",
            "_view_module": "@jupyter-widgets/base",
            "_model_module_version": "1.5.0",
            "_view_count": null,
            "_view_module_version": "1.2.0",
            "_model_module": "@jupyter-widgets/controls"
          }
        },
        "80797ab07a8842498989ac8d946ce956": {
          "model_module": "@jupyter-widgets/base",
          "model_name": "LayoutModel",
          "state": {
            "_view_name": "LayoutView",
            "grid_template_rows": null,
            "right": null,
            "justify_content": null,
            "_view_module": "@jupyter-widgets/base",
            "overflow": null,
            "_model_module_version": "1.2.0",
            "_view_count": null,
            "flex_flow": null,
            "width": null,
            "min_width": null,
            "border": null,
            "align_items": null,
            "bottom": null,
            "_model_module": "@jupyter-widgets/base",
            "top": null,
            "grid_column": null,
            "overflow_y": null,
            "overflow_x": null,
            "grid_auto_flow": null,
            "grid_area": null,
            "grid_template_columns": null,
            "flex": null,
            "_model_name": "LayoutModel",
            "justify_items": null,
            "grid_row": null,
            "max_height": null,
            "align_content": null,
            "visibility": null,
            "align_self": null,
            "height": null,
            "min_height": null,
            "padding": null,
            "grid_auto_rows": null,
            "grid_gap": null,
            "max_width": null,
            "order": null,
            "_view_module_version": "1.2.0",
            "grid_template_areas": null,
            "object_position": null,
            "object_fit": null,
            "grid_auto_columns": null,
            "margin": null,
            "display": null,
            "left": null
          }
        }
      }
    },
    "accelerator": "GPU"
  },
  "cells": [
    {
      "cell_type": "markdown",
      "metadata": {
        "id": "8tBBuIXCH46z"
      },
      "source": [
        "# Data exploration\n",
        "\n",
        "Let's first download the squad dataset and the trained model"
      ]
    },
    {
      "cell_type": "code",
      "metadata": {
        "id": "chh_1m_2xiYA",
        "colab": {
          "base_uri": "https://localhost:8080/"
        },
        "outputId": "334c3553-b9ec-4a5b-982c-ce134a3cfcdd"
      },
      "source": [
        "!mkdir squad\n",
        "!wget https://rajpurkar.github.io/SQuAD-explorer/dataset/train-v2.0.json -O squad/train-v2.0.json\n",
        "!wget https://rajpurkar.github.io/SQuAD-explorer/dataset/dev-v2.0.json -O squad/dev-v2.0.json"
      ],
      "execution_count": 1,
      "outputs": [
        {
          "output_type": "stream",
          "text": [
            "--2021-04-24 08:10:26--  https://rajpurkar.github.io/SQuAD-explorer/dataset/train-v2.0.json\n",
            "Resolving rajpurkar.github.io (rajpurkar.github.io)... 185.199.108.153, 185.199.109.153, 185.199.110.153, ...\n",
            "Connecting to rajpurkar.github.io (rajpurkar.github.io)|185.199.108.153|:443... connected.\n",
            "HTTP request sent, awaiting response... 200 OK\n",
            "Length: 42123633 (40M) [application/json]\n",
            "Saving to: ‘squad/train-v2.0.json’\n",
            "\n",
            "squad/train-v2.0.js 100%[===================>]  40.17M  85.5MB/s    in 0.5s    \n",
            "\n",
            "2021-04-24 08:10:28 (85.5 MB/s) - ‘squad/train-v2.0.json’ saved [42123633/42123633]\n",
            "\n",
            "--2021-04-24 08:10:28--  https://rajpurkar.github.io/SQuAD-explorer/dataset/dev-v2.0.json\n",
            "Resolving rajpurkar.github.io (rajpurkar.github.io)... 185.199.108.153, 185.199.109.153, 185.199.110.153, ...\n",
            "Connecting to rajpurkar.github.io (rajpurkar.github.io)|185.199.108.153|:443... connected.\n",
            "HTTP request sent, awaiting response... 200 OK\n",
            "Length: 4370528 (4.2M) [application/json]\n",
            "Saving to: ‘squad/dev-v2.0.json’\n",
            "\n",
            "squad/dev-v2.0.json 100%[===================>]   4.17M  --.-KB/s    in 0.1s    \n",
            "\n",
            "2021-04-24 08:10:28 (37.5 MB/s) - ‘squad/dev-v2.0.json’ saved [4370528/4370528]\n",
            "\n"
          ],
          "name": "stdout"
        }
      ]
    },
    {
      "cell_type": "code",
      "metadata": {
        "colab": {
          "base_uri": "https://localhost:8080/"
        },
        "id": "cYX-Kg926VXu",
        "outputId": "bb2607a6-6ee3-4765-b259-d1a2a559c4bd"
      },
      "source": [
        "!wget --load-cookies /tmp/cookies.txt \"https://docs.google.com/uc?export=download&confirm=$(wget --quiet --save-cookies /tmp/cookies.txt --keep-session-cookies --no-check-certificate 'https://docs.google.com/uc?export=download&id=1GZQnz1ON9ET7Op-OipDnb2_RGam6WEwJ' -O- | sed -rn 's/.*confirm=([0-9A-Za-z_]+).*/\\1\\n/p')&id=1GZQnz1ON9ET7Op-OipDnb2_RGam6WEwJ\" -O models && rm -rf /tmp/cookies.txt"
      ],
      "execution_count": 4,
      "outputs": [
        {
          "output_type": "stream",
          "text": [
            "--2021-04-24 08:11:08--  https://docs.google.com/uc?export=download&confirm=jugd&id=1GZQnz1ON9ET7Op-OipDnb2_RGam6WEwJ\n",
            "Resolving docs.google.com (docs.google.com)... 74.125.195.101, 74.125.195.139, 74.125.195.138, ...\n",
            "Connecting to docs.google.com (docs.google.com)|74.125.195.101|:443... connected.\n",
            "HTTP request sent, awaiting response... 302 Moved Temporarily\n",
            "Location: https://doc-0c-8o-docs.googleusercontent.com/docs/securesc/e136iorsd9lq4iqn8so2ct1k7mhrpgi7/16cehbhqpc32afheoimv1eur9br1c5g4/1619251800000/16774955666988893746/07904973850869210983Z/1GZQnz1ON9ET7Op-OipDnb2_RGam6WEwJ?e=download [following]\n",
            "--2021-04-24 08:11:08--  https://doc-0c-8o-docs.googleusercontent.com/docs/securesc/e136iorsd9lq4iqn8so2ct1k7mhrpgi7/16cehbhqpc32afheoimv1eur9br1c5g4/1619251800000/16774955666988893746/07904973850869210983Z/1GZQnz1ON9ET7Op-OipDnb2_RGam6WEwJ?e=download\n",
            "Resolving doc-0c-8o-docs.googleusercontent.com (doc-0c-8o-docs.googleusercontent.com)... 74.125.142.132, 2607:f8b0:400e:c08::84\n",
            "Connecting to doc-0c-8o-docs.googleusercontent.com (doc-0c-8o-docs.googleusercontent.com)|74.125.142.132|:443... connected.\n",
            "HTTP request sent, awaiting response... 302 Found\n",
            "Location: https://docs.google.com/nonceSigner?nonce=hjht1l1tsqf6c&continue=https://doc-0c-8o-docs.googleusercontent.com/docs/securesc/e136iorsd9lq4iqn8so2ct1k7mhrpgi7/16cehbhqpc32afheoimv1eur9br1c5g4/1619251800000/16774955666988893746/07904973850869210983Z/1GZQnz1ON9ET7Op-OipDnb2_RGam6WEwJ?e%3Ddownload&hash=r222b8s7f6vrs5gp2oak51vpppf6nh6n [following]\n",
            "--2021-04-24 08:11:08--  https://docs.google.com/nonceSigner?nonce=hjht1l1tsqf6c&continue=https://doc-0c-8o-docs.googleusercontent.com/docs/securesc/e136iorsd9lq4iqn8so2ct1k7mhrpgi7/16cehbhqpc32afheoimv1eur9br1c5g4/1619251800000/16774955666988893746/07904973850869210983Z/1GZQnz1ON9ET7Op-OipDnb2_RGam6WEwJ?e%3Ddownload&hash=r222b8s7f6vrs5gp2oak51vpppf6nh6n\n",
            "Connecting to docs.google.com (docs.google.com)|74.125.195.101|:443... connected.\n",
            "HTTP request sent, awaiting response... 302 Found\n",
            "Location: https://doc-0c-8o-docs.googleusercontent.com/docs/securesc/e136iorsd9lq4iqn8so2ct1k7mhrpgi7/16cehbhqpc32afheoimv1eur9br1c5g4/1619251800000/16774955666988893746/07904973850869210983Z/1GZQnz1ON9ET7Op-OipDnb2_RGam6WEwJ?e=download&nonce=hjht1l1tsqf6c&user=07904973850869210983Z&hash=9sinunqu1klsml289bjmnu42fb60k9ac [following]\n",
            "--2021-04-24 08:11:09--  https://doc-0c-8o-docs.googleusercontent.com/docs/securesc/e136iorsd9lq4iqn8so2ct1k7mhrpgi7/16cehbhqpc32afheoimv1eur9br1c5g4/1619251800000/16774955666988893746/07904973850869210983Z/1GZQnz1ON9ET7Op-OipDnb2_RGam6WEwJ?e=download&nonce=hjht1l1tsqf6c&user=07904973850869210983Z&hash=9sinunqu1klsml289bjmnu42fb60k9ac\n",
            "Connecting to doc-0c-8o-docs.googleusercontent.com (doc-0c-8o-docs.googleusercontent.com)|74.125.142.132|:443... connected.\n",
            "HTTP request sent, awaiting response... 200 OK\n",
            "Length: unspecified [application/x-zip-compressed]\n",
            "Saving to: ‘models’\n",
            "\n",
            "models                  [        <=>         ]   1.14G  96.6MB/s    in 10s     \n",
            "\n",
            "2021-04-24 08:11:20 (111 MB/s) - ‘models’ saved [1224072670]\n",
            "\n"
          ],
          "name": "stdout"
        }
      ]
    },
    {
      "cell_type": "code",
      "metadata": {
        "colab": {
          "base_uri": "https://localhost:8080/"
        },
        "id": "PDfj5-YfQhcq",
        "outputId": "4503ebee-c50c-4f21-9ac2-224143121bbf"
      },
      "source": [
        "!unzip models"
      ],
      "execution_count": 5,
      "outputs": [
        {
          "output_type": "stream",
          "text": [
            "Archive:  models\n",
            "  inflating: linear_model_all_CQ.pt  \n",
            "  inflating: linear_model_onlyans_CQ.pt  \n",
            "  inflating: linear_model_all_QC.pt  \n",
            "  inflating: linear_model_noans.pt   \n",
            "  inflating: linear_onlyans_QC.pt    \n"
          ],
          "name": "stdout"
        }
      ]
    },
    {
      "cell_type": "markdown",
      "metadata": {
        "id": "SN1JSkfmIKZL"
      },
      "source": [
        "Now to read the squad files:"
      ]
    },
    {
      "cell_type": "code",
      "metadata": {
        "id": "BS5rscmXxkA5"
      },
      "source": [
        "import json\n",
        "from pathlib import Path\n",
        "import numpy as np\n",
        "\n",
        "def read_squad(path):\n",
        "    path = Path(path)\n",
        "    with open(path, 'rb') as f:\n",
        "        squad_dict = json.load(f)\n",
        "\n",
        "    contexts = []\n",
        "    questions = []\n",
        "    answers = []\n",
        "    qid = []\n",
        "    for group in squad_dict['data']:\n",
        "        for passage in group['paragraphs']:\n",
        "            context = passage['context']\n",
        "            for qa in passage['qas']:\n",
        "                question = qa['question']\n",
        "                id = qa['id']\n",
        "# Below line are for taking into account questions with no answers\n",
        "                if not qa['answers']:\n",
        "                    contexts.append(context)\n",
        "                    questions.append(question)\n",
        "                    answers.append({'text': '', 'answer_start':-1})\n",
        "                    qid.append(id)\n",
        "                for answer in qa['answers']:\n",
        "                    contexts.append(context)\n",
        "                    questions.append(question)\n",
        "                    answers.append(answer)\n",
        "                    qid.append(id)\n",
        "\n",
        "    return contexts, questions, answers, qid\n",
        "\n",
        "train_contexts, train_questions, train_answers, train_id = read_squad('squad/train-v2.0.json')\n",
        "val_contexts, val_questions, val_answers, val_id = read_squad('squad/dev-v2.0.json')"
      ],
      "execution_count": 6,
      "outputs": []
    },
    {
      "cell_type": "code",
      "metadata": {
        "colab": {
          "base_uri": "https://localhost:8080/"
        },
        "id": "I6udms-wM4ws",
        "outputId": "57192870-fa0c-44e5-d3f6-067d4c1a00db"
      },
      "source": [
        "len(train_contexts)"
      ],
      "execution_count": null,
      "outputs": [
        {
          "output_type": "execute_result",
          "data": {
            "text/plain": [
              "130319"
            ]
          },
          "metadata": {
            "tags": []
          },
          "execution_count": 6
        }
      ]
    },
    {
      "cell_type": "markdown",
      "metadata": {
        "id": "MLtY5ZaqLjyx"
      },
      "source": [
        "Now we may take a look at our dataset"
      ]
    },
    {
      "cell_type": "code",
      "metadata": {
        "colab": {
          "base_uri": "https://localhost:8080/"
        },
        "id": "zVgqABFm5FR2",
        "outputId": "a0705919-cdde-423f-8681-1cd848de172f"
      },
      "source": [
        "print('context:',train_contexts[0],'\\n question:', train_questions[0], '\\n answer:', train_answers[0])"
      ],
      "execution_count": null,
      "outputs": [
        {
          "output_type": "stream",
          "text": [
            "context: Beyoncé Giselle Knowles-Carter (/biːˈjɒnseɪ/ bee-YON-say) (born September 4, 1981) is an American singer, songwriter, record producer and actress. Born and raised in Houston, Texas, she performed in various singing and dancing competitions as a child, and rose to fame in the late 1990s as lead singer of R&B girl-group Destiny's Child. Managed by her father, Mathew Knowles, the group became one of the world's best-selling girl groups of all time. Their hiatus saw the release of Beyoncé's debut album, Dangerously in Love (2003), which established her as a solo artist worldwide, earned five Grammy Awards and featured the Billboard Hot 100 number-one singles \"Crazy in Love\" and \"Baby Boy\". \n",
            " question: When did Beyonce start becoming popular? \n",
            " answer: {'text': 'in the late 1990s', 'answer_start': 269}\n"
          ],
          "name": "stdout"
        }
      ]
    },
    {
      "cell_type": "markdown",
      "metadata": {
        "id": "gdM0Vpz2L1iN"
      },
      "source": [
        "A first observation is the absence of any variable indicating the end of the answer. We will have to add it ourself"
      ]
    },
    {
      "cell_type": "code",
      "metadata": {
        "id": "hYVXL2eSxwhI"
      },
      "source": [
        "def add_end_idx(answers, contexts, questions):\n",
        "    for answer, context, question in zip(answers, contexts,questions):\n",
        "        gold_text = answer['text']\n",
        "        start_idx = answer['answer_start'] \n",
        "        end_idx = start_idx + len(gold_text)\n",
        "\n",
        "        # sometimes squad answers are off by a character or two – fix this\n",
        "        if context[start_idx:end_idx] == gold_text:\n",
        "            answer['answer_end'] = end_idx \n",
        "        elif context[start_idx-1:end_idx-1] == gold_text:\n",
        "            answer['answer_start'] = start_idx - 1 \n",
        "            answer['answer_end'] = end_idx - 1    # When the gold label is off by one character\n",
        "        elif context[start_idx-2:end_idx-2] == gold_text:\n",
        "            answer['answer_start'] = start_idx - 2 \n",
        "            answer['answer_end'] = end_idx - 2   # When the gold label is off by two characters\n",
        "\n",
        "add_end_idx(train_answers, train_contexts, train_questions)\n",
        "add_end_idx(val_answers, val_contexts, val_questions)"
      ],
      "execution_count": 7,
      "outputs": []
    },
    {
      "cell_type": "markdown",
      "metadata": {
        "id": "EvqvTgmAMVF1"
      },
      "source": [
        "#Bert\n",
        "\n",
        "To obtain our embeddings, we will use Bert model (further information can be found there: https://arxiv.org/abs/1810.04805 )"
      ]
    },
    {
      "cell_type": "code",
      "metadata": {
        "colab": {
          "base_uri": "https://localhost:8080/"
        },
        "id": "i6YzUf_8x11c",
        "outputId": "506242ce-3a4b-480c-9f9a-0f337ba62e07"
      },
      "source": [
        "!pip install transformers"
      ],
      "execution_count": 8,
      "outputs": [
        {
          "output_type": "stream",
          "text": [
            "Collecting transformers\n",
            "\u001b[?25l  Downloading https://files.pythonhosted.org/packages/d8/b2/57495b5309f09fa501866e225c84532d1fd89536ea62406b2181933fb418/transformers-4.5.1-py3-none-any.whl (2.1MB)\n",
            "\u001b[K     |████████████████████████████████| 2.1MB 7.8MB/s \n",
            "\u001b[?25hRequirement already satisfied: packaging in /usr/local/lib/python3.7/dist-packages (from transformers) (20.9)\n",
            "Requirement already satisfied: regex!=2019.12.17 in /usr/local/lib/python3.7/dist-packages (from transformers) (2019.12.20)\n",
            "Collecting sacremoses\n",
            "\u001b[?25l  Downloading https://files.pythonhosted.org/packages/75/ee/67241dc87f266093c533a2d4d3d69438e57d7a90abb216fa076e7d475d4a/sacremoses-0.0.45-py3-none-any.whl (895kB)\n",
            "\u001b[K     |████████████████████████████████| 901kB 35.2MB/s \n",
            "\u001b[?25hRequirement already satisfied: filelock in /usr/local/lib/python3.7/dist-packages (from transformers) (3.0.12)\n",
            "Requirement already satisfied: importlib-metadata; python_version < \"3.8\" in /usr/local/lib/python3.7/dist-packages (from transformers) (3.10.1)\n",
            "Requirement already satisfied: tqdm>=4.27 in /usr/local/lib/python3.7/dist-packages (from transformers) (4.41.1)\n",
            "Requirement already satisfied: requests in /usr/local/lib/python3.7/dist-packages (from transformers) (2.23.0)\n",
            "Collecting tokenizers<0.11,>=0.10.1\n",
            "\u001b[?25l  Downloading https://files.pythonhosted.org/packages/ae/04/5b870f26a858552025a62f1649c20d29d2672c02ff3c3fb4c688ca46467a/tokenizers-0.10.2-cp37-cp37m-manylinux2010_x86_64.whl (3.3MB)\n",
            "\u001b[K     |████████████████████████████████| 3.3MB 40.0MB/s \n",
            "\u001b[?25hRequirement already satisfied: numpy>=1.17 in /usr/local/lib/python3.7/dist-packages (from transformers) (1.19.5)\n",
            "Requirement already satisfied: pyparsing>=2.0.2 in /usr/local/lib/python3.7/dist-packages (from packaging->transformers) (2.4.7)\n",
            "Requirement already satisfied: joblib in /usr/local/lib/python3.7/dist-packages (from sacremoses->transformers) (1.0.1)\n",
            "Requirement already satisfied: six in /usr/local/lib/python3.7/dist-packages (from sacremoses->transformers) (1.15.0)\n",
            "Requirement already satisfied: click in /usr/local/lib/python3.7/dist-packages (from sacremoses->transformers) (7.1.2)\n",
            "Requirement already satisfied: typing-extensions>=3.6.4; python_version < \"3.8\" in /usr/local/lib/python3.7/dist-packages (from importlib-metadata; python_version < \"3.8\"->transformers) (3.7.4.3)\n",
            "Requirement already satisfied: zipp>=0.5 in /usr/local/lib/python3.7/dist-packages (from importlib-metadata; python_version < \"3.8\"->transformers) (3.4.1)\n",
            "Requirement already satisfied: certifi>=2017.4.17 in /usr/local/lib/python3.7/dist-packages (from requests->transformers) (2020.12.5)\n",
            "Requirement already satisfied: idna<3,>=2.5 in /usr/local/lib/python3.7/dist-packages (from requests->transformers) (2.10)\n",
            "Requirement already satisfied: urllib3!=1.25.0,!=1.25.1,<1.26,>=1.21.1 in /usr/local/lib/python3.7/dist-packages (from requests->transformers) (1.24.3)\n",
            "Requirement already satisfied: chardet<4,>=3.0.2 in /usr/local/lib/python3.7/dist-packages (from requests->transformers) (3.0.4)\n",
            "Installing collected packages: sacremoses, tokenizers, transformers\n",
            "Successfully installed sacremoses-0.0.45 tokenizers-0.10.2 transformers-4.5.1\n"
          ],
          "name": "stdout"
        }
      ]
    },
    {
      "cell_type": "markdown",
      "metadata": {
        "id": "T5Mk_lozNBe1"
      },
      "source": [
        "We will use a 'Fast' tokenizer. As it can be guessed given the name, it allows a faster implementation of batch tokenization. \\\\\n",
        "However what is particularly interesting for us is that it adds additionnal methods to map between the string and the token spaces which we will use to get the index of the answer tokens"
      ]
    },
    {
      "cell_type": "code",
      "metadata": {
        "id": "ZQeI8GUuxzLg",
        "colab": {
          "base_uri": "https://localhost:8080/",
          "height": 163,
          "referenced_widgets": [
            "0676f805c7e54e209c686a08852ae855",
            "52ad8cfe08394edabfbd6d424d3a5765",
            "fb711ba3d4d64c4296fa4cb11e783a79",
            "789e8882e0034c8294fbd3f7b8ce33e7",
            "e87b89633ff84790a5b8d32759860b1b",
            "588fc563c1ac42e1af7b3c02c7c7ba99",
            "f198c9b4a00b4fdfa640285ce2be4f1e",
            "79572ffd110e42529113608f2b09380e",
            "211da7a12deb441a9aa7bd7a91760d57",
            "8920d4b1a117405d84c317f1c2e2c823",
            "a2c8cc9a3bef464dae0ba5ad94d89747",
            "323285f992bf42db8f86dd1c116bd629",
            "f9134ccd2d8f45ff90830add8ec35a80",
            "f72005cc8a39422781440e58125db82c",
            "9424bc29f22041fd8e95aec97165d2d8",
            "8f89f73884fa4e7691d68a3065842ac8",
            "ca44d11214bf45208cf4cecf8b6d7636",
            "52dc40f9dc904cc99e643bb9821b4e14",
            "244285dd55c54dba86b25ff284f7d8e4",
            "f899ad124a9c48798fad51fa34022d11",
            "d8485a28dcd94478902b319bc45693cf",
            "b010c0aef94a4e179f7d01d96e3620dc",
            "ccea8c9d9ccb4dd7a158183d97b1ae13",
            "d6d2be1ae96a4594937807f94773d7f9"
          ]
        },
        "outputId": "40db65d1-11bc-4172-bdab-a0433e3f3d07"
      },
      "source": [
        "from transformers import DistilBertTokenizerFast\n",
        "tokenizer = DistilBertTokenizerFast.from_pretrained('distilbert-base-uncased')\n",
        "\n",
        "#As we train the model, we need all inputs to be of the same size, that is why we set truncation and padding to True\n",
        "#We concacenate questions and context as a single string before encoding"
      ],
      "execution_count": 9,
      "outputs": [
        {
          "output_type": "display_data",
          "data": {
            "application/vnd.jupyter.widget-view+json": {
              "model_id": "0676f805c7e54e209c686a08852ae855",
              "version_minor": 0,
              "version_major": 2
            },
            "text/plain": [
              "HBox(children=(FloatProgress(value=0.0, description='Downloading', max=231508.0, style=ProgressStyle(descripti…"
            ]
          },
          "metadata": {
            "tags": []
          }
        },
        {
          "output_type": "stream",
          "text": [
            "\n"
          ],
          "name": "stdout"
        },
        {
          "output_type": "display_data",
          "data": {
            "application/vnd.jupyter.widget-view+json": {
              "model_id": "211da7a12deb441a9aa7bd7a91760d57",
              "version_minor": 0,
              "version_major": 2
            },
            "text/plain": [
              "HBox(children=(FloatProgress(value=0.0, description='Downloading', max=466062.0, style=ProgressStyle(descripti…"
            ]
          },
          "metadata": {
            "tags": []
          }
        },
        {
          "output_type": "stream",
          "text": [
            "\n"
          ],
          "name": "stdout"
        },
        {
          "output_type": "display_data",
          "data": {
            "application/vnd.jupyter.widget-view+json": {
              "model_id": "ca44d11214bf45208cf4cecf8b6d7636",
              "version_minor": 0,
              "version_major": 2
            },
            "text/plain": [
              "HBox(children=(FloatProgress(value=0.0, description='Downloading', max=28.0, style=ProgressStyle(description_w…"
            ]
          },
          "metadata": {
            "tags": []
          }
        },
        {
          "output_type": "stream",
          "text": [
            "\n"
          ],
          "name": "stdout"
        }
      ]
    },
    {
      "cell_type": "markdown",
      "metadata": {
        "id": "5GwwtCu9CiiA"
      },
      "source": [
        "It is important to note that we trained models with different input formats. For each model we have a version with the format **[CLS] Question [SEP] Context [SEP]** and another version with **[CLS] Context [SEP] Question [SEP]**"
      ]
    },
    {
      "cell_type": "code",
      "metadata": {
        "id": "D9nTYz16Xcra"
      },
      "source": [
        "#train_encodings1 = tokenizer(train_questions, train_contexts, truncation=True, padding=True) \n",
        "#train_encodings2 = tokenizer( train_contexts, train_questions, truncation=True, padding=True)"
      ],
      "execution_count": null,
      "outputs": []
    },
    {
      "cell_type": "code",
      "metadata": {
        "id": "OeP1wwLoXVEL"
      },
      "source": [
        "val_encodings1 = tokenizer(val_questions, val_contexts, truncation=True, padding=True)\n",
        "val_encodings2 = tokenizer( val_contexts, val_questions, truncation=True, padding=True)"
      ],
      "execution_count": 10,
      "outputs": []
    },
    {
      "cell_type": "markdown",
      "metadata": {
        "id": "8IhtKBIUO2Fk"
      },
      "source": [
        "By default, bert-base model support a length of 512 tokens. For many tasks, it is often way more than necessary. We could lose a lot of time / memory if we do not have a use for tha many tokens."
      ]
    },
    {
      "cell_type": "code",
      "metadata": {
        "id": "5Ip3yniPW82B"
      },
      "source": [
        "maxi = []\n",
        "for k in range(10000):\n",
        "  l = 0\n",
        "  t = train_encodings1.tokens(k)\n",
        "  while l <511 and t[l+1] != '[PAD]':\n",
        "    l+=1\n",
        "  maxi.append(l)"
      ],
      "execution_count": null,
      "outputs": []
    },
    {
      "cell_type": "code",
      "metadata": {
        "colab": {
          "base_uri": "https://localhost:8080/",
          "height": 483
        },
        "id": "5SsSAZRUYcJU",
        "outputId": "fc35f4ba-f583-42f9-a96f-3e007d72664a"
      },
      "source": [
        "import matplotlib.pyplot as plt\n",
        "plt.hist(max, bins = 30 )"
      ],
      "execution_count": null,
      "outputs": [
        {
          "output_type": "execute_result",
          "data": {
            "text/plain": [
              "(array([ 244.,  538.,  780., 1019., 1089.,  930.,  905.,  786.,  658.,\n",
              "         580.,  538.,  352.,  286.,  310.,  275.,  148.,  149.,   71.,\n",
              "          80.,   59.,   38.,   37.,   28.,   10.,   22.,   41.,    9.,\n",
              "           2.,    3.,   13.]),\n",
              " array([ 38.        ,  53.76666667,  69.53333333,  85.3       ,\n",
              "        101.06666667, 116.83333333, 132.6       , 148.36666667,\n",
              "        164.13333333, 179.9       , 195.66666667, 211.43333333,\n",
              "        227.2       , 242.96666667, 258.73333333, 274.5       ,\n",
              "        290.26666667, 306.03333333, 321.8       , 337.56666667,\n",
              "        353.33333333, 369.1       , 384.86666667, 400.63333333,\n",
              "        416.4       , 432.16666667, 447.93333333, 463.7       ,\n",
              "        479.46666667, 495.23333333, 511.        ]),\n",
              " <a list of 30 Patch objects>)"
            ]
          },
          "metadata": {
            "tags": []
          },
          "execution_count": 8
        },
        {
          "output_type": "display_data",
          "data": {
            "image/png": "[encoded data removed]",
            "text/plain": [
              "<Figure size 432x288 with 1 Axes>"
            ]
          },
          "metadata": {
            "tags": [],
            "needs_background": "light"
          }
        }
      ]
    },
    {
      "cell_type": "markdown",
      "metadata": {
        "id": "cyMGA-TmR2aF"
      },
      "source": [
        "Most of the questions/context pairs token have a length inferior to 300. We will still keep the maximum length at 512 to see how our model perform on long questions. \\\\\n",
        "The next step is to transform the character index to token index"
      ]
    },
    {
      "cell_type": "code",
      "metadata": {
        "id": "B3hDLjXzx364"
      },
      "source": [
        "def add_token_positions(encodings, answers, seq_indx):\n",
        "    start_positions = []\n",
        "    end_positions = []\n",
        "    for i in range(len(answers)):\n",
        "        if answers[i]['answer_start'] == -1:\n",
        "          start_positions.append(0)\n",
        "          end_positions.append(0)\n",
        "        else:\n",
        "          start_positions.append(encodings.char_to_token(i, answers[i]['answer_start'],sequence_index = seq_indx))\n",
        "          end_positions.append(encodings.char_to_token(i, answers[i]['answer_end'] - 1, sequence_index = seq_indx))\n",
        "\n",
        "        # if start position or end position is None, question is\n",
        "        # out of bounds, we want our model to predict the '[CLS]' token 0 in that case\n",
        "        if start_positions[-1] is None:\n",
        "            start_positions[-1] = 0\n",
        "        if end_positions[-1] is None:\n",
        "            end_positions[-1] = 0\n",
        "\n",
        "\n",
        "    encodings.update({'start_positions': start_positions, 'end_positions': end_positions})\n",
        "\n",
        "#add_token_positions(train_encodings1, train_answers, 1)\n",
        "#add_token_positions(train_encodings2, train_answers, 0)\n",
        "add_token_positions(val_encodings1, val_answers, 1)\n",
        "add_token_positions(val_encodings2, val_answers, 0)"
      ],
      "execution_count": 11,
      "outputs": []
    },
    {
      "cell_type": "markdown",
      "metadata": {
        "id": "oy8hbnfRSkPQ"
      },
      "source": [
        "We can now create our dataset inheriting the torch Dataset class."
      ]
    },
    {
      "cell_type": "code",
      "metadata": {
        "id": "VLpFiRODx7Of"
      },
      "source": [
        "import torch\n",
        "\n",
        "class SquadDataset(torch.utils.data.Dataset):\n",
        "    def __init__(self, encodings):\n",
        "        self.encodings = encodings\n",
        "\n",
        "    def __getitem__(self, idx):\n",
        "        return {key: torch.tensor(val[idx]) for key, val in self.encodings.items()}\n",
        "\n",
        "    def __len__(self):\n",
        "        return len(self.encodings.input_ids)\n",
        "\n",
        "#train_dataset1 = SquadDataset(train_encodings1)\n",
        "#train_dataset2 = SquadDataset(train_encodings2)\n",
        "val_dataset1 = SquadDataset(val_encodings1)\n",
        "val_dataset2 = SquadDataset(val_encodings2)"
      ],
      "execution_count": 12,
      "outputs": []
    },
    {
      "cell_type": "code",
      "metadata": {
        "id": "Tojw4bipyBrC",
        "colab": {
          "base_uri": "https://localhost:8080/"
        },
        "outputId": "4a6b4dfe-77d7-4c66-89e0-b4fe06661477"
      },
      "source": [
        "train_dataset.__getitem__(0)"
      ],
      "execution_count": null,
      "outputs": [
        {
          "output_type": "execute_result",
          "data": {
            "text/plain": [
              "{'attention_mask': tensor([1, 1, 1, 1, 1, 1, 1, 1, 1, 1, 1, 1, 1, 1, 1, 1, 1, 1, 1, 1, 1, 1, 1, 1,\n",
              "         1, 1, 1, 1, 1, 1, 1, 1, 1, 1, 1, 1, 1, 1, 1, 1, 1, 1, 1, 1, 1, 1, 1, 1,\n",
              "         1, 1, 1, 1, 1, 1, 1, 1, 1, 1, 1, 1, 1, 1, 1, 1, 1, 1, 1, 1, 1, 1, 1, 1,\n",
              "         1, 1, 1, 1, 1, 1, 1, 1, 1, 1, 1, 1, 1, 1, 1, 1, 1, 1, 1, 1, 1, 1, 1, 1,\n",
              "         1, 1, 1, 1, 1, 1, 1, 1, 1, 1, 1, 1, 1, 1, 1, 1, 1, 1, 1, 1, 1, 1, 1, 1,\n",
              "         1, 1, 1, 1, 1, 1, 1, 1, 1, 1, 1, 1, 1, 1, 1, 1, 1, 1, 1, 1, 1, 1, 1, 1,\n",
              "         1, 1, 1, 1, 1, 1, 1, 1, 1, 1, 1, 1, 1, 1, 1, 1, 1, 1, 1, 1, 1, 1, 1, 1,\n",
              "         1, 1, 1, 1, 1, 1, 0, 0, 0, 0, 0, 0, 0, 0, 0, 0, 0, 0, 0, 0, 0, 0, 0, 0,\n",
              "         0, 0, 0, 0, 0, 0, 0, 0, 0, 0, 0, 0, 0, 0, 0, 0, 0, 0, 0, 0, 0, 0, 0, 0,\n",
              "         0, 0, 0, 0, 0, 0, 0, 0, 0, 0, 0, 0, 0, 0, 0, 0, 0, 0, 0, 0, 0, 0, 0, 0,\n",
              "         0, 0, 0, 0, 0, 0, 0, 0, 0, 0, 0, 0, 0, 0, 0, 0, 0, 0, 0, 0, 0, 0, 0, 0,\n",
              "         0, 0, 0, 0, 0, 0, 0, 0, 0, 0, 0, 0, 0, 0, 0, 0, 0, 0, 0, 0, 0, 0, 0, 0,\n",
              "         0, 0, 0, 0, 0, 0, 0, 0, 0, 0, 0, 0, 0, 0, 0, 0, 0, 0, 0, 0, 0, 0, 0, 0,\n",
              "         0, 0, 0, 0, 0, 0, 0, 0, 0, 0, 0, 0, 0, 0, 0, 0, 0, 0, 0, 0, 0, 0, 0, 0,\n",
              "         0, 0, 0, 0, 0, 0, 0, 0, 0, 0, 0, 0, 0, 0, 0, 0, 0, 0, 0, 0, 0, 0, 0, 0,\n",
              "         0, 0, 0, 0, 0, 0, 0, 0, 0, 0, 0, 0, 0, 0, 0, 0, 0, 0, 0, 0, 0, 0, 0, 0,\n",
              "         0, 0, 0, 0, 0, 0, 0, 0, 0, 0, 0, 0, 0, 0, 0, 0, 0, 0, 0, 0, 0, 0, 0, 0,\n",
              "         0, 0, 0, 0, 0, 0, 0, 0, 0, 0, 0, 0, 0, 0, 0, 0, 0, 0, 0, 0, 0, 0, 0, 0,\n",
              "         0, 0, 0, 0, 0, 0, 0, 0, 0, 0, 0, 0, 0, 0, 0, 0, 0, 0, 0, 0, 0, 0, 0, 0,\n",
              "         0, 0, 0, 0, 0, 0, 0, 0, 0, 0, 0, 0, 0, 0, 0, 0, 0, 0, 0, 0, 0, 0, 0, 0,\n",
              "         0, 0, 0, 0, 0, 0, 0, 0, 0, 0, 0, 0, 0, 0, 0, 0, 0, 0, 0, 0, 0, 0, 0, 0,\n",
              "         0, 0, 0, 0, 0, 0, 0, 0]),\n",
              " 'end_positions': tensor(78),\n",
              " 'input_ids': tensor([  101,  2043,  2106, 20773,  2707,  3352,  2759,  1029,   102, 20773,\n",
              "         21025, 19358, 22815,  1011,  5708,  1006,  1013, 12170, 23432, 29715,\n",
              "          3501, 29678, 12325, 29685,  1013, 10506,  1011, 10930,  2078,  1011,\n",
              "          2360,  1007,  1006,  2141,  2244,  1018,  1010,  3261,  1007,  2003,\n",
              "          2019,  2137,  3220,  1010,  6009,  1010,  2501,  3135,  1998,  3883,\n",
              "          1012,  2141,  1998,  2992,  1999,  5395,  1010,  3146,  1010,  2016,\n",
              "          2864,  1999,  2536,  4823,  1998,  5613,  6479,  2004,  1037,  2775,\n",
              "          1010,  1998,  3123,  2000,  4476,  1999,  1996,  2397,  4134,  2004,\n",
              "          2599,  3220,  1997,  1054,  1004,  1038,  2611,  1011,  2177, 10461,\n",
              "          1005,  1055,  2775,  1012,  3266,  2011,  2014,  2269,  1010, 25436,\n",
              "         22815,  1010,  1996,  2177,  2150,  2028,  1997,  1996,  2088,  1005,\n",
              "          1055,  2190,  1011,  4855,  2611,  2967,  1997,  2035,  2051,  1012,\n",
              "          2037, 14221,  2387,  1996,  2713,  1997, 20773,  1005,  1055,  2834,\n",
              "          2201,  1010, 20754,  1999,  2293,  1006,  2494,  1007,  1010,  2029,\n",
              "          2511,  2014,  2004,  1037,  3948,  3063,  4969,  1010,  3687,  2274,\n",
              "          8922,  2982,  1998,  2956,  1996,  4908,  2980,  2531,  2193,  1011,\n",
              "          2028,  3895,  1000,  4689,  1999,  2293,  1000,  1998,  1000,  3336,\n",
              "          2879,  1000,  1012,   102,     0,     0,     0,     0,     0,     0,\n",
              "             0,     0,     0,     0,     0,     0,     0,     0,     0,     0,\n",
              "             0,     0,     0,     0,     0,     0,     0,     0,     0,     0,\n",
              "             0,     0,     0,     0,     0,     0,     0,     0,     0,     0,\n",
              "             0,     0,     0,     0,     0,     0,     0,     0,     0,     0,\n",
              "             0,     0,     0,     0,     0,     0,     0,     0,     0,     0,\n",
              "             0,     0,     0,     0,     0,     0,     0,     0,     0,     0,\n",
              "             0,     0,     0,     0,     0,     0,     0,     0,     0,     0,\n",
              "             0,     0,     0,     0,     0,     0,     0,     0,     0,     0,\n",
              "             0,     0,     0,     0,     0,     0,     0,     0,     0,     0,\n",
              "             0,     0,     0,     0,     0,     0,     0,     0,     0,     0,\n",
              "             0,     0,     0,     0,     0,     0,     0,     0,     0,     0,\n",
              "             0,     0,     0,     0,     0,     0,     0,     0,     0,     0,\n",
              "             0,     0,     0,     0,     0,     0,     0,     0,     0,     0,\n",
              "             0,     0,     0,     0,     0,     0,     0,     0,     0,     0,\n",
              "             0,     0,     0,     0,     0,     0,     0,     0,     0,     0,\n",
              "             0,     0,     0,     0,     0,     0,     0,     0,     0,     0,\n",
              "             0,     0,     0,     0,     0,     0,     0,     0,     0,     0,\n",
              "             0,     0,     0,     0,     0,     0,     0,     0,     0,     0,\n",
              "             0,     0,     0,     0,     0,     0,     0,     0,     0,     0,\n",
              "             0,     0,     0,     0,     0,     0,     0,     0,     0,     0,\n",
              "             0,     0,     0,     0,     0,     0,     0,     0,     0,     0,\n",
              "             0,     0,     0,     0,     0,     0,     0,     0,     0,     0,\n",
              "             0,     0,     0,     0,     0,     0,     0,     0,     0,     0,\n",
              "             0,     0,     0,     0,     0,     0,     0,     0,     0,     0,\n",
              "             0,     0,     0,     0,     0,     0,     0,     0,     0,     0,\n",
              "             0,     0,     0,     0,     0,     0,     0,     0,     0,     0,\n",
              "             0,     0,     0,     0,     0,     0,     0,     0,     0,     0,\n",
              "             0,     0,     0,     0,     0,     0,     0,     0,     0,     0,\n",
              "             0,     0,     0,     0,     0,     0,     0,     0,     0,     0,\n",
              "             0,     0,     0,     0,     0,     0,     0,     0,     0,     0,\n",
              "             0,     0,     0,     0,     0,     0,     0,     0,     0,     0,\n",
              "             0,     0,     0,     0,     0,     0,     0,     0,     0,     0,\n",
              "             0,     0,     0,     0,     0,     0,     0,     0,     0,     0,\n",
              "             0,     0]),\n",
              " 'start_positions': tensor(75)}"
            ]
          },
          "metadata": {
            "tags": []
          },
          "execution_count": 314
        }
      ]
    },
    {
      "cell_type": "markdown",
      "metadata": {
        "id": "kAm_XOxiSzMy"
      },
      "source": [
        "The attention mask indicate which indexs are revelant and should be taken into account in the model (against the pad tokens added to have the same value).\\\\\n",
        "Now we will use BERT to transform the input ids into embeddings"
      ]
    },
    {
      "cell_type": "code",
      "metadata": {
        "id": "R11bHvQY1f_p",
        "colab": {
          "base_uri": "https://localhost:8080/",
          "height": 114,
          "referenced_widgets": [
            "1ce260b585534b06b210ac4181ca3feb",
            "4447dd4e55e94d9fa2bd8b6e253bec3d",
            "d1864cfd774a440689f43f243d9f0fd8",
            "ec230495454c4438be6d4218aa508f58",
            "a05e20b6d0e04e9c8131dd13c1887992",
            "fa81bcd0d32b4a26812fecfe98ac8df1",
            "96f5c60d8135448a968b0d189e2be7e6",
            "660e4cba4a8541b6a6a8cae89756437d",
            "53d73d2b69bf4033b09af5e70160f4ef",
            "cda84b583cea42d09725778fb05d7181",
            "56e2ef8184c84dfea87946dfa1d53d2c",
            "5312dfe806274a8a834eda8ab7eec2c5",
            "f49760ea1b3645359fd6f4105c5dfa94",
            "31865ebb658f420da4a08d5c2e7f9d11",
            "172167e5f5a745c9b95da0a762625f6e",
            "9d75c4efbf3a41db86cb5005f87e15fa"
          ]
        },
        "outputId": "72c48842-5b3b-49fb-dcd0-bf2877298c63"
      },
      "source": [
        "from transformers import DistilBertModel\n",
        "\n",
        "model = DistilBertModel.from_pretrained('distilbert-base-uncased',\n",
        "                                  output_hidden_states = False, # Whether the model returns all hidden-states.\n",
        "                                  )"
      ],
      "execution_count": 13,
      "outputs": [
        {
          "output_type": "display_data",
          "data": {
            "application/vnd.jupyter.widget-view+json": {
              "model_id": "1ce260b585534b06b210ac4181ca3feb",
              "version_minor": 0,
              "version_major": 2
            },
            "text/plain": [
              "HBox(children=(FloatProgress(value=0.0, description='Downloading', max=442.0, style=ProgressStyle(description_…"
            ]
          },
          "metadata": {
            "tags": []
          }
        },
        {
          "output_type": "stream",
          "text": [
            "\n"
          ],
          "name": "stdout"
        },
        {
          "output_type": "display_data",
          "data": {
            "application/vnd.jupyter.widget-view+json": {
              "model_id": "53d73d2b69bf4033b09af5e70160f4ef",
              "version_minor": 0,
              "version_major": 2
            },
            "text/plain": [
              "HBox(children=(FloatProgress(value=0.0, description='Downloading', max=267967963.0, style=ProgressStyle(descri…"
            ]
          },
          "metadata": {
            "tags": []
          }
        },
        {
          "output_type": "stream",
          "text": [
            "\n"
          ],
          "name": "stdout"
        }
      ]
    },
    {
      "cell_type": "markdown",
      "metadata": {
        "id": "SFVz1HUo0xLj"
      },
      "source": [
        "# Linear model"
      ]
    },
    {
      "cell_type": "code",
      "metadata": {
        "id": "ckRHnfOJ00nX"
      },
      "source": [
        "from torch import nn\n",
        "class TokenClassifier(nn.Module):\n",
        "\n",
        "    def __init__(self, D_in):\n",
        "        super(TokenClassifier, self).__init__()\n",
        "        \n",
        "        #Loading Mask Language Model \n",
        "        self.encoder = model\n",
        "        #we append an extra layer for Classification (it will be randomly initialized)\n",
        "        self.cls_layer = nn.Linear(D_in,2) # Linear classifier for start and end token\n",
        "        \n",
        "    def forward(self, seq, attn_masks):\n",
        "        '''\n",
        "        Inputs:\n",
        "            -seq : Tensor of shape [B, T] containing token ids of sequences\n",
        "            -attn_masks : Tensor of shape [B, T] containing attention masks to be used to avoid contibution of PAD tokens\n",
        "        '''\n",
        "\n",
        "        #Feeding the input to BERT model to obtain contextualized representations\n",
        "        # see in the hugging face doc what to input\n",
        "        #cont_reps = #  self.encoder(..)..\n",
        "\n",
        "        cont_reps = self.encoder(seq, attention_mask = attn_masks)\n",
        "        #Obtaining the representation of [CLS] head\n",
        "\n",
        "        pool = cont_reps.last_hidden_state\n",
        "        #Feeding cls_rep to the classifier layer\n",
        "        logits = self.cls_layer(pool)\n",
        "\n",
        "        #Computing the loss:\n",
        "\n",
        "\n",
        "        return logits"
      ],
      "execution_count": 14,
      "outputs": []
    },
    {
      "cell_type": "markdown",
      "metadata": {
        "id": "c1z5sFgfAioB"
      },
      "source": [
        "#Training the model"
      ]
    },
    {
      "cell_type": "code",
      "metadata": {
        "colab": {
          "base_uri": "https://localhost:8080/",
          "height": 1000,
          "referenced_widgets": [
            "d205cf6d92fb47c7a6f0f7f886fdbd6f",
            "d1c03cc67d6e4aae96eca8cbce33546a",
            "ed986483857c404f8de26e0cfab2fea2",
            "4ab4a5976c764e5da4671e289107a4a6",
            "8aad684fc96347cc90c69524326a8f60",
            "82bccecefda949d584d95184462376af",
            "296d9e92ff0a419f8794568158704f25",
            "d37b280e96814cde956a38dd66d28325",
            "894ce38d0afe45c58e717a376b2ce734",
            "a50d15f870354ffcbe2b120df0ca76b5",
            "3bf54259022e4487a37c5214a4a85851",
            "81b12bd0d7054cb0a4755159543a4157",
            "21821b5f9f9144b38a0e8db661ef1392",
            "e09425a83a0d4b81833d41012cc12425",
            "bcce891cfe5e45a4b75878a39404907a",
            "aa9b387a3a7444e8b1c6ae763347292e",
            "925e54fa556241a1a818cff7be6f3373",
            "c90a2ad49e7d4f8b9f2a035ed72981b5",
            "a6902960d3af4fa9aada1364ed11e661",
            "06caab83d4d54987853c6b96ca0fd2d1",
            "e3b7b04fd0c34e55849d3d3ee0824d93",
            "a3308c9df65845ce8f8306fd3aa5f633",
            "c7f4ab7b52aa430d86cf1a1b7128e2f9",
            "f3c8e0a69aab4b828c3fcc5d17a255d5"
          ]
        },
        "id": "IQWt-dtR311h",
        "outputId": "ca080921-32c4-4d7d-9be8-a19334eff796"
      },
      "source": [
        "from torch.utils.data import DataLoader\n",
        "from transformers import AdamW\n",
        "from tqdm.notebook import tqdm\n",
        "import torch.nn.functional as F\n",
        "\n",
        "loss_fn = F.cross_entropy\n",
        "\n",
        "device = torch.device('cuda') if torch.cuda.is_available() else torch.device('cpu')\n",
        "classifier_model = TokenClassifier(768)\n",
        "classifier_model.to(device)\n",
        "classifier_model.train()\n",
        "\n",
        "batch_multiplier = 1 #To multiply the batch size without increasing the memory consumption\n",
        "\n",
        "train_loader = DataLoader(train_dataset, batch_size=32, shuffle=True)\n",
        "\n",
        "optim = AdamW(model.parameters(), lr=5e-5)\n",
        "\n",
        "for epoch in range(3):\n",
        "    count = 0\n",
        "    time = 0\n",
        "    for batch in tqdm(train_loader):\n",
        "        \n",
        "        if count == 0:\n",
        "            optim.step()\n",
        "            optim.zero_grad()\n",
        "            count = batch_multiplier\n",
        "\n",
        "        count -= 1\n",
        "        input_ids = batch['input_ids'].to(device)\n",
        "        attention_mask = batch['attention_mask'].to(device)\n",
        "        start_positions = batch['start_positions']\n",
        "        end_positions = batch['end_positions']\n",
        "\n",
        "        outputs = classifier_model(input_ids, attn_masks=attention_mask)\n",
        "        target = torch.stack((start_positions,end_positions), 1).to(device)\n",
        "\n",
        "        loss = loss_fn(outputs.to(device), target, ignore_index = 512) / batch_multiplier\n",
        "        if time%50 == 0:\n",
        "          print('epoch {}, batch {}, loss = {}'.format(epoch,time,loss))\n",
        "        time+=1\n",
        "        loss.backward()\n",
        "        \n",
        "\n",
        "classifier_model.eval()"
      ],
      "execution_count": null,
      "outputs": [
        {
          "output_type": "display_data",
          "data": {
            "application/vnd.jupyter.widget-view+json": {
              "model_id": "d205cf6d92fb47c7a6f0f7f886fdbd6f",
              "version_minor": 0,
              "version_major": 2
            },
            "text/plain": [
              "HBox(children=(FloatProgress(value=0.0, max=2714.0), HTML(value='')))"
            ]
          },
          "metadata": {
            "tags": []
          }
        },
        {
          "output_type": "stream",
          "text": [
            "epoch 0, batch 0, loss = 6.292059421539307\n",
            "epoch 0, batch 50, loss = 3.6367571353912354\n",
            "epoch 0, batch 100, loss = 2.616694688796997\n",
            "epoch 0, batch 150, loss = 2.176823616027832\n",
            "epoch 0, batch 200, loss = 1.9681984186172485\n",
            "epoch 0, batch 250, loss = 1.6927497386932373\n",
            "epoch 0, batch 300, loss = 2.132338047027588\n",
            "epoch 0, batch 350, loss = 2.0629723072052\n",
            "epoch 0, batch 400, loss = 1.541053056716919\n",
            "epoch 0, batch 450, loss = 1.1894726753234863\n",
            "epoch 0, batch 500, loss = 1.7015098333358765\n",
            "epoch 0, batch 550, loss = 1.4064306020736694\n",
            "epoch 0, batch 600, loss = 1.2769838571548462\n",
            "epoch 0, batch 650, loss = 1.736924171447754\n",
            "epoch 0, batch 700, loss = 1.5654034614562988\n",
            "epoch 0, batch 750, loss = 1.613938331604004\n",
            "epoch 0, batch 800, loss = 0.8647754788398743\n",
            "epoch 0, batch 850, loss = 1.6228487491607666\n",
            "epoch 0, batch 900, loss = 1.2136660814285278\n",
            "epoch 0, batch 950, loss = 1.489058017730713\n",
            "epoch 0, batch 1000, loss = 1.3615012168884277\n",
            "epoch 0, batch 1050, loss = 1.414758563041687\n",
            "epoch 0, batch 1100, loss = 1.3504689931869507\n",
            "epoch 0, batch 1150, loss = 1.4948663711547852\n",
            "epoch 0, batch 1200, loss = 1.5234917402267456\n",
            "epoch 0, batch 1250, loss = 1.5268498659133911\n",
            "epoch 0, batch 1300, loss = 1.097988247871399\n",
            "epoch 0, batch 1350, loss = 1.1669155359268188\n",
            "epoch 0, batch 1400, loss = 1.1520648002624512\n",
            "epoch 0, batch 1450, loss = 1.1554362773895264\n",
            "epoch 0, batch 1500, loss = 1.1823190450668335\n",
            "epoch 0, batch 1550, loss = 1.160191297531128\n",
            "epoch 0, batch 1600, loss = 1.5351371765136719\n",
            "epoch 0, batch 1650, loss = 0.8690552115440369\n",
            "epoch 0, batch 1700, loss = 0.8636671304702759\n",
            "epoch 0, batch 1750, loss = 1.3180562257766724\n",
            "epoch 0, batch 1800, loss = 0.9721021056175232\n",
            "epoch 0, batch 1850, loss = 1.10302734375\n",
            "epoch 0, batch 1900, loss = 1.1038740873336792\n",
            "epoch 0, batch 1950, loss = 0.8168708086013794\n",
            "epoch 0, batch 2000, loss = 1.0293048620224\n",
            "epoch 0, batch 2050, loss = 1.0831784009933472\n",
            "epoch 0, batch 2100, loss = 0.9154586791992188\n",
            "epoch 0, batch 2150, loss = 1.8233736753463745\n",
            "epoch 0, batch 2200, loss = 0.9813520312309265\n",
            "epoch 0, batch 2250, loss = 1.672635793685913\n",
            "epoch 0, batch 2300, loss = 1.09536612033844\n",
            "epoch 0, batch 2350, loss = 1.333412766456604\n",
            "epoch 0, batch 2400, loss = 1.3339128494262695\n",
            "epoch 0, batch 2450, loss = 1.3995200395584106\n",
            "epoch 0, batch 2500, loss = 1.003348708152771\n",
            "epoch 0, batch 2550, loss = 0.9668987393379211\n",
            "epoch 0, batch 2600, loss = 0.9878914952278137\n",
            "epoch 0, batch 2650, loss = 1.1047966480255127\n",
            "epoch 0, batch 2700, loss = 0.845386803150177\n",
            "\n"
          ],
          "name": "stdout"
        },
        {
          "output_type": "display_data",
          "data": {
            "application/vnd.jupyter.widget-view+json": {
              "model_id": "894ce38d0afe45c58e717a376b2ce734",
              "version_minor": 0,
              "version_major": 2
            },
            "text/plain": [
              "HBox(children=(FloatProgress(value=0.0, max=2714.0), HTML(value='')))"
            ]
          },
          "metadata": {
            "tags": []
          }
        },
        {
          "output_type": "stream",
          "text": [
            "epoch 1, batch 0, loss = 0.9520074129104614\n",
            "epoch 1, batch 50, loss = 0.6884294152259827\n",
            "epoch 1, batch 100, loss = 0.9208292961120605\n",
            "epoch 1, batch 150, loss = 1.2402091026306152\n",
            "epoch 1, batch 200, loss = 0.9515277743339539\n",
            "epoch 1, batch 250, loss = 1.1169242858886719\n",
            "epoch 1, batch 300, loss = 1.164657473564148\n",
            "epoch 1, batch 350, loss = 0.5619871020317078\n",
            "epoch 1, batch 400, loss = 0.6598108410835266\n",
            "epoch 1, batch 450, loss = 0.535141110420227\n",
            "epoch 1, batch 500, loss = 0.6957288980484009\n",
            "epoch 1, batch 550, loss = 1.0445150136947632\n",
            "epoch 1, batch 600, loss = 0.9628463983535767\n",
            "epoch 1, batch 650, loss = 0.6713753938674927\n",
            "epoch 1, batch 700, loss = 0.8427850604057312\n",
            "epoch 1, batch 750, loss = 1.579906940460205\n",
            "epoch 1, batch 800, loss = 0.9111588001251221\n",
            "epoch 1, batch 850, loss = 0.8569850921630859\n",
            "epoch 1, batch 900, loss = 0.7223135828971863\n",
            "epoch 1, batch 950, loss = 1.1171908378601074\n",
            "epoch 1, batch 1000, loss = 0.6432662010192871\n",
            "epoch 1, batch 1050, loss = 0.8216599225997925\n",
            "epoch 1, batch 1100, loss = 0.8726165890693665\n",
            "epoch 1, batch 1150, loss = 1.3069039583206177\n",
            "epoch 1, batch 1200, loss = 1.3415271043777466\n",
            "epoch 1, batch 1250, loss = 1.2244395017623901\n",
            "epoch 1, batch 1300, loss = 1.060106635093689\n",
            "epoch 1, batch 1350, loss = 0.5547731518745422\n",
            "epoch 1, batch 1400, loss = 1.2067304849624634\n",
            "epoch 1, batch 1450, loss = 0.7664796113967896\n",
            "epoch 1, batch 1500, loss = 0.9527627229690552\n",
            "epoch 1, batch 1550, loss = 0.913771390914917\n",
            "epoch 1, batch 1600, loss = 0.6483327150344849\n",
            "epoch 1, batch 1650, loss = 1.0289512872695923\n",
            "epoch 1, batch 1700, loss = 1.1343640089035034\n",
            "epoch 1, batch 1750, loss = 0.7239157557487488\n",
            "epoch 1, batch 1800, loss = 0.7867014408111572\n",
            "epoch 1, batch 1850, loss = 0.6605624556541443\n",
            "epoch 1, batch 1900, loss = 0.6490005850791931\n",
            "epoch 1, batch 1950, loss = 1.3895537853240967\n",
            "epoch 1, batch 2000, loss = 1.0123924016952515\n",
            "epoch 1, batch 2050, loss = 0.8441845178604126\n",
            "epoch 1, batch 2100, loss = 0.5612707734107971\n",
            "epoch 1, batch 2150, loss = 0.8964473009109497\n",
            "epoch 1, batch 2200, loss = 1.036749005317688\n",
            "epoch 1, batch 2250, loss = 1.630401372909546\n",
            "epoch 1, batch 2300, loss = 0.9134494662284851\n",
            "epoch 1, batch 2350, loss = 1.0990079641342163\n",
            "epoch 1, batch 2400, loss = 0.9143117666244507\n",
            "epoch 1, batch 2450, loss = 0.8851417303085327\n",
            "epoch 1, batch 2500, loss = 1.120911717414856\n",
            "epoch 1, batch 2550, loss = 1.2434241771697998\n",
            "epoch 1, batch 2600, loss = 0.85971599817276\n",
            "epoch 1, batch 2650, loss = 0.7174348831176758\n",
            "epoch 1, batch 2700, loss = 0.7282581925392151\n",
            "\n"
          ],
          "name": "stdout"
        },
        {
          "output_type": "display_data",
          "data": {
            "application/vnd.jupyter.widget-view+json": {
              "model_id": "925e54fa556241a1a818cff7be6f3373",
              "version_minor": 0,
              "version_major": 2
            },
            "text/plain": [
              "HBox(children=(FloatProgress(value=0.0, max=2714.0), HTML(value='')))"
            ]
          },
          "metadata": {
            "tags": []
          }
        },
        {
          "output_type": "stream",
          "text": [
            "epoch 2, batch 0, loss = 0.5867685675621033\n",
            "epoch 2, batch 50, loss = 0.582286536693573\n",
            "epoch 2, batch 100, loss = 0.7672915458679199\n",
            "epoch 2, batch 150, loss = 0.48150238394737244\n",
            "epoch 2, batch 200, loss = 0.6099282503128052\n",
            "epoch 2, batch 250, loss = 0.6762793064117432\n",
            "epoch 2, batch 300, loss = 0.5291643142700195\n",
            "epoch 2, batch 350, loss = 0.9056618809700012\n",
            "epoch 2, batch 400, loss = 0.6972644329071045\n",
            "epoch 2, batch 450, loss = 0.5693967938423157\n",
            "epoch 2, batch 500, loss = 0.4185504913330078\n",
            "epoch 2, batch 550, loss = 0.6714328527450562\n",
            "epoch 2, batch 600, loss = 0.5831555128097534\n",
            "epoch 2, batch 650, loss = 0.567243218421936\n",
            "epoch 2, batch 700, loss = 0.6767200827598572\n",
            "epoch 2, batch 750, loss = 0.8143634796142578\n",
            "epoch 2, batch 800, loss = 0.8680364489555359\n",
            "epoch 2, batch 850, loss = 0.6475475430488586\n",
            "epoch 2, batch 900, loss = 0.6791070103645325\n",
            "epoch 2, batch 950, loss = 0.7834709882736206\n",
            "epoch 2, batch 1000, loss = 0.45176607370376587\n",
            "epoch 2, batch 1050, loss = 0.8489313125610352\n",
            "epoch 2, batch 1100, loss = 0.41314974427223206\n",
            "epoch 2, batch 1150, loss = 0.9565616846084595\n",
            "epoch 2, batch 1200, loss = 0.43375182151794434\n",
            "epoch 2, batch 1250, loss = 0.7418369054794312\n",
            "epoch 2, batch 1300, loss = 0.39424851536750793\n",
            "epoch 2, batch 1350, loss = 0.7590240836143494\n",
            "epoch 2, batch 1400, loss = 0.866797685623169\n",
            "epoch 2, batch 1450, loss = 0.5420981645584106\n",
            "epoch 2, batch 1500, loss = 0.31107625365257263\n",
            "epoch 2, batch 1550, loss = 0.5387805104255676\n",
            "epoch 2, batch 1600, loss = 0.8625093102455139\n",
            "epoch 2, batch 1650, loss = 0.7668929100036621\n",
            "epoch 2, batch 1700, loss = 0.40943849086761475\n",
            "epoch 2, batch 1750, loss = 0.4914688169956207\n",
            "epoch 2, batch 1800, loss = 0.984695315361023\n",
            "epoch 2, batch 1850, loss = 0.810565710067749\n",
            "epoch 2, batch 1900, loss = 0.8058804273605347\n",
            "epoch 2, batch 1950, loss = 0.5789522528648376\n",
            "epoch 2, batch 2000, loss = 0.8908907771110535\n",
            "epoch 2, batch 2050, loss = 0.6795955896377563\n",
            "epoch 2, batch 2100, loss = 0.5420786738395691\n",
            "epoch 2, batch 2150, loss = 0.5669820308685303\n",
            "epoch 2, batch 2200, loss = 0.52957683801651\n",
            "epoch 2, batch 2250, loss = 0.7085832357406616\n",
            "epoch 2, batch 2300, loss = 0.5538104772567749\n",
            "epoch 2, batch 2350, loss = 0.5264214873313904\n",
            "epoch 2, batch 2400, loss = 0.6346202492713928\n",
            "epoch 2, batch 2450, loss = 0.6648486256599426\n",
            "epoch 2, batch 2500, loss = 0.7191762328147888\n",
            "epoch 2, batch 2550, loss = 0.6907402276992798\n",
            "epoch 2, batch 2600, loss = 0.6138138771057129\n",
            "epoch 2, batch 2650, loss = 0.8695191144943237\n",
            "epoch 2, batch 2700, loss = 0.9932671785354614\n",
            "\n"
          ],
          "name": "stdout"
        },
        {
          "output_type": "execute_result",
          "data": {
            "text/plain": [
              "TokenClassifier(\n",
              "  (encoder): DistilBertModel(\n",
              "    (embeddings): Embeddings(\n",
              "      (word_embeddings): Embedding(30522, 768, padding_idx=0)\n",
              "      (position_embeddings): Embedding(512, 768)\n",
              "      (LayerNorm): LayerNorm((768,), eps=1e-12, elementwise_affine=True)\n",
              "      (dropout): Dropout(p=0.1, inplace=False)\n",
              "    )\n",
              "    (transformer): Transformer(\n",
              "      (layer): ModuleList(\n",
              "        (0): TransformerBlock(\n",
              "          (attention): MultiHeadSelfAttention(\n",
              "            (dropout): Dropout(p=0.1, inplace=False)\n",
              "            (q_lin): Linear(in_features=768, out_features=768, bias=True)\n",
              "            (k_lin): Linear(in_features=768, out_features=768, bias=True)\n",
              "            (v_lin): Linear(in_features=768, out_features=768, bias=True)\n",
              "            (out_lin): Linear(in_features=768, out_features=768, bias=True)\n",
              "          )\n",
              "          (sa_layer_norm): LayerNorm((768,), eps=1e-12, elementwise_affine=True)\n",
              "          (ffn): FFN(\n",
              "            (dropout): Dropout(p=0.1, inplace=False)\n",
              "            (lin1): Linear(in_features=768, out_features=3072, bias=True)\n",
              "            (lin2): Linear(in_features=3072, out_features=768, bias=True)\n",
              "          )\n",
              "          (output_layer_norm): LayerNorm((768,), eps=1e-12, elementwise_affine=True)\n",
              "        )\n",
              "        (1): TransformerBlock(\n",
              "          (attention): MultiHeadSelfAttention(\n",
              "            (dropout): Dropout(p=0.1, inplace=False)\n",
              "            (q_lin): Linear(in_features=768, out_features=768, bias=True)\n",
              "            (k_lin): Linear(in_features=768, out_features=768, bias=True)\n",
              "            (v_lin): Linear(in_features=768, out_features=768, bias=True)\n",
              "            (out_lin): Linear(in_features=768, out_features=768, bias=True)\n",
              "          )\n",
              "          (sa_layer_norm): LayerNorm((768,), eps=1e-12, elementwise_affine=True)\n",
              "          (ffn): FFN(\n",
              "            (dropout): Dropout(p=0.1, inplace=False)\n",
              "            (lin1): Linear(in_features=768, out_features=3072, bias=True)\n",
              "            (lin2): Linear(in_features=3072, out_features=768, bias=True)\n",
              "          )\n",
              "          (output_layer_norm): LayerNorm((768,), eps=1e-12, elementwise_affine=True)\n",
              "        )\n",
              "        (2): TransformerBlock(\n",
              "          (attention): MultiHeadSelfAttention(\n",
              "            (dropout): Dropout(p=0.1, inplace=False)\n",
              "            (q_lin): Linear(in_features=768, out_features=768, bias=True)\n",
              "            (k_lin): Linear(in_features=768, out_features=768, bias=True)\n",
              "            (v_lin): Linear(in_features=768, out_features=768, bias=True)\n",
              "            (out_lin): Linear(in_features=768, out_features=768, bias=True)\n",
              "          )\n",
              "          (sa_layer_norm): LayerNorm((768,), eps=1e-12, elementwise_affine=True)\n",
              "          (ffn): FFN(\n",
              "            (dropout): Dropout(p=0.1, inplace=False)\n",
              "            (lin1): Linear(in_features=768, out_features=3072, bias=True)\n",
              "            (lin2): Linear(in_features=3072, out_features=768, bias=True)\n",
              "          )\n",
              "          (output_layer_norm): LayerNorm((768,), eps=1e-12, elementwise_affine=True)\n",
              "        )\n",
              "        (3): TransformerBlock(\n",
              "          (attention): MultiHeadSelfAttention(\n",
              "            (dropout): Dropout(p=0.1, inplace=False)\n",
              "            (q_lin): Linear(in_features=768, out_features=768, bias=True)\n",
              "            (k_lin): Linear(in_features=768, out_features=768, bias=True)\n",
              "            (v_lin): Linear(in_features=768, out_features=768, bias=True)\n",
              "            (out_lin): Linear(in_features=768, out_features=768, bias=True)\n",
              "          )\n",
              "          (sa_layer_norm): LayerNorm((768,), eps=1e-12, elementwise_affine=True)\n",
              "          (ffn): FFN(\n",
              "            (dropout): Dropout(p=0.1, inplace=False)\n",
              "            (lin1): Linear(in_features=768, out_features=3072, bias=True)\n",
              "            (lin2): Linear(in_features=3072, out_features=768, bias=True)\n",
              "          )\n",
              "          (output_layer_norm): LayerNorm((768,), eps=1e-12, elementwise_affine=True)\n",
              "        )\n",
              "        (4): TransformerBlock(\n",
              "          (attention): MultiHeadSelfAttention(\n",
              "            (dropout): Dropout(p=0.1, inplace=False)\n",
              "            (q_lin): Linear(in_features=768, out_features=768, bias=True)\n",
              "            (k_lin): Linear(in_features=768, out_features=768, bias=True)\n",
              "            (v_lin): Linear(in_features=768, out_features=768, bias=True)\n",
              "            (out_lin): Linear(in_features=768, out_features=768, bias=True)\n",
              "          )\n",
              "          (sa_layer_norm): LayerNorm((768,), eps=1e-12, elementwise_affine=True)\n",
              "          (ffn): FFN(\n",
              "            (dropout): Dropout(p=0.1, inplace=False)\n",
              "            (lin1): Linear(in_features=768, out_features=3072, bias=True)\n",
              "            (lin2): Linear(in_features=3072, out_features=768, bias=True)\n",
              "          )\n",
              "          (output_layer_norm): LayerNorm((768,), eps=1e-12, elementwise_affine=True)\n",
              "        )\n",
              "        (5): TransformerBlock(\n",
              "          (attention): MultiHeadSelfAttention(\n",
              "            (dropout): Dropout(p=0.1, inplace=False)\n",
              "            (q_lin): Linear(in_features=768, out_features=768, bias=True)\n",
              "            (k_lin): Linear(in_features=768, out_features=768, bias=True)\n",
              "            (v_lin): Linear(in_features=768, out_features=768, bias=True)\n",
              "            (out_lin): Linear(in_features=768, out_features=768, bias=True)\n",
              "          )\n",
              "          (sa_layer_norm): LayerNorm((768,), eps=1e-12, elementwise_affine=True)\n",
              "          (ffn): FFN(\n",
              "            (dropout): Dropout(p=0.1, inplace=False)\n",
              "            (lin1): Linear(in_features=768, out_features=3072, bias=True)\n",
              "            (lin2): Linear(in_features=3072, out_features=768, bias=True)\n",
              "          )\n",
              "          (output_layer_norm): LayerNorm((768,), eps=1e-12, elementwise_affine=True)\n",
              "        )\n",
              "      )\n",
              "    )\n",
              "  )\n",
              "  (cls_layer): Linear(in_features=768, out_features=2, bias=True)\n",
              ")"
            ]
          },
          "metadata": {
            "tags": []
          },
          "execution_count": 316
        }
      ]
    },
    {
      "cell_type": "code",
      "metadata": {
        "id": "75k2xfSn1obH"
      },
      "source": [
        "#torch.save(classifier_model, 'linear_model_ans.pt')"
      ],
      "execution_count": null,
      "outputs": []
    },
    {
      "cell_type": "markdown",
      "metadata": {
        "id": "EsJE56OjFWym"
      },
      "source": [
        "#Test model"
      ]
    },
    {
      "cell_type": "markdown",
      "metadata": {
        "id": "U1ylkDi1ll9V"
      },
      "source": [
        "## Loading the model"
      ]
    },
    {
      "cell_type": "markdown",
      "metadata": {
        "id": "tW1HGql88TYJ"
      },
      "source": [
        "We can now delete the train dataset / encodings as they take up a lot of RAM"
      ]
    },
    {
      "cell_type": "code",
      "metadata": {
        "id": "XW9o5OthAQ1L"
      },
      "source": [
        "#del train_dataset\n",
        "#del train_encodings"
      ],
      "execution_count": null,
      "outputs": []
    },
    {
      "cell_type": "markdown",
      "metadata": {
        "id": "JRJ5pWah8a80"
      },
      "source": [
        "We now load our 4 models"
      ]
    },
    {
      "cell_type": "code",
      "metadata": {
        "id": "WOklopPq-uoM"
      },
      "source": [
        "lin_model_all_CQ = torch.load('linear_model_all_CQ.pt')\n",
        "lin_model_all_QC = torch.load('linear_model_all_QC.pt')\n",
        "lin_model_onlyans_CQ = torch.load('linear_model_onlyans_CQ.pt')\n",
        "lin_model_onlyans_QC = torch.load('linear_onlyans_QC.pt')\n",
        "\n",
        "#The second parameter indicates whether or not the context precedes the question in the input\n",
        "#The third parameter indicates whether or not the model was trained on only answerable questions\n",
        "models = [(lin_model_all_CQ,1,0),\n",
        "(lin_model_all_QC,0,0),\n",
        "(lin_model_onlyans_CQ,1,1),\n",
        "(lin_model_onlyans_QC,0,1)]"
      ],
      "execution_count": 15,
      "outputs": []
    },
    {
      "cell_type": "markdown",
      "metadata": {
        "id": "Nabru6GT8yAK"
      },
      "source": [
        "Once again we will use the gpu to accelerate the model computations"
      ]
    },
    {
      "cell_type": "code",
      "metadata": {
        "id": "4_ifVXw1xs94"
      },
      "source": [
        "device = torch.device('cuda') if torch.cuda.is_available() else torch.device('cpu')\n",
        "for model in models:\n",
        "  model[0].to(device)\n",
        "  model[0].eval()"
      ],
      "execution_count": 16,
      "outputs": []
    },
    {
      "cell_type": "markdown",
      "metadata": {
        "id": "LjpGam34lrck"
      },
      "source": [
        "## Prediction function for scoring"
      ]
    },
    {
      "cell_type": "code",
      "metadata": {
        "id": "eVEsaFJajV2-"
      },
      "source": [
        "from tqdm.notebook import tqdm\n",
        "\n",
        "def create_prediction_dict_for_scores(model,encodings, answers,questions, dataset, id, context):\n",
        "\n",
        "\n",
        "\n",
        "\n",
        "  predicted_answer = []\n",
        "  real_answer = []\n",
        "  ans_confidence = []\n",
        "  noans_confidence = []\n",
        "\n",
        "  for k in tqdm(range(len(dataset))):\n",
        "    #We get each sample from the validation dataset\n",
        "    sample = dataset.__getitem__(k)\n",
        "    #We run the input_ids and attention_mask through the model\n",
        "    input_ids = sample['input_ids'].to(device)\n",
        "    attention_mask = sample['attention_mask'].to(device)\n",
        "    outputs = model(input_ids.unsqueeze(0), attention_mask.unsqueeze(0))\n",
        "    #We separate the predicted start and end\n",
        "    out1,out2 = torch.chunk(torch.softmax(outputs.float(),dim = -2), chunks = 2 , dim = 2)\n",
        "    predicted_1 = torch.argmax(out1, dim = 1).item()\n",
        "\n",
        "    predicted_2 = (predicted_1 + torch.argmax(out2.squeeze()[predicted_1:])).item()\n",
        "\n",
        "\n",
        "    ans_confidence.append(out1.squeeze()[predicted_1].item() + out2.squeeze()[predicted_2].item() )\n",
        "    noans_confidence.append(out1.squeeze()[0].item() + out2.squeeze()[0].item() )\n",
        "  \n",
        "    #Trying to simply un-tokenize the answers token may make us lose information. That is why we'll use the token_to_char index mapping'\n",
        "    if predicted_1 == 0:\n",
        "      predicted_answer.append('')\n",
        "    else:\n",
        "      context_start = encodings.token_to_chars(k,predicted_1)[0]\n",
        "      context_end = encodings.token_to_chars(k,predicted_2)[1]\n",
        "      predicted_answer.append(context[k][context_start:context_end])\n",
        "    if sample['start_positions'] == 0:\n",
        "      real_answer.append('')\n",
        "    else:\n",
        "      real_st = encodings.token_to_chars(k,sample['start_positions'].item())[0]\n",
        "      real_e = encodings.token_to_chars(k,sample['end_positions'].item())[1]\n",
        "      real_answer.append(context[k][real_st:real_e])\n",
        "\n",
        "\n",
        "\n",
        "  data_dict = {\"qid\":id, \"question\":questions, 'ans_conf': ans_confidence, 'no_ans_conf': noans_confidence,\n",
        "             'predicted_answer':predicted_answer, 'real_answer':real_answer,\n",
        "              'original_answer': [k['text'] for k in answers] }\n",
        "\n",
        "  return data_dict"
      ],
      "execution_count": 17,
      "outputs": []
    },
    {
      "cell_type": "code",
      "metadata": {
        "id": "L5rtc5BUE1B9"
      },
      "source": [
        "val_encodings = [val_encodings1,val_encodings2]\n",
        "val_dataset = [val_dataset1,val_dataset2]"
      ],
      "execution_count": 142,
      "outputs": []
    },
    {
      "cell_type": "code",
      "metadata": {
        "colab": {
          "base_uri": "https://localhost:8080/",
          "height": 212,
          "referenced_widgets": [
            "0f397e822bba4f71908b73e8a593b73a",
            "a07ab89261df4e28bef4a872cce4b4cb",
            "35986669dbad4c799a90b6f223703243",
            "18756801403d4d11b05529c253bf61c6",
            "ba199a490f9d4a42b417841c9867c737",
            "f956d64fe5294155bbb981025fc1f417",
            "a6aab0438a0c4cd1b5a144c92336259f",
            "aea9f7c1582e4c9c94d0220a61cdc719",
            "b6302520a04b422eab5ee1d717d13bfe",
            "16fcc0eb15f14dd998dce118c895bac8",
            "c4ab1523503a4f32ae03ba8051e0e03c",
            "c30755dbf3b94db8ab5471cce64ee592",
            "748393dd86dc45338ee7e0c831d2b100",
            "b9bb2d376a204cdc8e213708c0cff99a",
            "6609a63d4b2748b182a4f9f49d4f2eb8",
            "36b74ea40a3c4ff39d7d0d7a1ee4add3",
            "8f99ca4352a8410f903ab952d8882b25",
            "3fa6eaa95aaf41e2bd1b72860651a8a1",
            "d66585a711bc47c99dd31e0a2613ccf4",
            "dd182b3734714f1d8de436d6c64fd455",
            "6de3bc3c47ba4f0cbeddd0ad83670f89",
            "1e3eb366c4e84e1fbe0e6741bd211464",
            "d8b439a4ccb849c4939e76310b815448",
            "bee8481af6d947adaace250888ef7cdc",
            "8dd194fe048442ebb4d764486de3dac1",
            "ef352a4a42b34b4685201ec38abd1eb1",
            "b7d543d492b74468985765bc3cd111bf",
            "b74fc6a4945b43e5a9c505a56ad903db",
            "5a156cb8e13f4fdf909569d3c101a7dc",
            "8194e25e4bde4e5593c0628b3a91901f",
            "13128af1f64a44f98259151c06b83b30",
            "aec5e8613a68486a8f6b57124719a90c"
          ]
        },
        "id": "pAIWwB58H6zy",
        "outputId": "944e585d-37dc-4ad4-a52f-ef2f469d583f"
      },
      "source": [
        "dic_list = [\n",
        "            create_prediction_dict_for_scores(model[0],val_encodings[model[1]],\n",
        "                                              val_answers,val_questions, val_dataset[model[1]], val_id, val_contexts )\n",
        "            for model in models\n",
        "]"
      ],
      "execution_count": 143,
      "outputs": [
        {
          "output_type": "display_data",
          "data": {
            "application/vnd.jupyter.widget-view+json": {
              "model_id": "0f397e822bba4f71908b73e8a593b73a",
              "version_minor": 0,
              "version_major": 2
            },
            "text/plain": [
              "HBox(children=(FloatProgress(value=0.0, max=26247.0), HTML(value='')))"
            ]
          },
          "metadata": {
            "tags": []
          }
        },
        {
          "output_type": "stream",
          "text": [
            "\n"
          ],
          "name": "stdout"
        },
        {
          "output_type": "display_data",
          "data": {
            "application/vnd.jupyter.widget-view+json": {
              "model_id": "b6302520a04b422eab5ee1d717d13bfe",
              "version_minor": 0,
              "version_major": 2
            },
            "text/plain": [
              "HBox(children=(FloatProgress(value=0.0, max=26247.0), HTML(value='')))"
            ]
          },
          "metadata": {
            "tags": []
          }
        },
        {
          "output_type": "stream",
          "text": [
            "\n"
          ],
          "name": "stdout"
        },
        {
          "output_type": "display_data",
          "data": {
            "application/vnd.jupyter.widget-view+json": {
              "model_id": "8f99ca4352a8410f903ab952d8882b25",
              "version_minor": 0,
              "version_major": 2
            },
            "text/plain": [
              "HBox(children=(FloatProgress(value=0.0, max=26247.0), HTML(value='')))"
            ]
          },
          "metadata": {
            "tags": []
          }
        },
        {
          "output_type": "stream",
          "text": [
            "\n"
          ],
          "name": "stdout"
        },
        {
          "output_type": "display_data",
          "data": {
            "application/vnd.jupyter.widget-view+json": {
              "model_id": "8dd194fe048442ebb4d764486de3dac1",
              "version_minor": 0,
              "version_major": 2
            },
            "text/plain": [
              "HBox(children=(FloatProgress(value=0.0, max=26247.0), HTML(value='')))"
            ]
          },
          "metadata": {
            "tags": []
          }
        },
        {
          "output_type": "stream",
          "text": [
            "\n"
          ],
          "name": "stdout"
        }
      ]
    },
    {
      "cell_type": "code",
      "metadata": {
        "colab": {
          "base_uri": "https://localhost:8080/",
          "height": 511
        },
        "id": "D3Qoxa3CKfU2",
        "outputId": "e509fc6a-797a-495d-a9b5-02cb336e2d52"
      },
      "source": [
        "import pandas as pd\n",
        "dic_df = [pd.DataFrame(dic) for dic in dic_list]\n",
        "dic_df[3].head(10)"
      ],
      "execution_count": 146,
      "outputs": [
        {
          "output_type": "execute_result",
          "data": {
            "text/html": [
              "<div>\n",
              "<style scoped>\n",
              "    .dataframe tbody tr th:only-of-type {\n",
              "        vertical-align: middle;\n",
              "    }\n",
              "\n",
              "    .dataframe tbody tr th {\n",
              "        vertical-align: top;\n",
              "    }\n",
              "\n",
              "    .dataframe thead th {\n",
              "        text-align: right;\n",
              "    }\n",
              "</style>\n",
              "<table border=\"1\" class=\"dataframe\">\n",
              "  <thead>\n",
              "    <tr style=\"text-align: right;\">\n",
              "      <th></th>\n",
              "      <th>qid</th>\n",
              "      <th>question</th>\n",
              "      <th>ans_conf</th>\n",
              "      <th>no_ans_conf</th>\n",
              "      <th>predicted_answer</th>\n",
              "      <th>real_answer</th>\n",
              "      <th>original_answer</th>\n",
              "    </tr>\n",
              "  </thead>\n",
              "  <tbody>\n",
              "    <tr>\n",
              "      <th>0</th>\n",
              "      <td>56ddde6b9a695914005b9628</td>\n",
              "      <td>In what country is Normandy located?</td>\n",
              "      <td>1.979519</td>\n",
              "      <td>1.510338e-06</td>\n",
              "      <td>France</td>\n",
              "      <td>France</td>\n",
              "      <td>France</td>\n",
              "    </tr>\n",
              "    <tr>\n",
              "      <th>1</th>\n",
              "      <td>56ddde6b9a695914005b9628</td>\n",
              "      <td>In what country is Normandy located?</td>\n",
              "      <td>1.979519</td>\n",
              "      <td>1.510338e-06</td>\n",
              "      <td>France</td>\n",
              "      <td>France</td>\n",
              "      <td>France</td>\n",
              "    </tr>\n",
              "    <tr>\n",
              "      <th>2</th>\n",
              "      <td>56ddde6b9a695914005b9628</td>\n",
              "      <td>In what country is Normandy located?</td>\n",
              "      <td>1.979519</td>\n",
              "      <td>1.510338e-06</td>\n",
              "      <td>France</td>\n",
              "      <td>France</td>\n",
              "      <td>France</td>\n",
              "    </tr>\n",
              "    <tr>\n",
              "      <th>3</th>\n",
              "      <td>56ddde6b9a695914005b9628</td>\n",
              "      <td>In what country is Normandy located?</td>\n",
              "      <td>1.979519</td>\n",
              "      <td>1.510338e-06</td>\n",
              "      <td>France</td>\n",
              "      <td>France</td>\n",
              "      <td>France</td>\n",
              "    </tr>\n",
              "    <tr>\n",
              "      <th>4</th>\n",
              "      <td>56ddde6b9a695914005b9629</td>\n",
              "      <td>When were the Normans in Normandy?</td>\n",
              "      <td>1.775445</td>\n",
              "      <td>4.605879e-07</td>\n",
              "      <td>10th and 11th centuries</td>\n",
              "      <td>10th and 11th centuries</td>\n",
              "      <td>10th and 11th centuries</td>\n",
              "    </tr>\n",
              "    <tr>\n",
              "      <th>5</th>\n",
              "      <td>56ddde6b9a695914005b9629</td>\n",
              "      <td>When were the Normans in Normandy?</td>\n",
              "      <td>1.775445</td>\n",
              "      <td>4.605879e-07</td>\n",
              "      <td>10th and 11th centuries</td>\n",
              "      <td>in the 10th and 11th centuries</td>\n",
              "      <td>in the 10th and 11th centuries</td>\n",
              "    </tr>\n",
              "    <tr>\n",
              "      <th>6</th>\n",
              "      <td>56ddde6b9a695914005b9629</td>\n",
              "      <td>When were the Normans in Normandy?</td>\n",
              "      <td>1.775445</td>\n",
              "      <td>4.605879e-07</td>\n",
              "      <td>10th and 11th centuries</td>\n",
              "      <td>10th and 11th centuries</td>\n",
              "      <td>10th and 11th centuries</td>\n",
              "    </tr>\n",
              "    <tr>\n",
              "      <th>7</th>\n",
              "      <td>56ddde6b9a695914005b9629</td>\n",
              "      <td>When were the Normans in Normandy?</td>\n",
              "      <td>1.775445</td>\n",
              "      <td>4.605879e-07</td>\n",
              "      <td>10th and 11th centuries</td>\n",
              "      <td>10th and 11th centuries</td>\n",
              "      <td>10th and 11th centuries</td>\n",
              "    </tr>\n",
              "    <tr>\n",
              "      <th>8</th>\n",
              "      <td>56ddde6b9a695914005b962a</td>\n",
              "      <td>From which countries did the Norse originate?</td>\n",
              "      <td>1.963104</td>\n",
              "      <td>1.180180e-07</td>\n",
              "      <td>Denmark, Iceland and Norway</td>\n",
              "      <td>Denmark, Iceland and Norway</td>\n",
              "      <td>Denmark, Iceland and Norway</td>\n",
              "    </tr>\n",
              "    <tr>\n",
              "      <th>9</th>\n",
              "      <td>56ddde6b9a695914005b962a</td>\n",
              "      <td>From which countries did the Norse originate?</td>\n",
              "      <td>1.963104</td>\n",
              "      <td>1.180180e-07</td>\n",
              "      <td>Denmark, Iceland and Norway</td>\n",
              "      <td>Denmark, Iceland and Norway</td>\n",
              "      <td>Denmark, Iceland and Norway</td>\n",
              "    </tr>\n",
              "  </tbody>\n",
              "</table>\n",
              "</div>"
            ],
            "text/plain": [
              "                        qid  ...                 original_answer\n",
              "0  56ddde6b9a695914005b9628  ...                          France\n",
              "1  56ddde6b9a695914005b9628  ...                          France\n",
              "2  56ddde6b9a695914005b9628  ...                          France\n",
              "3  56ddde6b9a695914005b9628  ...                          France\n",
              "4  56ddde6b9a695914005b9629  ...         10th and 11th centuries\n",
              "5  56ddde6b9a695914005b9629  ...  in the 10th and 11th centuries\n",
              "6  56ddde6b9a695914005b9629  ...         10th and 11th centuries\n",
              "7  56ddde6b9a695914005b9629  ...         10th and 11th centuries\n",
              "8  56ddde6b9a695914005b962a  ...     Denmark, Iceland and Norway\n",
              "9  56ddde6b9a695914005b962a  ...     Denmark, Iceland and Norway\n",
              "\n",
              "[10 rows x 7 columns]"
            ]
          },
          "metadata": {
            "tags": []
          },
          "execution_count": 146
        }
      ]
    },
    {
      "cell_type": "markdown",
      "metadata": {
        "id": "SqZwz_AlmTDq"
      },
      "source": [
        "#Evaluation"
      ]
    },
    {
      "cell_type": "markdown",
      "metadata": {
        "id": "o2yBxaknT4hs"
      },
      "source": [
        "## Pipeline for single prediction"
      ]
    },
    {
      "cell_type": "code",
      "metadata": {
        "id": "kS_okgYrxdbh"
      },
      "source": [
        "def single_prediction(question,context, lin_model, tau = 1, cq = 0):\n",
        "  if cq: #Encoding first context then question\n",
        "    encoding = tokenizer(context, question, truncation=True, padding=True)\n",
        "  else:\n",
        "    encoding = tokenizer(question, context, truncation=True, padding=True)\n",
        "  outputs = lin_model(torch.tensor(encoding['input_ids']).unsqueeze(0).to(device),\n",
        "                      attn_masks=torch.tensor(encoding['attention_mask']).unsqueeze(0).to(device))\n",
        "  out1,out2 = torch.chunk(torch.softmax(outputs.float(),dim = -2), chunks = 2 , dim = 2)\n",
        "  predicted_1 = torch.argmax(out1, dim = 1).item()\n",
        "  predicted_2 = predicted_1 + torch.argmax(out2.squeeze()[predicted_1:]).item()\n",
        "  predicted_1 = torch.argmax(out1, dim = 1).item()\n",
        "  predicted_2 = (predicted_1 + torch.argmax(out2.squeeze()[predicted_1:])).item()\n",
        "  \n",
        "  ans_confidence = out1.squeeze()[predicted_1].item() + out2.squeeze()[predicted_2].item() \n",
        "  noans_confidence =out1.squeeze()[0].item() + out2.squeeze()[0].item() \n",
        "  if ans_confidence > tau + noans_confidence:\n",
        "    predicted_answer = tokenizer.convert_tokens_to_string(encoding.tokens()[predicted_1:predicted_2+1])\n",
        "  else:\n",
        "    predicted_answer = ''\n",
        "  return predicted_answer, ans_confidence                                                      "
      ],
      "execution_count": 18,
      "outputs": []
    },
    {
      "cell_type": "markdown",
      "metadata": {
        "id": "8G5jgQCc517x"
      },
      "source": [
        "## Evaluation functions"
      ]
    },
    {
      "cell_type": "code",
      "metadata": {
        "id": "FCmkdmYStfrD"
      },
      "source": [
        "import collections\n",
        "import json\n",
        "import numpy as np\n",
        "import os\n",
        "import re\n",
        "import string\n",
        "import sys\n",
        "\n",
        "\n",
        "#Squad scores are evaluated by comparing normalized answers\n",
        "\n",
        "def normalize_answer(s):\n",
        "  \"\"\"Lower text and remove punctuation, articles and extra whitespace.\"\"\"\n",
        "  def remove_articles(text):\n",
        "    regex = re.compile(r'\\b(a|an|the)\\b', re.UNICODE)\n",
        "    return re.sub(regex, ' ', text)\n",
        "  def white_space_fix(text):\n",
        "    return ' '.join(text.split())\n",
        "  def remove_punc(text):\n",
        "    exclude = set(string.punctuation)\n",
        "    return ''.join(ch for ch in text if ch not in exclude)\n",
        "  def lower(text):\n",
        "    return text.lower()\n",
        "  return white_space_fix(remove_articles(remove_punc(lower(s))))\n",
        "\n",
        "def get_tokens(s):\n",
        "  if not s: return []\n",
        "  return normalize_answer(s).split()\n",
        "\n",
        "def compute_exact(a_gold, a_pred):\n",
        "  return int(normalize_answer(a_gold) == normalize_answer(a_pred))\n",
        "\n",
        "def compute_f1(a_gold, a_pred):\n",
        "  gold_toks = get_tokens(a_gold)\n",
        "  pred_toks = get_tokens(a_pred)\n",
        "  common = collections.Counter(gold_toks) & collections.Counter(pred_toks)\n",
        "  num_same = sum(common.values())\n",
        "  if len(gold_toks) == 0 or len(pred_toks) == 0:\n",
        "    # If either is no-answer, then F1 is 1 if they agree, 0 otherwise\n",
        "    return int(gold_toks == pred_toks)\n",
        "  if num_same == 0:\n",
        "    return 0\n",
        "  precision = 1.0 * num_same / len(pred_toks)\n",
        "  recall = 1.0 * num_same / len(gold_toks)\n",
        "  f1 = (2 * precision * recall) / (precision + recall)\n",
        "  return f1\n",
        "\n",
        "def get_raw_scores(dataset, answer = \"original_answer\", onlyansq = False, min_len = 0):\n",
        "  ''' Return two dictionnary with the qid as key and the f1/em score as content. Onlyansq indicate whether or not the model should take\n",
        "  into account only anwserable questions. min_len indicates the minimum length the context must have for the question to be taken into\n",
        "  account. '''\n",
        "  exact_scores = {}\n",
        "  f1_scores = {}\n",
        "  qid = dataset['qid'][0]\n",
        "  em = 0\n",
        "  f1 = 0\n",
        "  for k in tqdm(range(len(dataset))):\n",
        "    #we don't take into account question that don't have answers or context too short\n",
        "    if onlyansq and dataset[answer][k] == '' and len(val_contexts[k]) >= min_len: \n",
        "      pass\n",
        "    elif qid != dataset['qid'][k]: #If we have a new question, we store the scores of the previous one\n",
        "      exact_scores[qid] = em\n",
        "      f1_scores[qid] = f1\n",
        "      qid = dataset['qid'][k]\n",
        "\n",
        "      em = compute_exact(dataset[answer][k],dataset['predicted_answer'][k])\n",
        "      f1 = compute_f1(dataset[answer][k],dataset['predicted_answer'][k])\n",
        "    \n",
        "    else: #Else we take the maximum score among the different answers to this question\n",
        "      em = np.max([em,compute_exact(dataset[answer][k],dataset['predicted_answer'][k])])\n",
        "      f1 = np.max([f1,compute_f1(dataset[answer][k],dataset['predicted_answer'][k])])\n",
        "\n",
        "  return exact_scores, f1_scores\n",
        "\n",
        "\n",
        "\n",
        "def make_eval_dict(exact_scores, f1_scores, qid_list=None):\n",
        "  ''' Average over the raw scores'''\n",
        "  if not qid_list:\n",
        "    total = len(exact_scores)\n",
        "    return collections.OrderedDict([\n",
        "        ('exact', 100.0 * sum(exact_scores.values()) / total),\n",
        "        ('f1', 100.0 * sum(f1_scores.values()) / total),\n",
        "        ('total', total),\n",
        "    ])\n",
        "  else:\n",
        "    total = len(qid_list)\n",
        "    return collections.OrderedDict([\n",
        "        ('exact', 100.0 * sum(exact_scores[k] for k in qid_list) / total),\n",
        "        ('f1', 100.0 * sum(f1_scores[k] for k in qid_list) / total),\n",
        "        ('total', total),\n",
        "    ])\n",
        "\n",
        "\n",
        "\n",
        "def get_raw_scores_sep(dataset, min_len = 0):\n",
        "  '''Same as get_raw_scores but calculate separately the score for answerable and unanswerable questions '''\n",
        "  exact_scores_ans = {}\n",
        "  f1_tot = {}\n",
        "  exact_tot = {}\n",
        "  f1_scores_ans = {}\n",
        "  exact_scores_noans = {}\n",
        "  f1_scores_noans = {}\n",
        "  qid = dataset['qid'][0]\n",
        "  em = 0\n",
        "  f1 = 0\n",
        "  for k in tqdm(range(len(dataset))):\n",
        "    #We only take into account context above a certain lengths. Used later in the qualitative analysis\n",
        "    if len(val_contexts[k]) < min_len:\n",
        "      pass\n",
        "    elif qid != dataset['qid'][k]: #If we have a new question, we store the scores of the previous one\n",
        "      if dataset['original_answer'][k-1] != '':\n",
        "        exact_scores_ans[qid] = em\n",
        "        f1_scores_ans[qid] = f1\n",
        "\n",
        "      else:\n",
        "        exact_scores_noans[qid] = em\n",
        "        f1_scores_noans[qid] = f1\n",
        "\n",
        "      exact_tot[qid] = em\n",
        "      f1_tot[qid] = f1\n",
        "      qid = dataset['qid'][k]\n",
        "\n",
        "      em = compute_exact(dataset['original_answer'][k],dataset['predicted_answer'][k])\n",
        "      f1 = compute_f1(dataset['original_answer'][k],dataset['predicted_answer'][k])\n",
        "    \n",
        "    else: #Else we take the maximum score among the different answers to this question\n",
        "      em = np.max([em,compute_exact(dataset['original_answer'][k],dataset['predicted_answer'][k])])\n",
        "      f1 = np.max([f1,compute_f1(dataset['original_answer'][k],dataset['predicted_answer'][k])])\n",
        "\n",
        "  return exact_scores_ans, f1_scores_ans, exact_scores_noans, f1_scores_noans, exact_tot, f1_tot\n",
        "\n",
        "def get_raw_scores_sep_nan_tresh(dataset,t):\n",
        "  ''' Same as get_raw_scores_sep but with a threshold as described in the article '''\n",
        "  f1_tot = {}\n",
        "  exact_tot = {}  \n",
        "  exact_scores_ans = {}\n",
        "  f1_scores_ans = {}\n",
        "  exact_scores_noans = {}\n",
        "  f1_scores_noans = {}\n",
        "  qid = dataset['qid'][0]\n",
        "  em = 0\n",
        "  f1 = 0\n",
        "  for k in (range(len(dataset))):\n",
        "    if qid != dataset['qid'][k]: #If we have a new question, we store the scores of the previous one\n",
        "      if dataset['original_answer'][k-1] != '':\n",
        "        exact_scores_ans[qid] = em\n",
        "        f1_scores_ans[qid] = f1\n",
        "      else:\n",
        "        exact_scores_noans[qid] = em\n",
        "        f1_scores_noans[qid] = f1\n",
        "      \n",
        "      exact_tot[qid] = em\n",
        "      f1_tot[qid] = f1\n",
        "      qid = dataset['qid'][k]\n",
        "\n",
        "      if dataset['ans_conf'][k] > t + dataset['no_ans_conf'][k]:\n",
        "        em = compute_exact(dataset['original_answer'][k],dataset['predicted_answer'][k])\n",
        "        f1 = compute_f1(dataset['original_answer'][k],dataset['predicted_answer'][k])\n",
        "      else:\n",
        "        em = compute_exact(dataset['original_answer'][k],'')\n",
        "        f1 = compute_f1(dataset['original_answer'][k],'')        \n",
        "    \n",
        "    else: #Else we take the maximum score among the different answers to this question\n",
        "      if dataset['ans_conf'][k] > t + dataset['no_ans_conf'][k]:\n",
        "        em = max(em,compute_exact(dataset['original_answer'][k],dataset['predicted_answer'][k]))\n",
        "        f1 = max(f1,compute_f1(dataset['original_answer'][k],dataset['predicted_answer'][k]))\n",
        "      else:\n",
        "        em = max(em,compute_exact(dataset['original_answer'][k],''))\n",
        "        f1 = max(f1,compute_f1(dataset['original_answer'][k],''))        \n",
        "\n",
        "  return exact_scores_ans, f1_scores_ans, exact_scores_noans, f1_scores_noans, exact_tot, f1_tot\n"
      ],
      "execution_count": 19,
      "outputs": []
    },
    {
      "cell_type": "markdown",
      "metadata": {
        "id": "xOVY_XeMjdfI"
      },
      "source": [
        "## Comparing 2 types of answers"
      ]
    },
    {
      "cell_type": "code",
      "metadata": {
        "id": "nvbXnKtUfymr"
      },
      "source": [
        "re_tokenized_norm_ans = np.array([normalize_answer(s) for s in df['original_answer']]) #untokenized answers"
      ],
      "execution_count": null,
      "outputs": []
    },
    {
      "cell_type": "code",
      "metadata": {
        "id": "eTesAej6gEmL"
      },
      "source": [
        "real_norm_ans = np.array([normalize_answer(s) for s in df['real_answer']])"
      ],
      "execution_count": null,
      "outputs": []
    },
    {
      "cell_type": "code",
      "metadata": {
        "colab": {
          "base_uri": "https://localhost:8080/"
        },
        "id": "z8uO7Bu7gjoo",
        "outputId": "b6f2baec-e6f9-4cbf-946e-3080cd7d16d2"
      },
      "source": [
        "c = 0\n",
        "for k in range(len(re_tokenized_norm_ans)):\n",
        "  if re_tokenized_norm_ans[k] != real_norm_ans[k]:\n",
        "    print('question', k, ' \\n real ans:', real_norm_ans[k], '\\n re tokenized ans:', re_tokenized_norm_ans[k])\n",
        "    c+=1\n",
        "  if c == 10:\n",
        "    break"
      ],
      "execution_count": null,
      "outputs": [
        {
          "output_type": "stream",
          "text": [
            "question 1238  \n",
            " real ans: richest \n",
            " re tokenized ans: rich\n",
            "question 1869  \n",
            " real ans: victoria constitution act 1855 \n",
            " re tokenized ans: victoria constitution act 185\n",
            "question 1980  \n",
            " real ans: gold rushes \n",
            " re tokenized ans: gold rush\n",
            "question 1981  \n",
            " real ans: gold rushes \n",
            " re tokenized ans: gold rush\n",
            "question 2114  \n",
            " real ans: 1562 to 1598 \n",
            " re tokenized ans: 562 to 1598\n",
            "question 2280  \n",
            " real ans: australians \n",
            " re tokenized ans: australia\n",
            "question 2281  \n",
            " real ans: australians \n",
            " re tokenized ans: australia\n",
            "question 4828  \n",
            " real ans: israelis \n",
            " re tokenized ans: israel\n",
            "question 5013  \n",
            " real ans: japanese \n",
            " re tokenized ans: japan\n",
            "question 5022  \n",
            " real ans: japanese \n",
            " re tokenized ans: japan\n"
          ],
          "name": "stdout"
        }
      ]
    },
    {
      "cell_type": "markdown",
      "metadata": {
        "id": "8CsgNQ75xmzH"
      },
      "source": [
        "A few answers are different but statistically it is not relevant"
      ]
    },
    {
      "cell_type": "markdown",
      "metadata": {
        "id": "OR7w82t8uv81"
      },
      "source": [
        "## F1 and EM scores"
      ]
    },
    {
      "cell_type": "code",
      "metadata": {
        "colab": {
          "base_uri": "https://localhost:8080/",
          "height": 212,
          "referenced_widgets": [
            "6351d8544f0c426e8e4dfc09638b1c93",
            "e452d167dfe446b394a6ef4f8397942c",
            "36eb2044c5db4d2c9611342ea93e198f",
            "74fa18fb2bb54d88abc9236b1490277b",
            "850b98452e7d4c72ac53d070d846b59f",
            "138c6eb0fe5744fd9c6a3a813ebfd5dd",
            "1642bde352ef4da8b9018b3743b7171a",
            "c31ad082907a4b148339159d297c59f7",
            "f66c8be0d9444d78b18ffd44337ca744",
            "47c47e793279414a993a4de8ebba9e24",
            "c0daef04eb4e45c085e1cdaa4bcb0952",
            "bfac54a7febd46f0b48d1635d4d7ea60",
            "50f9b080486744ef926864b254a5cd43",
            "8d5ba8faf072480d9fef750f44898522",
            "399c94f267d040a9b63d462160f9625a",
            "5444baf8d375498eb25e72b31a28b0e8",
            "108cc16abe8e4435a3fa7256ec050a24",
            "ef2e3e2fe6fe4c6fa59c619796372203",
            "6f54afc5ed194633990bc3b319d5a0e7",
            "4764f31ec4d74090a4d2baefa0db0e25",
            "6b4bbd90c9a74886b02f939fb7ec802f",
            "b008f88cfc3a4e41b59dfe0d05c511c4",
            "9e5ae200c9234086898612d719e62599",
            "40cb6bb509bd4e4eba34824a89393c0b",
            "bbb84960528d49f3b34928850326d9ee",
            "b81ed8611c7b41c3bdd160072be20913",
            "d43750d9c4e14ae3a675d8035690a585",
            "3e2c990519814ae5a2866b195b39b65b",
            "ddf74fb83fee4a59a5b6b5102dc67779",
            "bf8f503371c249f484f0f8067801668f",
            "cbc209cb1dfd470b8b0262ff53a20090",
            "fbf73bb605a14f31ab70f510ede49a5d"
          ]
        },
        "id": "dWtvwoQPpEaC",
        "outputId": "40fb91b0-9746-4a2b-9c2f-3e791ca9fb4d"
      },
      "source": [
        "f1_onlyansq = []\n",
        "em_onlyansq = []\n",
        "f1_all= []\n",
        "em_all = []\n",
        "f1_noans = []\n",
        "em_noans = []\n",
        "total = [0,0,0]\n",
        "for df in dic_df:\n",
        "  em, f1, em_no, f1_no, em_tot, f1_tot = get_raw_scores_sep(df)\n",
        "  \n",
        "  scores = make_eval_dict(em, f1)\n",
        "  f1_onlyansq.append(scores['f1'])\n",
        "  em_onlyansq.append(scores['exact'])\n",
        "  total[0] = scores['total']\n",
        "\n",
        "  scores = make_eval_dict(em_no, f1_no)\n",
        "  f1_noans.append(scores['f1'])\n",
        "  em_noans.append(scores['exact'])\n",
        "  total[1] = scores['total']\n",
        "\n",
        "  scores = make_eval_dict(em_tot, f1_tot)\n",
        "  f1_all.append(scores['f1'])\n",
        "  em_all.append(scores['exact'])\n",
        "  total[2] = scores['total']\n",
        "\n",
        "\n",
        "score_df = pd.DataFrame({\"f1 on answerable questions\": f1_onlyansq, \"f1 on unanswerable questions\": f1_noans, \"total f1\": f1_all,\n",
        "                         \"EM on answerable questions\": em_onlyansq, \"EM on unanswerable questions\": em_noans, \"total EM\": em_all\n",
        "                         })"
      ],
      "execution_count": 147,
      "outputs": [
        {
          "output_type": "display_data",
          "data": {
            "application/vnd.jupyter.widget-view+json": {
              "model_id": "6351d8544f0c426e8e4dfc09638b1c93",
              "version_minor": 0,
              "version_major": 2
            },
            "text/plain": [
              "HBox(children=(FloatProgress(value=0.0, max=26247.0), HTML(value='')))"
            ]
          },
          "metadata": {
            "tags": []
          }
        },
        {
          "output_type": "stream",
          "text": [
            "\n"
          ],
          "name": "stdout"
        },
        {
          "output_type": "display_data",
          "data": {
            "application/vnd.jupyter.widget-view+json": {
              "model_id": "f66c8be0d9444d78b18ffd44337ca744",
              "version_minor": 0,
              "version_major": 2
            },
            "text/plain": [
              "HBox(children=(FloatProgress(value=0.0, max=26247.0), HTML(value='')))"
            ]
          },
          "metadata": {
            "tags": []
          }
        },
        {
          "output_type": "stream",
          "text": [
            "\n"
          ],
          "name": "stdout"
        },
        {
          "output_type": "display_data",
          "data": {
            "application/vnd.jupyter.widget-view+json": {
              "model_id": "108cc16abe8e4435a3fa7256ec050a24",
              "version_minor": 0,
              "version_major": 2
            },
            "text/plain": [
              "HBox(children=(FloatProgress(value=0.0, max=26247.0), HTML(value='')))"
            ]
          },
          "metadata": {
            "tags": []
          }
        },
        {
          "output_type": "stream",
          "text": [
            "\n"
          ],
          "name": "stdout"
        },
        {
          "output_type": "display_data",
          "data": {
            "application/vnd.jupyter.widget-view+json": {
              "model_id": "bbb84960528d49f3b34928850326d9ee",
              "version_minor": 0,
              "version_major": 2
            },
            "text/plain": [
              "HBox(children=(FloatProgress(value=0.0, max=26247.0), HTML(value='')))"
            ]
          },
          "metadata": {
            "tags": []
          }
        },
        {
          "output_type": "stream",
          "text": [
            "\n"
          ],
          "name": "stdout"
        }
      ]
    },
    {
      "cell_type": "code",
      "metadata": {
        "colab": {
          "base_uri": "https://localhost:8080/",
          "height": 166
        },
        "id": "DBwpu89_Xkza",
        "outputId": "18836b72-d0c0-432e-c485-671f2a0af4b5"
      },
      "source": [
        "score_df"
      ],
      "execution_count": 148,
      "outputs": [
        {
          "output_type": "execute_result",
          "data": {
            "text/html": [
              "<div>\n",
              "<style scoped>\n",
              "    .dataframe tbody tr th:only-of-type {\n",
              "        vertical-align: middle;\n",
              "    }\n",
              "\n",
              "    .dataframe tbody tr th {\n",
              "        vertical-align: top;\n",
              "    }\n",
              "\n",
              "    .dataframe thead th {\n",
              "        text-align: right;\n",
              "    }\n",
              "</style>\n",
              "<table border=\"1\" class=\"dataframe\">\n",
              "  <thead>\n",
              "    <tr style=\"text-align: right;\">\n",
              "      <th></th>\n",
              "      <th>f1 on answerable questions</th>\n",
              "      <th>f1 on unanswerable questions</th>\n",
              "      <th>total f1</th>\n",
              "      <th>EM on answerable questions</th>\n",
              "      <th>EM on unanswerable questions</th>\n",
              "      <th>total EM</th>\n",
              "    </tr>\n",
              "  </thead>\n",
              "  <tbody>\n",
              "    <tr>\n",
              "      <th>0</th>\n",
              "      <td>74.136498</td>\n",
              "      <td>61.322342</td>\n",
              "      <td>67.720785</td>\n",
              "      <td>66.447368</td>\n",
              "      <td>61.322342</td>\n",
              "      <td>63.881402</td>\n",
              "    </tr>\n",
              "    <tr>\n",
              "      <th>1</th>\n",
              "      <td>70.293987</td>\n",
              "      <td>65.259085</td>\n",
              "      <td>67.773143</td>\n",
              "      <td>63.782051</td>\n",
              "      <td>65.259085</td>\n",
              "      <td>64.521563</td>\n",
              "    </tr>\n",
              "    <tr>\n",
              "      <th>2</th>\n",
              "      <td>83.366317</td>\n",
              "      <td>0.016824</td>\n",
              "      <td>41.635405</td>\n",
              "      <td>74.224022</td>\n",
              "      <td>0.016824</td>\n",
              "      <td>37.070418</td>\n",
              "    </tr>\n",
              "    <tr>\n",
              "      <th>3</th>\n",
              "      <td>83.988199</td>\n",
              "      <td>0.016824</td>\n",
              "      <td>41.945927</td>\n",
              "      <td>74.848178</td>\n",
              "      <td>0.016824</td>\n",
              "      <td>37.382075</td>\n",
              "    </tr>\n",
              "  </tbody>\n",
              "</table>\n",
              "</div>"
            ],
            "text/plain": [
              "   f1 on answerable questions  ...   total EM\n",
              "0                   74.136498  ...  63.881402\n",
              "1                   70.293987  ...  64.521563\n",
              "2                   83.366317  ...  37.070418\n",
              "3                   83.988199  ...  37.382075\n",
              "\n",
              "[4 rows x 6 columns]"
            ]
          },
          "metadata": {
            "tags": []
          },
          "execution_count": 148
        }
      ]
    },
    {
      "cell_type": "markdown",
      "metadata": {
        "id": "RPIpzA1renAb"
      },
      "source": [
        "## Threshold choice"
      ]
    },
    {
      "cell_type": "markdown",
      "metadata": {
        "id": "j87st8X_-Mw-"
      },
      "source": [
        "We will now compute the scores we get by adding hard thresholding on the answer confidence."
      ]
    },
    {
      "cell_type": "code",
      "metadata": {
        "colab": {
          "base_uri": "https://localhost:8080/",
          "height": 66,
          "referenced_widgets": [
            "4e7a279938ae47219502c315f9302507",
            "94aca822dcc3448eba1f4e78445dd97b",
            "9dfa75bf01084f37b10005b0f87b8118",
            "70557e2679b342a0bd041d6ce7459a44",
            "4820379ee5d44adf85e5e5ab7a310518",
            "111c09465a5b4259a53a01728a2f9e6f",
            "1c7d208e9f6744beb37faaebe9c57420",
            "c363f59ca5e0474da433c5042f3cca18"
          ]
        },
        "id": "YJIuX3ll6XpT",
        "outputId": "dae8edd5-93ce-4758-fd3a-14c5b6ab2321"
      },
      "source": [
        "r = np.linspace(0,2,100)\n",
        "f_1_hasans = []\n",
        "f_1_noans = []\n",
        "exact_hasans = []\n",
        "exact_noans = []\n",
        "exact_score = []\n",
        "f1_score = []\n",
        "for k in tqdm(r):\n",
        "  em, f1, em_bis, f1_bis, em_t, f1_t = get_raw_scores_sep_nan_tresh(dic_df[0],k)\n",
        "  a,b = make_eval_dict(em, f1), make_eval_dict(em_bis, f1_bis)\n",
        "\n",
        "  c = make_eval_dict(em_t,f1_t)\n",
        "  f_1_hasans.append(a['f1'])\n",
        "  f_1_noans.append(b['f1'])\n",
        "  exact_hasans.append(a['exact'])\n",
        "  exact_noans.append(b['exact'])\n",
        "  exact_score.append(c['exact'])\n",
        "  f1_score.append(c['f1'])"
      ],
      "execution_count": null,
      "outputs": [
        {
          "output_type": "display_data",
          "data": {
            "application/vnd.jupyter.widget-view+json": {
              "model_id": "4e7a279938ae47219502c315f9302507",
              "version_minor": 0,
              "version_major": 2
            },
            "text/plain": [
              "HBox(children=(FloatProgress(value=0.0), HTML(value='')))"
            ]
          },
          "metadata": {
            "tags": []
          }
        },
        {
          "output_type": "stream",
          "text": [
            "\n"
          ],
          "name": "stdout"
        }
      ]
    },
    {
      "cell_type": "code",
      "metadata": {
        "colab": {
          "base_uri": "https://localhost:8080/",
          "height": 66,
          "referenced_widgets": [
            "e9549fb58ff54d9c9613069a892ab4c3",
            "ac26a8fe09c34baea1d9065f661591b1",
            "25d6438c730b452caf5b830fafe0e5c0",
            "926671e1082c47bc8a2ae0b129f519a2",
            "e0152b88801e4fd7a40cccca10d5a010",
            "3f3336f473ff4fdf944db45ed9b1b9df",
            "3880339d8b8a4496a3b8472ee7069a94",
            "8ab8e35d3ed6407f83888a51b87b815e"
          ]
        },
        "id": "nQDxbt0weiPJ",
        "outputId": "2638dd14-de2b-4bd2-a4fb-c9966a29e71a"
      },
      "source": [
        "f_1_hasans2 = []\n",
        "f_1_noans2 = []\n",
        "exact_hasans2 = []\n",
        "exact_noans2 = []\n",
        "exact_score2 = []\n",
        "f1_score2 = []\n",
        "for k in tqdm(r):\n",
        "  em, f1, em_bis, f1_bis, em_t, f1_t = get_raw_scores_sep_nan_tresh(dic_df[1],k)\n",
        "  a,b = make_eval_dict(em, f1), make_eval_dict(em_bis, f1_bis)\n",
        "\n",
        "  c = make_eval_dict(em_t,f1_t)\n",
        "  f_1_hasans2.append(a['f1'])\n",
        "  f_1_noans2.append(b['f1'])\n",
        "  exact_hasans2.append(a['exact'])\n",
        "  exact_noans2.append(b['exact'])\n",
        "  exact_score2.append(c['exact'])\n",
        "  f1_score2.append(c['f1'])"
      ],
      "execution_count": null,
      "outputs": [
        {
          "output_type": "display_data",
          "data": {
            "application/vnd.jupyter.widget-view+json": {
              "model_id": "e9549fb58ff54d9c9613069a892ab4c3",
              "version_minor": 0,
              "version_major": 2
            },
            "text/plain": [
              "HBox(children=(FloatProgress(value=0.0), HTML(value='')))"
            ]
          },
          "metadata": {
            "tags": []
          }
        },
        {
          "output_type": "stream",
          "text": [
            "\n"
          ],
          "name": "stdout"
        }
      ]
    },
    {
      "cell_type": "code",
      "metadata": {
        "colab": {
          "base_uri": "https://localhost:8080/",
          "height": 66,
          "referenced_widgets": [
            "b2774951a5d847a1932db2671bb9cf37",
            "cd057e65790c4f189b2d918d3ab8f1e7",
            "986c8443ab1d4e1ebda7d87074fae943",
            "6dad151002e9424c8767750acfadfb7d",
            "fa9a549e50e24c1a8a84844b0a86ab55",
            "7ec0a979f0d84cc2a7b9ff482a0df09a",
            "cc8215077e0845da8f2e00d86684721c",
            "8291c30196f4494ea549bb93d18ddf4d"
          ]
        },
        "id": "bm0n7HHBN9p9",
        "outputId": "b65c9fd4-241e-4043-daff-d09b41c41ec0"
      },
      "source": [
        "f_1_hasans3 = []\n",
        "f_1_noans3 = []\n",
        "exact_hasans3 = []\n",
        "exact_noans3 = []\n",
        "exact_score3 = []\n",
        "f1_score3 = []\n",
        "for k in tqdm(r):\n",
        "  em, f1, em_bis, f1_bis, em_t, f1_t = get_raw_scores_sep_nan_tresh(dic_df[2],k)\n",
        "  a,b = make_eval_dict(em, f1), make_eval_dict(em_bis, f1_bis)\n",
        "\n",
        "  c = make_eval_dict(em_t,f1_t)\n",
        "  f_1_hasans3.append(a['f1'])\n",
        "  f_1_noans3.append(b['f1'])\n",
        "  exact_hasans3.append(a['exact'])\n",
        "  exact_noans3.append(b['exact'])\n",
        "  exact_score3.append(c['exact'])\n",
        "  f1_score3.append(c['f1'])"
      ],
      "execution_count": null,
      "outputs": [
        {
          "output_type": "display_data",
          "data": {
            "application/vnd.jupyter.widget-view+json": {
              "model_id": "b2774951a5d847a1932db2671bb9cf37",
              "version_minor": 0,
              "version_major": 2
            },
            "text/plain": [
              "HBox(children=(FloatProgress(value=0.0), HTML(value='')))"
            ]
          },
          "metadata": {
            "tags": []
          }
        },
        {
          "output_type": "stream",
          "text": [
            "\n"
          ],
          "name": "stdout"
        }
      ]
    },
    {
      "cell_type": "code",
      "metadata": {
        "colab": {
          "base_uri": "https://localhost:8080/",
          "height": 265
        },
        "id": "DnqjWqMV7zTT",
        "outputId": "1be14856-4889-49f0-c536-bb99edd7176b"
      },
      "source": [
        "import matplotlib.pyplot as plt\n",
        "\n",
        "plt.plot(r,f_1_hasans, label = \" F1 question with answer\")\n",
        "plt.plot(r,f_1_noans, label = \"F1 question without answer\")\n",
        "plt.plot(r,exact_hasans, label = \"EM question with answer\")\n",
        "plt.plot(r,exact_noans, label = \"EM question without answer\")\n",
        "plt.legend()\n",
        "plt.show()"
      ],
      "execution_count": null,
      "outputs": [
        {
          "output_type": "display_data",
          "data": {
            "image/png": "[encoded data removed]",
            "text/plain": [
              "<Figure size 432x288 with 1 Axes>"
            ]
          },
          "metadata": {
            "tags": [],
            "needs_background": "light"
          }
        }
      ]
    },
    {
      "cell_type": "markdown",
      "metadata": {
        "id": "yoU8Zd3--UbV"
      },
      "source": [
        "As expected, the score on unanswerable question rise while it diminishes on other questions"
      ]
    },
    {
      "cell_type": "code",
      "metadata": {
        "colab": {
          "base_uri": "https://localhost:8080/",
          "height": 265
        },
        "id": "R2fy-4XKGt8u",
        "outputId": "e2dcc404-bd7c-4487-b6e6-558de0d0d0ee"
      },
      "source": [
        "plt.plot(r,f1_score, label = \"average F1 score\")\n",
        "plt.plot(r,exact_score, label = \"average EM score\")\n",
        "plt.legend()\n",
        "plt.show()"
      ],
      "execution_count": null,
      "outputs": [
        {
          "output_type": "display_data",
          "data": {
            "image/png": "[encoded data removed]",
            "text/plain": [
              "<Figure size 432x288 with 1 Axes>"
            ]
          },
          "metadata": {
            "tags": [],
            "needs_background": "light"
          }
        }
      ]
    },
    {
      "cell_type": "code",
      "metadata": {
        "colab": {
          "base_uri": "https://localhost:8080/",
          "height": 265
        },
        "id": "3uBd5W8YirWj",
        "outputId": "b904aa8c-ad92-4378-cde0-893e217672db"
      },
      "source": [
        "plt.plot(r,f1_score2, label = \"average F1 score\")\n",
        "plt.plot(r,exact_score2, label = \"average EM score\")\n",
        "plt.legend()\n",
        "plt.show()"
      ],
      "execution_count": null,
      "outputs": [
        {
          "output_type": "display_data",
          "data": {
            "image/png": "[encoded data removed]",
            "text/plain": [
              "<Figure size 432x288 with 1 Axes>"
            ]
          },
          "metadata": {
            "tags": [],
            "needs_background": "light"
          }
        }
      ]
    },
    {
      "cell_type": "code",
      "metadata": {
        "colab": {
          "base_uri": "https://localhost:8080/",
          "height": 265
        },
        "id": "x4ocXtj7OGcd",
        "outputId": "683d3c88-67b1-453f-fd5f-43a02d2e0fd0"
      },
      "source": [
        "plt.plot(r,f1_score3, label = \"average F1 score\")\n",
        "plt.plot(r,exact_score3, label = \"average EM score\")\n",
        "plt.legend()\n",
        "plt.show()"
      ],
      "execution_count": null,
      "outputs": [
        {
          "output_type": "display_data",
          "data": {
            "image/png": "[encoded data removed]",
            "text/plain": [
              "<Figure size 432x288 with 1 Axes>"
            ]
          },
          "metadata": {
            "tags": [],
            "needs_background": "light"
          }
        }
      ]
    },
    {
      "cell_type": "markdown",
      "metadata": {
        "id": "pjD6N6Za-rLd"
      },
      "source": [
        "This last plot is particularly interesting as it could make quite a lot of sense to use the model who wasn't trained to detect unanswerable question and decide that if the model is not confident enough in its prediction, the question has no answer. Doing so allow the scores to jump to above 50, which is still not comparable to the model trained to detect unanswerable questions."
      ]
    },
    {
      "cell_type": "code",
      "metadata": {
        "id": "suQ2mEbuNqlO"
      },
      "source": [
        "f1_onlyansq = []\n",
        "em_onlyansq = []\n",
        "f1_all= []\n",
        "em_all = []\n",
        "f1_noans = []\n",
        "em_noans = []\n",
        "total = [0,0,0]\n",
        "for df in dic_df:\n",
        "  em, f1, em_no, f1_no, em_tot, f1_tot = get_raw_scores_sep_nan_tresh(df, 0.8)\n",
        "  \n",
        "  scores = make_eval_dict(em, f1)\n",
        "  f1_onlyansq.append(scores['f1'])\n",
        "  em_onlyansq.append(scores['exact'])\n",
        "  total[0] = scores['total']\n",
        "\n",
        "  scores = make_eval_dict(em_no, f1_no)\n",
        "  f1_noans.append(scores['f1'])\n",
        "  em_noans.append(scores['exact'])\n",
        "  total[1] = scores['total']\n",
        "\n",
        "  scores = make_eval_dict(em_tot, f1_tot)\n",
        "  f1_all.append(scores['f1'])\n",
        "  em_all.append(scores['exact'])\n",
        "  total[2] = scores['total']\n",
        "\n",
        "\n",
        "score_df_tresh = pd.DataFrame({\"f1 on answerable questions\": f1_onlyansq, \"f1 on unanswerable questions\": f1_noans, \"total f1\": f1_all,\n",
        "                         \"EM on answerable questions\": em_onlyansq, \"EM on unanswerable questions\": em_noans, \"total EM\": em_all\n",
        "                         })"
      ],
      "execution_count": 149,
      "outputs": []
    },
    {
      "cell_type": "markdown",
      "metadata": {
        "id": "BvMFNg3-_CAU"
      },
      "source": [
        "With a thresholding of 0.8 we obtain the following scores"
      ]
    },
    {
      "cell_type": "code",
      "metadata": {
        "colab": {
          "base_uri": "https://localhost:8080/",
          "height": 166
        },
        "id": "PjIKtpH1N1Dt",
        "outputId": "25502080-62c1-4089-8ad1-0f4c66eff939"
      },
      "source": [
        "score_df_tresh"
      ],
      "execution_count": 150,
      "outputs": [
        {
          "output_type": "execute_result",
          "data": {
            "text/html": [
              "<div>\n",
              "<style scoped>\n",
              "    .dataframe tbody tr th:only-of-type {\n",
              "        vertical-align: middle;\n",
              "    }\n",
              "\n",
              "    .dataframe tbody tr th {\n",
              "        vertical-align: top;\n",
              "    }\n",
              "\n",
              "    .dataframe thead th {\n",
              "        text-align: right;\n",
              "    }\n",
              "</style>\n",
              "<table border=\"1\" class=\"dataframe\">\n",
              "  <thead>\n",
              "    <tr style=\"text-align: right;\">\n",
              "      <th></th>\n",
              "      <th>f1 on answerable questions</th>\n",
              "      <th>f1 on unanswerable questions</th>\n",
              "      <th>total f1</th>\n",
              "      <th>EM on answerable questions</th>\n",
              "      <th>EM on unanswerable questions</th>\n",
              "      <th>total EM</th>\n",
              "    </tr>\n",
              "  </thead>\n",
              "  <tbody>\n",
              "    <tr>\n",
              "      <th>0</th>\n",
              "      <td>68.036684</td>\n",
              "      <td>70.928668</td>\n",
              "      <td>69.484625</td>\n",
              "      <td>61.707152</td>\n",
              "      <td>70.928668</td>\n",
              "      <td>66.324124</td>\n",
              "    </tr>\n",
              "    <tr>\n",
              "      <th>1</th>\n",
              "      <td>58.181577</td>\n",
              "      <td>79.155451</td>\n",
              "      <td>68.682647</td>\n",
              "      <td>54.183536</td>\n",
              "      <td>79.155451</td>\n",
              "      <td>66.686321</td>\n",
              "    </tr>\n",
              "    <tr>\n",
              "      <th>2</th>\n",
              "      <td>80.031695</td>\n",
              "      <td>12.886945</td>\n",
              "      <td>46.414074</td>\n",
              "      <td>72.267206</td>\n",
              "      <td>12.886945</td>\n",
              "      <td>42.537062</td>\n",
              "    </tr>\n",
              "    <tr>\n",
              "      <th>3</th>\n",
              "      <td>80.978140</td>\n",
              "      <td>10.380215</td>\n",
              "      <td>45.631605</td>\n",
              "      <td>73.228745</td>\n",
              "      <td>10.380215</td>\n",
              "      <td>41.762129</td>\n",
              "    </tr>\n",
              "  </tbody>\n",
              "</table>\n",
              "</div>"
            ],
            "text/plain": [
              "   f1 on answerable questions  ...   total EM\n",
              "0                   68.036684  ...  66.324124\n",
              "1                   58.181577  ...  66.686321\n",
              "2                   80.031695  ...  42.537062\n",
              "3                   80.978140  ...  41.762129\n",
              "\n",
              "[4 rows x 6 columns]"
            ]
          },
          "metadata": {
            "tags": []
          },
          "execution_count": 150
        }
      ]
    },
    {
      "cell_type": "markdown",
      "metadata": {
        "id": "eHLFxKfA6bsB"
      },
      "source": [
        "## Qualitative Analysis"
      ]
    },
    {
      "cell_type": "markdown",
      "metadata": {
        "id": "5Wblsbb4Qeod"
      },
      "source": [
        "Let's rank the questions where our models make erros according to the confidence they have in their answer."
      ]
    },
    {
      "cell_type": "code",
      "metadata": {
        "id": "RJRoj8HNy74k"
      },
      "source": [
        "def errors(data):\n",
        "  em, f1 = get_raw_scores(data)\n",
        "  df = data.loc[data['qid'].map(em) == 0]\n",
        "  df = df.sort_values(by='ans_conf', ascending=True)\n",
        "  df = df.drop_duplicates(subset = ['qid'], keep = 'first')\n",
        "  return df"
      ],
      "execution_count": null,
      "outputs": []
    },
    {
      "cell_type": "code",
      "metadata": {
        "colab": {
          "base_uri": "https://localhost:8080/",
          "height": 66,
          "referenced_widgets": [
            "28c1f13ca20c4d339f8f4ef842f034a9",
            "57192d6086b040a8a3ae6ec67274707c",
            "e8e049486ae24a6b8fa6d5bdd69e6c17",
            "dea386560e0448acba6c529921b9d24e",
            "d3137da9cebc4296912b32098f0c59d7",
            "01aeed0ec02f4b668eeed7386b0bbce1",
            "717d3d5fcf0d40359ed13c1ff385e5ed",
            "86d6b0b40ec544409ff171f39ee10f0f"
          ]
        },
        "id": "eOltHza71fxr",
        "outputId": "cbda8917-dd60-41ef-f8ab-f9184c90e5bc"
      },
      "source": [
        "dat = errors(dic_df[1])"
      ],
      "execution_count": null,
      "outputs": [
        {
          "output_type": "display_data",
          "data": {
            "application/vnd.jupyter.widget-view+json": {
              "model_id": "28c1f13ca20c4d339f8f4ef842f034a9",
              "version_minor": 0,
              "version_major": 2
            },
            "text/plain": [
              "HBox(children=(FloatProgress(value=0.0, max=26247.0), HTML(value='')))"
            ]
          },
          "metadata": {
            "tags": []
          }
        },
        {
          "output_type": "stream",
          "text": [
            "\n"
          ],
          "name": "stdout"
        }
      ]
    },
    {
      "cell_type": "code",
      "metadata": {
        "colab": {
          "base_uri": "https://localhost:8080/",
          "height": 595
        },
        "id": "NZWdIqJS3lcS",
        "outputId": "42279eb0-34ac-4b8a-bab3-50813f9b8a05"
      },
      "source": [
        "dat.head(10)"
      ],
      "execution_count": null,
      "outputs": [
        {
          "output_type": "execute_result",
          "data": {
            "text/html": [
              "<div>\n",
              "<style scoped>\n",
              "    .dataframe tbody tr th:only-of-type {\n",
              "        vertical-align: middle;\n",
              "    }\n",
              "\n",
              "    .dataframe tbody tr th {\n",
              "        vertical-align: top;\n",
              "    }\n",
              "\n",
              "    .dataframe thead th {\n",
              "        text-align: right;\n",
              "    }\n",
              "</style>\n",
              "<table border=\"1\" class=\"dataframe\">\n",
              "  <thead>\n",
              "    <tr style=\"text-align: right;\">\n",
              "      <th></th>\n",
              "      <th>qid</th>\n",
              "      <th>question</th>\n",
              "      <th>ans_conf</th>\n",
              "      <th>no_ans_conf</th>\n",
              "      <th>predicted_answer</th>\n",
              "      <th>real_answer</th>\n",
              "      <th>original_answer</th>\n",
              "    </tr>\n",
              "  </thead>\n",
              "  <tbody>\n",
              "    <tr>\n",
              "      <th>16601</th>\n",
              "      <td>57286f373acd2414000df9dc</td>\n",
              "      <td>What did the Mongol elites wish Buyantu didn't...</td>\n",
              "      <td>0.170371</td>\n",
              "      <td>0.082110</td>\n",
              "      <td>discontent</td>\n",
              "      <td>actively support and adopt mainstream Chinese ...</td>\n",
              "      <td>actively support and adopt mainstream Chinese ...</td>\n",
              "    </tr>\n",
              "    <tr>\n",
              "      <th>13357</th>\n",
              "      <td>5a67a1e3f038b7001ab0c38b</td>\n",
              "      <td>What are boarding schools that teach English c...</td>\n",
              "      <td>0.175479</td>\n",
              "      <td>0.001199</td>\n",
              "      <td>Nepali and/or the state's official language</td>\n",
              "      <td></td>\n",
              "      <td></td>\n",
              "    </tr>\n",
              "    <tr>\n",
              "      <th>16321</th>\n",
              "      <td>5ad3ffb3604f3c001a3ffc93</td>\n",
              "      <td>What is the Japanese name for the Yuan dynasty?</td>\n",
              "      <td>0.181698</td>\n",
              "      <td>0.134367</td>\n",
              "      <td>Kublai Khan, leader of the Mongolian Borjigin ...</td>\n",
              "      <td></td>\n",
              "      <td></td>\n",
              "    </tr>\n",
              "    <tr>\n",
              "      <th>4872</th>\n",
              "      <td>571a52cb4faf5e1900b8a969</td>\n",
              "      <td>______ In both liquid and gas form can fastly ...</td>\n",
              "      <td>0.215043</td>\n",
              "      <td>0.052531</td>\n",
              "      <td>Concentrated O\\n2 will allow combustion to pro...</td>\n",
              "      <td>oxygen</td>\n",
              "      <td>oxygen</td>\n",
              "    </tr>\n",
              "    <tr>\n",
              "      <th>2923</th>\n",
              "      <td>5ad25e99d7d075001a428f2e</td>\n",
              "      <td>In what part of the now US was New France?</td>\n",
              "      <td>0.217083</td>\n",
              "      <td>0.156517</td>\n",
              "      <td>Bushwick</td>\n",
              "      <td></td>\n",
              "      <td></td>\n",
              "    </tr>\n",
              "    <tr>\n",
              "      <th>14650</th>\n",
              "      <td>5729da0faf94a219006aa679</td>\n",
              "      <td>While competition between workers drives down ...</td>\n",
              "      <td>0.255478</td>\n",
              "      <td>0.237307</td>\n",
              "      <td>Professional and labor organizations</td>\n",
              "      <td>employers</td>\n",
              "      <td>employers</td>\n",
              "    </tr>\n",
              "    <tr>\n",
              "      <th>16397</th>\n",
              "      <td>5ad40158604f3c001a3ffd0d</td>\n",
              "      <td>What Han Chinese leader rejected the Mongols?</td>\n",
              "      <td>0.259024</td>\n",
              "      <td>0.016982</td>\n",
              "      <td>Liu Heima (劉黑馬, Liu Ni), and the Khitan Xiao Z...</td>\n",
              "      <td></td>\n",
              "      <td></td>\n",
              "    </tr>\n",
              "    <tr>\n",
              "      <th>4891</th>\n",
              "      <td>571ce9bddd7acb1400e4c1a1</td>\n",
              "      <td>Because of the danger inherent in concentrated...</td>\n",
              "      <td>0.259837</td>\n",
              "      <td>0.028874</td>\n",
              "      <td>ignition sources are minimized</td>\n",
              "      <td>special training to ensure that ignition sourc...</td>\n",
              "      <td>special training to ensure that ignition sourc...</td>\n",
              "    </tr>\n",
              "    <tr>\n",
              "      <th>16396</th>\n",
              "      <td>5ad40158604f3c001a3ffd0c</td>\n",
              "      <td>What Khitan leader rejected the Mongols?</td>\n",
              "      <td>0.260120</td>\n",
              "      <td>0.030029</td>\n",
              "      <td>Shi Tianxiang</td>\n",
              "      <td></td>\n",
              "      <td></td>\n",
              "    </tr>\n",
              "    <tr>\n",
              "      <th>14659</th>\n",
              "      <td>5727ee372ca10214002d99ed</td>\n",
              "      <td>Survivial is at the heart of what concept for ...</td>\n",
              "      <td>0.263809</td>\n",
              "      <td>0.190560</td>\n",
              "      <td>entrepreneurialism</td>\n",
              "      <td>Necessity-based entrepreneurship</td>\n",
              "      <td>Necessity-based entrepreneurship</td>\n",
              "    </tr>\n",
              "  </tbody>\n",
              "</table>\n",
              "</div>"
            ],
            "text/plain": [
              "                            qid  ...                                    original_answer\n",
              "16601  57286f373acd2414000df9dc  ...  actively support and adopt mainstream Chinese ...\n",
              "13357  5a67a1e3f038b7001ab0c38b  ...                                                   \n",
              "16321  5ad3ffb3604f3c001a3ffc93  ...                                                   \n",
              "4872   571a52cb4faf5e1900b8a969  ...                                             oxygen\n",
              "2923   5ad25e99d7d075001a428f2e  ...                                                   \n",
              "14650  5729da0faf94a219006aa679  ...                                          employers\n",
              "16397  5ad40158604f3c001a3ffd0d  ...                                                   \n",
              "4891   571ce9bddd7acb1400e4c1a1  ...  special training to ensure that ignition sourc...\n",
              "16396  5ad40158604f3c001a3ffd0c  ...                                                   \n",
              "14659  5727ee372ca10214002d99ed  ...                   Necessity-based entrepreneurship\n",
              "\n",
              "[10 rows x 7 columns]"
            ]
          },
          "metadata": {
            "tags": []
          },
          "execution_count": 406
        }
      ]
    },
    {
      "cell_type": "markdown",
      "metadata": {
        "id": "w4H2vU_CUYCj"
      },
      "source": [
        "### Trap question without answer"
      ]
    },
    {
      "cell_type": "markdown",
      "metadata": {
        "id": "vJXN-qYyUflf"
      },
      "source": [
        "Among the questions where our models failed but still printed a high confidence scores, a lot of them are actually tricky questions which contains a trap like the question belows. The string \"but failed\" added at the end negates the previous sentence. Our models don't fare very well capturing this subtility."
      ]
    },
    {
      "cell_type": "code",
      "metadata": {
        "colab": {
          "base_uri": "https://localhost:8080/"
        },
        "id": "thk5ztw232yL",
        "outputId": "437c62c7-dc57-4f6e-f194-cf9317ff99dd"
      },
      "source": [
        "val_questions[263], val_contexts[263][226:340]"
      ],
      "execution_count": null,
      "outputs": [
        {
          "output_type": "execute_result",
          "data": {
            "text/plain": [
              "('Who carved out a state for himself from Moorish lands?',\n",
              " ' Roger de Tosny travelled to the Iberian Peninsula to carve out a state for himself from Moorish lands, but failed')"
            ]
          },
          "metadata": {
            "tags": []
          },
          "execution_count": 166
        }
      ]
    },
    {
      "cell_type": "code",
      "metadata": {
        "colab": {
          "base_uri": "https://localhost:8080/"
        },
        "id": "c3qXS61RUJoE",
        "outputId": "cbb50ffc-3ff5-42d5-f285-0d0e1e5cf996"
      },
      "source": [
        "question = val_questions[263]\n",
        "context = val_contexts[263]\n",
        "for model in models:\n",
        "  print(single_prediction(question,context, model[0], cq =model[1]))"
      ],
      "execution_count": null,
      "outputs": [
        {
          "output_type": "stream",
          "text": [
            "('roger de tosny', 1.9995988011360168)\n",
            "('roger de tosny', 1.6906784176826477)\n",
            "('roger de tosny', 1.99739009141922)\n",
            "('roger de tosny', 1.9962456226348877)\n",
            "('roger de tosny', 1.6055883169174194)\n"
          ],
          "name": "stdout"
        }
      ]
    },
    {
      "cell_type": "markdown",
      "metadata": {
        "id": "xfhSinb9V3XD"
      },
      "source": [
        "Another example below. Our models struggle to capture the difference between \"wife\" and \"husband\". It recognize their proximity so that is uses one instead of the other but can't differentiate them well enough."
      ]
    },
    {
      "cell_type": "code",
      "metadata": {
        "colab": {
          "base_uri": "https://localhost:8080/"
        },
        "id": "BrSkUBeV4lnq",
        "outputId": "87fef5f9-7758-4935-cf19-62a6a9523f4e"
      },
      "source": [
        "val_questions[17049],val_contexts[17049][402:553]"
      ],
      "execution_count": null,
      "outputs": [
        {
          "output_type": "execute_result",
          "data": {
            "text/plain": [
              "(\" Who was Ogedei's husband?\",\n",
              " \"The publication of a Taoist text inscribed with the name of Töregene Khatun, Ögedei's wife, is one of the first printed works sponsored by the Mongols.\")"
            ]
          },
          "metadata": {
            "tags": []
          },
          "execution_count": 389
        }
      ]
    },
    {
      "cell_type": "code",
      "metadata": {
        "colab": {
          "base_uri": "https://localhost:8080/"
        },
        "id": "ZWHvrR984N2Q",
        "outputId": "98f4046c-ba1c-46d5-ae8a-011b785e8e47"
      },
      "source": [
        "question = val_questions[17049]\n",
        "context = val_contexts[17049]\n",
        "for model in models:\n",
        "  print(single_prediction(question,context, model[0], cq =model[1]))"
      ],
      "execution_count": null,
      "outputs": [
        {
          "output_type": "stream",
          "text": [
            "('toregene khatun', 1.970371961593628)\n",
            "('toregene khatun', 1.992118239402771)\n",
            "('toregene khatun', 1.9949983954429626)\n",
            "('toregene khatun', 1.9873049855232239)\n",
            "('toregene khatun', 1.9858943819999695)\n"
          ],
          "name": "stdout"
        }
      ]
    },
    {
      "cell_type": "markdown",
      "metadata": {
        "id": "xsjiFF3JZ8ca"
      },
      "source": [
        "### Question with the answer indirectly mentionned"
      ]
    },
    {
      "cell_type": "markdown",
      "metadata": {
        "id": "WaW0IEAna2rB"
      },
      "source": [
        "We also saw quite a few question where the answer was not a direct transformation of a part of the context. In that case \"to the discontent of\" has become \"Wish Buyantu didn't do\". Our models which only handle question with answers have managed to find a correct answer unlike the other models. They seems to perform a little better with this type of question"
      ]
    },
    {
      "cell_type": "code",
      "metadata": {
        "colab": {
          "base_uri": "https://localhost:8080/"
        },
        "id": "Ts14IK1Zakk1",
        "outputId": "ed493327-63c3-451b-823c-f581a0365572"
      },
      "source": [
        "val_questions[16601] , val_contexts[16601][78:231]"
      ],
      "execution_count": null,
      "outputs": [
        {
          "output_type": "execute_result",
          "data": {
            "text/plain": [
              "(\"What did the Mongol elites wish Buyantu didn't do?\",\n",
              " 'He was the first Yuan emperor to actively support and adopt mainstream Chinese culture after the reign of Kublai, to the discontent of some Mongol elite.')"
            ]
          },
          "metadata": {
            "tags": []
          },
          "execution_count": 418
        }
      ]
    },
    {
      "cell_type": "code",
      "metadata": {
        "colab": {
          "base_uri": "https://localhost:8080/"
        },
        "id": "D0Xm-5TlaaT1",
        "outputId": "f1f81f60-a7fd-400f-9c2a-e95c5c905ac2"
      },
      "source": [
        "question = val_questions[16601]\n",
        "context = val_contexts[16601]\n",
        "for model in models:\n",
        "  print(single_prediction(question,context, model[0], cq =model[1]))"
      ],
      "execution_count": null,
      "outputs": [
        {
          "output_type": "stream",
          "text": [
            "('', 0.4369850158691406)\n",
            "('', 0.23008444905281067)\n",
            "('support and adopt mainstream chinese culture', 1.1928627789020538)\n",
            "('actively support and adopt mainstream chinese culture', 1.603739857673645)\n",
            "('', 0.5933842658996582)\n"
          ],
          "name": "stdout"
        }
      ]
    },
    {
      "cell_type": "markdown",
      "metadata": {
        "id": "o3dLD4e9XRFL"
      },
      "source": [
        "### Normal question"
      ]
    },
    {
      "cell_type": "markdown",
      "metadata": {
        "id": "IYNuaYs2YDkK"
      },
      "source": [
        "In this example, the question is quite easy enough to answer. Our models trained to handle questions without answer can't find an answer to this one while the other models handle it just fine. An interesting thing to note is that replacing \"secondary\" by \"second\" gives us a good answer for every models."
      ]
    },
    {
      "cell_type": "code",
      "metadata": {
        "colab": {
          "base_uri": "https://localhost:8080/",
          "height": 35
        },
        "id": "pzGFjOqpXsGI",
        "outputId": "b1544410-2ec5-4092-8da6-22731129d248"
      },
      "source": [
        "val_questions[6953]"
      ],
      "execution_count": null,
      "outputs": [
        {
          "output_type": "execute_result",
          "data": {
            "application/vnd.google.colaboratory.intrinsic+json": {
              "type": "string"
            },
            "text/plain": [
              "'Which entity is the secondary legislative body?'"
            ]
          },
          "metadata": {
            "tags": []
          },
          "execution_count": 393
        }
      ]
    },
    {
      "cell_type": "code",
      "metadata": {
        "colab": {
          "base_uri": "https://localhost:8080/",
          "height": 35
        },
        "id": "uiiALP9wXlb7",
        "outputId": "06568a01-f3eb-4931-deec-f40b5b627d93"
      },
      "source": [
        "val_contexts[6953][:111]"
      ],
      "execution_count": null,
      "outputs": [
        {
          "output_type": "execute_result",
          "data": {
            "application/vnd.google.colaboratory.intrinsic+json": {
              "type": "string"
            },
            "text/plain": [
              "'The second main legislative body is the Council, which is composed of different ministers of the member states.'"
            ]
          },
          "metadata": {
            "tags": []
          },
          "execution_count": 401
        }
      ]
    },
    {
      "cell_type": "code",
      "metadata": {
        "colab": {
          "base_uri": "https://localhost:8080/"
        },
        "id": "cBmSrVbwXwGu",
        "outputId": "77571ed9-5ece-40f8-b5cb-4f7d09bbd94c"
      },
      "source": [
        "question = val_questions[6953]\n",
        "context = val_contexts[6953]\n",
        "for model in models:\n",
        "  print(single_prediction(question,context, model[0], cq =model[1]))"
      ],
      "execution_count": null,
      "outputs": [
        {
          "output_type": "stream",
          "text": [
            "('', 1.9642506837844849)\n",
            "('', 1.9960386157035828)\n",
            "('the council', 1.8274518251419067)\n",
            "('the council', 1.6233164072036743)\n",
            "('', 1.990738570690155)\n"
          ],
          "name": "stdout"
        }
      ]
    },
    {
      "cell_type": "code",
      "metadata": {
        "colab": {
          "base_uri": "https://localhost:8080/"
        },
        "id": "AbfL9k1CXalT",
        "outputId": "40140b9b-beb6-4db9-a148-148fee9794b7"
      },
      "source": [
        "question = \"which entity is the second legislative body ?\"\n",
        "context = val_contexts[6953]\n",
        "for model in models:\n",
        "  print(single_prediction(question,context, model[0], cq =model[1]))"
      ],
      "execution_count": null,
      "outputs": [
        {
          "output_type": "stream",
          "text": [
            "('the council', 1.976470947265625)\n",
            "('the council', 1.8888619542121887)\n",
            "('the council', 1.8890212178230286)\n",
            "('the council', 1.7377405166625977)\n",
            "('the council', 1.4543826580047607)\n"
          ],
          "name": "stdout"
        }
      ]
    },
    {
      "cell_type": "markdown",
      "metadata": {
        "id": "9ZwRkZDcc06w"
      },
      "source": [
        "### Bad questions\n",
        "\n",
        "Sometime, the questions are simply badly formulated and the answers don't make that much sense:"
      ]
    },
    {
      "cell_type": "code",
      "metadata": {
        "colab": {
          "base_uri": "https://localhost:8080/",
          "height": 35
        },
        "id": "OmtUnsxzdOHw",
        "outputId": "9fc59f40-93b9-4636-b87d-f00babc2968a"
      },
      "source": [
        "val_questions[4891]"
      ],
      "execution_count": null,
      "outputs": [
        {
          "output_type": "execute_result",
          "data": {
            "application/vnd.google.colaboratory.intrinsic+json": {
              "type": "string"
            },
            "text/plain": [
              "'Because of the danger inherent in concentrated oxygen, what is a concern about keeping it?'"
            ]
          },
          "metadata": {
            "tags": []
          },
          "execution_count": 421
        }
      ]
    },
    {
      "cell_type": "code",
      "metadata": {
        "colab": {
          "base_uri": "https://localhost:8080/",
          "height": 86
        },
        "id": "F8cTlOawdUdc",
        "outputId": "0b2c6acf-058f-4fe0-a8c3-265a7bcfb08c"
      },
      "source": [
        "val_contexts[4891]"
      ],
      "execution_count": null,
      "outputs": [
        {
          "output_type": "execute_result",
          "data": {
            "application/vnd.google.colaboratory.intrinsic+json": {
              "type": "string"
            },
            "text/plain": [
              "'Concentrated O\\n2 will allow combustion to proceed rapidly and energetically. Steel pipes and storage vessels used to store and transmit both gaseous and liquid oxygen will act as a fuel; and therefore the design and manufacture of O\\n2 systems requires special training to ensure that ignition sources are minimized. The fire that killed the Apollo 1 crew in a launch pad test spread so rapidly because the capsule was pressurized with pure O\\n2 but at slightly more than atmospheric pressure, instead of the 1⁄3 normal pressure that would be used in a mission.[k]'"
            ]
          },
          "metadata": {
            "tags": []
          },
          "execution_count": 422
        }
      ]
    },
    {
      "cell_type": "code",
      "metadata": {
        "colab": {
          "base_uri": "https://localhost:8080/"
        },
        "id": "Vo4KvrwgdaAE",
        "outputId": "3dc3da6f-6126-4efe-833a-09c46c05380b"
      },
      "source": [
        "val_answers[4891]"
      ],
      "execution_count": null,
      "outputs": [
        {
          "output_type": "execute_result",
          "data": {
            "text/plain": [
              "{'answer_end': 314,\n",
              " 'answer_start': 252,\n",
              " 'text': 'special training to ensure that ignition sources are minimized'}"
            ]
          },
          "metadata": {
            "tags": []
          },
          "execution_count": 423
        }
      ]
    },
    {
      "cell_type": "code",
      "metadata": {
        "colab": {
          "base_uri": "https://localhost:8080/"
        },
        "id": "KjrD00BBdOco",
        "outputId": "117bd94e-2279-4290-9215-04b4362cd4ce"
      },
      "source": [
        "question = val_questions[4891]\n",
        "context = val_contexts[4891]\n",
        "for model in models:\n",
        "  print(single_prediction(question,context, model[0], cq =model[1]))"
      ],
      "execution_count": null,
      "outputs": [
        {
          "output_type": "stream",
          "text": [
            "('ignition sources are minimized', 1.023759126663208)\n",
            "('', 0.2607700452208519)\n",
            "('ignition sources are minimized', 1.2969841659069061)\n",
            "('', 0.6422334760427475)\n",
            "('', 0.4497601389884949)\n"
          ],
          "name": "stdout"
        }
      ]
    },
    {
      "cell_type": "markdown",
      "metadata": {
        "id": "2HBpJHlCdfKg"
      },
      "source": [
        "### Long questions"
      ]
    },
    {
      "cell_type": "markdown",
      "metadata": {
        "id": "aM7es27pdiaT"
      },
      "source": [
        "One of our interogations was how our model handle long paragraphs. We tested our models on the 20% longest contexts"
      ]
    },
    {
      "cell_type": "code",
      "metadata": {
        "colab": {
          "base_uri": "https://localhost:8080/"
        },
        "id": "F4vAeQ77duqv",
        "outputId": "00069d95-a55e-4e26-b982-36f7443066d7"
      },
      "source": [
        "len([len(k) for k in val_contexts if len(k) > 1000]) / len(val_contexts)"
      ],
      "execution_count": null,
      "outputs": [
        {
          "output_type": "execute_result",
          "data": {
            "text/plain": [
              "0.20383281898883682"
            ]
          },
          "metadata": {
            "tags": []
          },
          "execution_count": 424
        }
      ]
    },
    {
      "cell_type": "code",
      "metadata": {
        "colab": {
          "base_uri": "https://localhost:8080/",
          "height": 261,
          "referenced_widgets": [
            "1683ea17f0fd4130894320a012a81cd1",
            "aaafeac56b924934a21e36dc8f3f87de",
            "ddfe514f1e7040a89dce4d96df3c864a",
            "6d920ecf23924e75821b63658846e923",
            "c5bd19e15fd044d79272c3502b048cdc",
            "158f944ad7b64710a7d979101691d5b4",
            "97963e311b6747c6bd8e20ebcd4d3d06",
            "dff8918dd665402da960c7436ccdf4e7",
            "7a5baf422eb749acb793b4d8836b50b8",
            "82254b606da64951aa3b0986d523c664",
            "9390f31c6f6444c790aaec767cf4a8ec",
            "7fab57d185854bd2b87fb8aac9dd647b",
            "3c54f42aa38c44b58a27672f6b602d12",
            "c7fa024c3b054df2bdd914796b3869e0",
            "8426eab767f341b2bab11a888be4ee70",
            "691699506c1d450cb906eb9ad1093b9b",
            "17760988c36a4a93a4bcfbd33036ff04",
            "e0115efa07fe4ca193495b5096f24315",
            "d0b3877659fa41628fbee84388fb443a",
            "83738f0c61564991b1344be360c0fc44",
            "63751490e09643f3ba88ac404109fcf3",
            "5b230f53c489421bb1515dd3a0cf4006",
            "c7791b3bbd6e425a987dc3e7a1af9322",
            "dba0d1a3a34045c7a5432ef60f46b7a6",
            "9500227931f74483ba18d8d6da22968b",
            "9bcdea4adbbc4288b7aa711356b4a0fb",
            "8665afad1627483d9dfebbd47749039d",
            "482e421e5c4b4550ba04328cd9b46ad2",
            "6bb427d2df264fb4a6751a2ac559396f",
            "8895f3bbe317481582dbd32d4cb39753",
            "53cfb6c4389f4c65aa874cd17da8d8da",
            "2e196fbe6cdf4c22aeabe5d125f49df3",
            "7e05e88d5e104e7bae9f60d1c171a42a",
            "90bb0ab9da0747b4b6045f05d82ba0b2",
            "049efa0c7de144b3871403480a1a8e40",
            "90f55bcac22b43c9a878f5c1a05969ac",
            "1367cc66942e4b7b92fbec86654a0e62",
            "a1f6be4ecd194214bfa9da0c77b8e8ca",
            "1157a8b1be2f460490e847f9b6300c4e",
            "80797ab07a8842498989ac8d946ce956"
          ]
        },
        "id": "vfsDpkFhdeCI",
        "outputId": "eca87205-6514-4661-8048-8909b6d06845"
      },
      "source": [
        "f1_onlyansq = []\n",
        "em_onlyansq = []\n",
        "f1_all= []\n",
        "em_all = []\n",
        "f1_noans = []\n",
        "em_noans = []\n",
        "total = [0,0,0]\n",
        "for df in dic_df:\n",
        "  em, f1, em_no, f1_no, em_tot, f1_tot = get_raw_scores_sep(df, min_len = 1000)\n",
        "  \n",
        "  scores = make_eval_dict(em, f1)\n",
        "  f1_onlyansq.append(scores['f1'])\n",
        "  em_onlyansq.append(scores['exact'])\n",
        "  total[0] = scores['total']\n",
        "\n",
        "  scores = make_eval_dict(em_no, f1_no)\n",
        "  f1_noans.append(scores['f1'])\n",
        "  em_noans.append(scores['exact'])\n",
        "  total[1] = scores['total']\n",
        "\n",
        "  scores = make_eval_dict(em_tot, f1_tot)\n",
        "  f1_all.append(scores['f1'])\n",
        "  em_all.append(scores['exact'])\n",
        "  total[2] = scores['total']\n",
        "\n",
        "\n",
        "score_df_len = pd.DataFrame({\"f1 on answerable questions\": f1_onlyansq, \"f1 on unanswerable questions\": f1_noans, \"total f1\": f1_all,\n",
        "                         \"EM on answerable questions\": em_onlyansq, \"EM on unanswerable questions\": em_noans, \"total EM\": em_all\n",
        "                         })"
      ],
      "execution_count": null,
      "outputs": [
        {
          "output_type": "display_data",
          "data": {
            "application/vnd.jupyter.widget-view+json": {
              "model_id": "1683ea17f0fd4130894320a012a81cd1",
              "version_minor": 0,
              "version_major": 2
            },
            "text/plain": [
              "HBox(children=(FloatProgress(value=0.0, max=26247.0), HTML(value='')))"
            ]
          },
          "metadata": {
            "tags": []
          }
        },
        {
          "output_type": "stream",
          "text": [
            "\n"
          ],
          "name": "stdout"
        },
        {
          "output_type": "display_data",
          "data": {
            "application/vnd.jupyter.widget-view+json": {
              "model_id": "7a5baf422eb749acb793b4d8836b50b8",
              "version_minor": 0,
              "version_major": 2
            },
            "text/plain": [
              "HBox(children=(FloatProgress(value=0.0, max=26247.0), HTML(value='')))"
            ]
          },
          "metadata": {
            "tags": []
          }
        },
        {
          "output_type": "stream",
          "text": [
            "\n"
          ],
          "name": "stdout"
        },
        {
          "output_type": "display_data",
          "data": {
            "application/vnd.jupyter.widget-view+json": {
              "model_id": "17760988c36a4a93a4bcfbd33036ff04",
              "version_minor": 0,
              "version_major": 2
            },
            "text/plain": [
              "HBox(children=(FloatProgress(value=0.0, max=26247.0), HTML(value='')))"
            ]
          },
          "metadata": {
            "tags": []
          }
        },
        {
          "output_type": "stream",
          "text": [
            "\n"
          ],
          "name": "stdout"
        },
        {
          "output_type": "display_data",
          "data": {
            "application/vnd.jupyter.widget-view+json": {
              "model_id": "9500227931f74483ba18d8d6da22968b",
              "version_minor": 0,
              "version_major": 2
            },
            "text/plain": [
              "HBox(children=(FloatProgress(value=0.0, max=26247.0), HTML(value='')))"
            ]
          },
          "metadata": {
            "tags": []
          }
        },
        {
          "output_type": "stream",
          "text": [
            "\n"
          ],
          "name": "stdout"
        },
        {
          "output_type": "display_data",
          "data": {
            "application/vnd.jupyter.widget-view+json": {
              "model_id": "7e05e88d5e104e7bae9f60d1c171a42a",
              "version_minor": 0,
              "version_major": 2
            },
            "text/plain": [
              "HBox(children=(FloatProgress(value=0.0, max=26247.0), HTML(value='')))"
            ]
          },
          "metadata": {
            "tags": []
          }
        },
        {
          "output_type": "stream",
          "text": [
            "\n"
          ],
          "name": "stdout"
        }
      ]
    },
    {
      "cell_type": "code",
      "metadata": {
        "colab": {
          "base_uri": "https://localhost:8080/",
          "height": 195
        },
        "id": "tMtnN-VIKrDn",
        "outputId": "7145f0a7-05b9-4a25-c755-49981819f954"
      },
      "source": [
        "score_df_len"
      ],
      "execution_count": null,
      "outputs": [
        {
          "output_type": "execute_result",
          "data": {
            "text/html": [
              "<div>\n",
              "<style scoped>\n",
              "    .dataframe tbody tr th:only-of-type {\n",
              "        vertical-align: middle;\n",
              "    }\n",
              "\n",
              "    .dataframe tbody tr th {\n",
              "        vertical-align: top;\n",
              "    }\n",
              "\n",
              "    .dataframe thead th {\n",
              "        text-align: right;\n",
              "    }\n",
              "</style>\n",
              "<table border=\"1\" class=\"dataframe\">\n",
              "  <thead>\n",
              "    <tr style=\"text-align: right;\">\n",
              "      <th></th>\n",
              "      <th>f1 on answerable questions</th>\n",
              "      <th>f1 on unanswerable questions</th>\n",
              "      <th>total f1</th>\n",
              "      <th>EM on answerable questions</th>\n",
              "      <th>EM on unanswerable questions</th>\n",
              "      <th>total EM</th>\n",
              "    </tr>\n",
              "  </thead>\n",
              "  <tbody>\n",
              "    <tr>\n",
              "      <th>0</th>\n",
              "      <td>73.366319</td>\n",
              "      <td>62.607204</td>\n",
              "      <td>68.099682</td>\n",
              "      <td>65.789474</td>\n",
              "      <td>62.607204</td>\n",
              "      <td>64.231738</td>\n",
              "    </tr>\n",
              "    <tr>\n",
              "      <th>1</th>\n",
              "      <td>69.613717</td>\n",
              "      <td>67.066895</td>\n",
              "      <td>68.367036</td>\n",
              "      <td>63.569079</td>\n",
              "      <td>67.066895</td>\n",
              "      <td>65.281276</td>\n",
              "    </tr>\n",
              "    <tr>\n",
              "      <th>2</th>\n",
              "      <td>82.134103</td>\n",
              "      <td>0.000000</td>\n",
              "      <td>41.929080</td>\n",
              "      <td>72.615132</td>\n",
              "      <td>0.000000</td>\n",
              "      <td>37.069689</td>\n",
              "    </tr>\n",
              "    <tr>\n",
              "      <th>3</th>\n",
              "      <td>82.684572</td>\n",
              "      <td>0.000000</td>\n",
              "      <td>42.210092</td>\n",
              "      <td>73.273026</td>\n",
              "      <td>0.000000</td>\n",
              "      <td>37.405542</td>\n",
              "    </tr>\n",
              "    <tr>\n",
              "      <th>4</th>\n",
              "      <td>73.380808</td>\n",
              "      <td>63.893654</td>\n",
              "      <td>68.736802</td>\n",
              "      <td>65.378289</td>\n",
              "      <td>63.893654</td>\n",
              "      <td>64.651553</td>\n",
              "    </tr>\n",
              "  </tbody>\n",
              "</table>\n",
              "</div>"
            ],
            "text/plain": [
              "   f1 on answerable questions  ...   total EM\n",
              "0                   73.366319  ...  64.231738\n",
              "1                   69.613717  ...  65.281276\n",
              "2                   82.134103  ...  37.069689\n",
              "3                   82.684572  ...  37.405542\n",
              "4                   73.380808  ...  64.651553\n",
              "\n",
              "[5 rows x 6 columns]"
            ]
          },
          "metadata": {
            "tags": []
          },
          "execution_count": 426
        }
      ]
    },
    {
      "cell_type": "markdown",
      "metadata": {
        "id": "o4vJlNqSd_-9"
      },
      "source": [
        "We lose 0.5-1 points in every score. Which is not really statistically revelant. Thus we can't say that our model have problems handling longer contexts (as long as it is within the 512 tokens range)"
      ]
    },
    {
      "cell_type": "markdown",
      "metadata": {
        "id": "ypPAKWSH--Jl"
      },
      "source": [
        "# Wikipedia api\n",
        "\n"
      ]
    },
    {
      "cell_type": "markdown",
      "metadata": {
        "id": "Z3ufM6TgmUOY"
      },
      "source": [
        "## Model"
      ]
    },
    {
      "cell_type": "code",
      "metadata": {
        "colab": {
          "base_uri": "https://localhost:8080/"
        },
        "id": "yw6aNehBCHvj",
        "outputId": "8b6bbaf5-cee6-4373-a527-676af8eeee87"
      },
      "source": [
        "!pip install wikipedia"
      ],
      "execution_count": 20,
      "outputs": [
        {
          "output_type": "stream",
          "text": [
            "Collecting wikipedia\n",
            "  Downloading https://files.pythonhosted.org/packages/67/35/25e68fbc99e672127cc6fbb14b8ec1ba3dfef035bf1e4c90f78f24a80b7d/wikipedia-1.4.0.tar.gz\n",
            "Requirement already satisfied: beautifulsoup4 in /usr/local/lib/python3.7/dist-packages (from wikipedia) (4.6.3)\n",
            "Requirement already satisfied: requests<3.0.0,>=2.0.0 in /usr/local/lib/python3.7/dist-packages (from wikipedia) (2.23.0)\n",
            "Requirement already satisfied: chardet<4,>=3.0.2 in /usr/local/lib/python3.7/dist-packages (from requests<3.0.0,>=2.0.0->wikipedia) (3.0.4)\n",
            "Requirement already satisfied: certifi>=2017.4.17 in /usr/local/lib/python3.7/dist-packages (from requests<3.0.0,>=2.0.0->wikipedia) (2020.12.5)\n",
            "Requirement already satisfied: idna<3,>=2.5 in /usr/local/lib/python3.7/dist-packages (from requests<3.0.0,>=2.0.0->wikipedia) (2.10)\n",
            "Requirement already satisfied: urllib3!=1.25.0,!=1.25.1,<1.26,>=1.21.1 in /usr/local/lib/python3.7/dist-packages (from requests<3.0.0,>=2.0.0->wikipedia) (1.24.3)\n",
            "Building wheels for collected packages: wikipedia\n",
            "  Building wheel for wikipedia (setup.py) ... \u001b[?25l\u001b[?25hdone\n",
            "  Created wheel for wikipedia: filename=wikipedia-1.4.0-cp37-none-any.whl size=11686 sha256=04b6b915a12433f45c895118aa742beb5d2ba7ebf1baaf00572c310ab94e3dca\n",
            "  Stored in directory: /root/.cache/pip/wheels/87/2a/18/4e471fd96d12114d16fe4a446d00c3b38fb9efcb744bd31f4a\n",
            "Successfully built wikipedia\n",
            "Installing collected packages: wikipedia\n",
            "Successfully installed wikipedia-1.4.0\n"
          ],
          "name": "stdout"
        }
      ]
    },
    {
      "cell_type": "markdown",
      "metadata": {
        "id": "H-9UnrmkiSv7"
      },
      "source": [
        "We can see an example of wikipedia API:"
      ]
    },
    {
      "cell_type": "code",
      "metadata": {
        "colab": {
          "base_uri": "https://localhost:8080/"
        },
        "id": "wHptUJqQHo-j",
        "outputId": "fca195e3-f275-435d-ffd8-6843fe2974a6"
      },
      "source": [
        "import wikipedia\n",
        "\n",
        "sch = wikipedia.search(\"How many death did katrina cause ?\", results = 5)\n",
        "sch"
      ],
      "execution_count": 21,
      "outputs": [
        {
          "output_type": "execute_result",
          "data": {
            "text/plain": [
              "['Hurricane Katrina',\n",
              " 'Effects of Hurricane Katrina in New Orleans',\n",
              " 'Death Race 3: Inferno',\n",
              " 'Memorial Medical Center and Hurricane Katrina',\n",
              " 'Death of Tina Fontaine']"
            ]
          },
          "metadata": {
            "tags": []
          },
          "execution_count": 21
        }
      ]
    },
    {
      "cell_type": "code",
      "metadata": {
        "id": "AsjEI13SMgc7"
      },
      "source": [
        "from numpy.random import choice\n",
        "\n",
        "def prediction_onlyq(question, model, cq, hard_t = 2,  n = 5, min_len = 300, tau = 0.8):\n",
        "  sch = wikipedia.search(question, results = n)\n",
        "  answers = []\n",
        "  conf = []\n",
        "  cont = []\n",
        "  if sch == []:\n",
        "    return [], [], []\n",
        "  for k in range(len(sch)):\n",
        "    try: #Some wikipedia pages are bugged and don't load. If this happens we skip them\n",
        "      ktr = wikipedia.page(sch[k])\n",
        "      a = ktr.content.split('\\n')\n",
        "      for context in a:\n",
        "        ans, c = single_prediction(question,context, model, tau, cq)\n",
        "        if ans != '' and c < hard_t and len(context) > min_len:\n",
        "          answers.append(ans)\n",
        "          conf.append(c)\n",
        "          cont.append(context)\n",
        "    except wikipedia.PageError:\n",
        "      print('Error at page', k)\n",
        "    except wikipedia.DisambiguationError as e: #If this error occurs we select a random page\n",
        "      s = choice(e.options)\n",
        "      ktr = wikipedia.page(s)    \n",
        "      a = ktr.content.split('\\n')\n",
        "      for context in a:\n",
        "        ans, c = single_prediction(question,context, model, tau, cq)\n",
        "        if ans != '' and c < hard_t and len(context) > min_len:\n",
        "          answers.append(ans)\n",
        "          conf.append(c)\n",
        "          cont.append(context)\n",
        "  top_5_idx = np.flip(np.argsort(conf)[-5:])\n",
        "\n",
        "  top_5_values = [answers[i] for i in top_5_idx]\n",
        "  top_5_cont = [cont[i] for i in top_5_idx]\n",
        "  top_5_conf = [conf[i] for i in top_5_idx]\n",
        "\n",
        "\n",
        "  return top_5_values, top_5_conf, top_5_cont"
      ],
      "execution_count": 23,
      "outputs": []
    },
    {
      "cell_type": "markdown",
      "metadata": {
        "id": "TY5_NOKK_p-q"
      },
      "source": [
        "## Test"
      ]
    },
    {
      "cell_type": "code",
      "metadata": {
        "id": "-1dTsX_-icqS"
      },
      "source": [
        "question = \"What does NLP stand for ?\""
      ],
      "execution_count": 24,
      "outputs": []
    },
    {
      "cell_type": "code",
      "metadata": {
        "colab": {
          "base_uri": "https://localhost:8080/"
        },
        "id": "HqfM8Ph-PLPL",
        "outputId": "380e4671-d8d3-4d1a-ac68-a865e43d77e7"
      },
      "source": [
        "answers, conf, cont = prediction_onlyq(question, models[1][0], models[1][1], n =5)"
      ],
      "execution_count": 26,
      "outputs": [
        {
          "output_type": "stream",
          "text": [
            "Error at page 3\n",
            "Error at page 4\n"
          ],
          "name": "stdout"
        }
      ]
    },
    {
      "cell_type": "code",
      "metadata": {
        "colab": {
          "base_uri": "https://localhost:8080/"
        },
        "id": "7o6qKUe5Py15",
        "outputId": "3af4d9d7-e6c8-43a8-cbef-959372d372ca"
      },
      "source": [
        "answers"
      ],
      "execution_count": 27,
      "outputs": [
        {
          "output_type": "execute_result",
          "data": {
            "text/plain": [
              "['natural - language programming',\n",
              " 'neuro - linguistic programming',\n",
              " 'natural language processing',\n",
              " 'neuro - linguistic programming',\n",
              " 'strategy']"
            ]
          },
          "metadata": {
            "tags": []
          },
          "execution_count": 27
        }
      ]
    },
    {
      "cell_type": "code",
      "metadata": {
        "colab": {
          "base_uri": "https://localhost:8080/"
        },
        "id": "m1Yy27FVADlE",
        "outputId": "bc2a8818-d84c-4d01-ec98-f73dc3b62530"
      },
      "source": [
        "answers, conf, cont = prediction_onlyq(question, models[2][0], models[2][1], n =5)\n",
        "answers"
      ],
      "execution_count": 28,
      "outputs": [
        {
          "output_type": "stream",
          "text": [
            "Error at page 3\n",
            "Error at page 4\n"
          ],
          "name": "stdout"
        },
        {
          "output_type": "execute_result",
          "data": {
            "text/plain": [
              "['natural - language programming',\n",
              " 'neuro - linguistic programming',\n",
              " 'natural language processing',\n",
              " 'resume parsers',\n",
              " 'strategy']"
            ]
          },
          "metadata": {
            "tags": []
          },
          "execution_count": 28
        }
      ]
    },
    {
      "cell_type": "markdown",
      "metadata": {
        "id": "dMnSuq0XmNZo"
      },
      "source": [
        "## Evaluation"
      ]
    },
    {
      "cell_type": "markdown",
      "metadata": {
        "id": "w2Z124S1AaDp"
      },
      "source": [
        "Unfortunately it is quite hard to obtain a proper metric evaluation as the wikipedia API is not optimized for this kind of tasks and the model takes simply too much time to run on any sample statisticaly big enough. By tinkering around the model we still found some interesting observation"
      ]
    },
    {
      "cell_type": "markdown",
      "metadata": {
        "id": "wLKbgziFBptE"
      },
      "source": [
        "### Questions with numerical query "
      ]
    },
    {
      "cell_type": "code",
      "metadata": {
        "id": "8N1qKo0GjZdK",
        "colab": {
          "base_uri": "https://localhost:8080/"
        },
        "outputId": "d1b9e9f5-9c2e-4d69-9a81-daa77f71cda3"
      },
      "source": [
        "question = \"How many people live in France ?\"\n",
        "answers, conf, cont = prediction_onlyq(question, models[1][0], models[1][1], n =5)"
      ],
      "execution_count": 34,
      "outputs": [
        {
          "output_type": "stream",
          "text": [
            "Error at page 4\n"
          ],
          "name": "stdout"
        }
      ]
    },
    {
      "cell_type": "code",
      "metadata": {
        "id": "-AjHndpdCtG6",
        "colab": {
          "base_uri": "https://localhost:8080/"
        },
        "outputId": "6a11123a-e3ed-40d4-cadc-268a699e34c3"
      },
      "source": [
        "answers"
      ],
      "execution_count": 35,
      "outputs": [
        {
          "output_type": "execute_result",
          "data": {
            "text/plain": [
              "['67. 4 million',\n",
              " '800, 000',\n",
              " '3 million',\n",
              " 'more than one quarter',\n",
              " '3. 5 million']"
            ]
          },
          "metadata": {
            "tags": []
          },
          "execution_count": 35
        }
      ]
    },
    {
      "cell_type": "code",
      "metadata": {
        "id": "oTXquCOvC6wf",
        "colab": {
          "base_uri": "https://localhost:8080/",
          "height": 137
        },
        "outputId": "ef6704bb-7b98-429f-d412-5d563f770927"
      },
      "source": [
        "cont[0]"
      ],
      "execution_count": 36,
      "outputs": [
        {
          "output_type": "execute_result",
          "data": {
            "application/vnd.google.colaboratory.intrinsic+json": {
              "type": "string"
            },
            "text/plain": [
              "'The demography of France is monitored by the Institut national d\\'études démographiques (INED) and the Institut national de la statistique et des études économiques (INSEE). As of 1 January 2021, 67.4 million people lived in France, including the 13 metropolitan regions (65,249,843), which is mainland France located in Europe and the 5 overseas regions (2,172,398), but excluding the overseas collectivities and territories (604,000).In March 2017, the population of France officially reached the 67,000,000 mark. It had reached 66,000,000 in early 2014. Between the years 2010–17, the population of France grew from 64,613,000 to 66,991,000 (i.e. about 2.4 million people in a span of 7 years), making France one of the fastest-growing countries in Europe. The population of France is growing by 1,000,000 people every three years- an average annual increase of 340,000 people, or +0.6%.France was historically Europe\\'s most populous country. During the Middle Ages, more than one-quarter of Europe\\'s total population was French; by the seventeenth century, this had decreased slightly to one-fifth. By the beginning of the twentieth century, other European countries, such as Germany and Russia, had caught up with France and overtaken it in number of people. However, the country\\'s population sharply increased with the baby boom following World War II. According to INSEE, since 2004, 200,000 immigrants entered the country annually. One out of two was born in Europe and one in three in Africa. Between 2009–2012, the number of Europeans entering France increased sharply (plus 12% per year on average).The national birth rate, after dropping for a time, began to rebound in the 1990s and currently the country\\'s fertility rate is close to the replacement level. According to a 2006 INSEE study, \"the natural increase is close to 300,000 people, a level that has not been reached in more than thirty years.\" With a total fertility rate of 1.84 in 2019, France however remains the most fertile country in the European Union.Among the 802,000 babies born in metropolitan France in 2010, 80.1% had two French parents, 13.3% had one French parent, and 6.6% had two non-French parents. For the same year, 27.3% of newborns in metropolitan France had at least one foreign-born parent and 23.9% had at least one parent born outside of Europe (parents born in overseas territories are considered as being born in France).Between 2006–08, about 22% of newborns in France had at least one foreign-born grandparent (9% born in another European country, 8% born in the Maghreb and 2% born in another region of the world). Censuses on race and ethnic origin were banned by the French Government in 1978.'"
            ]
          },
          "metadata": {
            "tags": []
          },
          "execution_count": 36
        }
      ]
    },
    {
      "cell_type": "code",
      "metadata": {
        "colab": {
          "base_uri": "https://localhost:8080/"
        },
        "id": "V0yORSt2BWdo",
        "outputId": "d65b5b4b-db7f-40be-d56a-f66f72c5683f"
      },
      "source": [
        "answers, conf, cont = prediction_onlyq(question, models[2][0], models[2][1], n =5)"
      ],
      "execution_count": 39,
      "outputs": [
        {
          "output_type": "stream",
          "text": [
            "Error at page 4\n"
          ],
          "name": "stdout"
        }
      ]
    },
    {
      "cell_type": "code",
      "metadata": {
        "colab": {
          "base_uri": "https://localhost:8080/"
        },
        "id": "5ZXCfJpXBa9V",
        "outputId": "afe9b188-02b9-48d8-dc6d-60336b4b59ec"
      },
      "source": [
        "answers"
      ],
      "execution_count": 40,
      "outputs": [
        {
          "output_type": "execute_result",
          "data": {
            "text/plain": [
              "['800, 000', 'how many', '38 %', '65, 000', '5, 000']"
            ]
          },
          "metadata": {
            "tags": []
          },
          "execution_count": 40
        }
      ]
    },
    {
      "cell_type": "code",
      "metadata": {
        "colab": {
          "base_uri": "https://localhost:8080/",
          "height": 86
        },
        "id": "B_Qe3o0mBnon",
        "outputId": "6efd5dc4-f683-45d2-ecd6-ac80e36cecf3"
      },
      "source": [
        "cont[0]"
      ],
      "execution_count": 41,
      "outputs": [
        {
          "output_type": "execute_result",
          "data": {
            "application/vnd.google.colaboratory.intrinsic+json": {
              "type": "string"
            },
            "text/plain": [
              "'The following table shows immigrants and second-generation immigrants by origin as of 2008 according to a study published by Insee in 2012. Third-generation immigrants, illegal immigrants, as well as ethnic minorities like black people from the French overseas territories residing in metropolitan France (800,000), Roms (500,000) or people born in Maghreb with French citizenship at birth (1 million Maghrebi Jews, Harkis and Pied-Noir) and their descendants, who are French by birth and not considered as immigrants or immigrant descendants, are not taken into account.'"
            ]
          },
          "metadata": {
            "tags": []
          },
          "execution_count": 41
        }
      ]
    },
    {
      "cell_type": "code",
      "metadata": {
        "colab": {
          "base_uri": "https://localhost:8080/"
        },
        "id": "U8Ug22-uB7pq",
        "outputId": "821121e0-b502-419a-c1a3-86fa131d1f4b"
      },
      "source": [
        "conf[0]"
      ],
      "execution_count": 42,
      "outputs": [
        {
          "output_type": "execute_result",
          "data": {
            "text/plain": [
              "1.9146150350570679"
            ]
          },
          "metadata": {
            "tags": []
          },
          "execution_count": 42
        }
      ]
    },
    {
      "cell_type": "markdown",
      "metadata": {
        "id": "J8UbZommBx3k"
      },
      "source": [
        "Our first two models answer this kind of question better than the other 2 who display a very high confidence score"
      ]
    },
    {
      "cell_type": "code",
      "metadata": {
        "colab": {
          "base_uri": "https://localhost:8080/"
        },
        "id": "xqoLqDytDkfY",
        "outputId": "53431578-1af2-45e5-f70e-95b48ec42d36"
      },
      "source": [
        "question = \"How many people died in WW2 ?\"\n",
        "answers, conf, cont = prediction_onlyq(question, models[2][0], models[2][1], n =5)"
      ],
      "execution_count": 61,
      "outputs": [
        {
          "output_type": "stream",
          "text": [
            "Error at page 0\n"
          ],
          "name": "stdout"
        }
      ]
    },
    {
      "cell_type": "code",
      "metadata": {
        "colab": {
          "base_uri": "https://localhost:8080/"
        },
        "id": "3izW9RVXFNHm",
        "outputId": "68fa898e-7a0f-447a-816a-857bd9bb911b"
      },
      "source": [
        "answers"
      ],
      "execution_count": 68,
      "outputs": [
        {
          "output_type": "execute_result",
          "data": {
            "text/plain": [
              "['tens of millions',\n",
              " 'tens of thousands',\n",
              " 'tens or hundreds of thousands',\n",
              " '2020',\n",
              " 'four']"
            ]
          },
          "metadata": {
            "tags": []
          },
          "execution_count": 68
        }
      ]
    },
    {
      "cell_type": "code",
      "metadata": {
        "colab": {
          "base_uri": "https://localhost:8080/",
          "height": 154
        },
        "id": "2O9hPDE4FJM2",
        "outputId": "b470cab2-7ab9-4e53-dd1c-0d21c8e2bbfe"
      },
      "source": [
        "cont[0]"
      ],
      "execution_count": 66,
      "outputs": [
        {
          "output_type": "execute_result",
          "data": {
            "application/vnd.google.colaboratory.intrinsic+json": {
              "type": "string"
            },
            "text/plain": [
              "\"World War II or the Second World War, often abbreviated as WWII or WW2, was a global war that lasted from 1939 to 1945. It involved the vast majority of the world's countries—including all the great powers—forming two opposing military alliances: the Allies and the Axis powers. In a state of total war, directly involving more than 100 million personnel from more than 30 countries, the major participants threw their entire economic, industrial, and scientific capabilities behind the war effort, blurring the distinction between civilian and military resources. Aircraft played a major role in the conflict, including the strategic bombing of population centres, and, with the development of nuclear weapons, the only two uses of such in war. World War II was the deadliest conflict in human history, resulting in 70 to 85 million fatalities, with more civilians than military personnel killed. Tens of millions of people died due to genocides (including the Holocaust), starvation, massacres, and disease.  In the wake of the war, Germany and Japan were occupied, and war crimes tribunals were conducted against German and Japanese leaders.\""
            ]
          },
          "metadata": {
            "tags": []
          },
          "execution_count": 66
        }
      ]
    },
    {
      "cell_type": "markdown",
      "metadata": {
        "id": "KFR7YSFYFPhC"
      },
      "source": [
        "We can see that the answer (70 to 85 million fatalities) is in one of the context provided. If we look deeper into why our model didn't select it"
      ]
    },
    {
      "cell_type": "code",
      "metadata": {
        "id": "-9vmaufxDrDS"
      },
      "source": [
        "model = models[2]  \n",
        "  \n",
        "if models[1]: #Encoding first context then question\n",
        "    encoding = tokenizer(cont[0], question, truncation=True, padding=True)\n",
        "else:\n",
        "    encoding = tokenizer(question, cont[0], truncation=True, padding=True)\n",
        "outputs = model[0](torch.tensor(encoding['input_ids']).unsqueeze(0).to(device),\n",
        "                      attn_masks=torch.tensor(encoding['attention_mask']).unsqueeze(0).to(device))\n",
        "out1,out2 = torch.chunk(torch.softmax(outputs.float(),dim = -2), chunks = 2 , dim = 2)"
      ],
      "execution_count": 70,
      "outputs": []
    },
    {
      "cell_type": "code",
      "metadata": {
        "colab": {
          "base_uri": "https://localhost:8080/"
        },
        "id": "dvCpgSRqFdUH",
        "outputId": "47ca372a-9818-4c47-d915-792259efe513"
      },
      "source": [
        "torch.argsort(out1.squeeze(), descending = True)"
      ],
      "execution_count": 81,
      "outputs": [
        {
          "output_type": "execute_result",
          "data": {
            "text/plain": [
              "tensor([172, 158, 160, 144, 174,  72,  70, 165, 176, 180,  13,  71, 161, 177,\n",
              "         76,  26, 162, 188, 185, 178,  78, 173,  73,   1,  74, 146,  28,  15,\n",
              "        159, 184, 175, 156, 164, 166, 149, 109, 194, 190,   6, 183, 168, 223,\n",
              "         61, 169, 171, 195,  68,   5,  11,  21, 170, 153,  10, 182,  29, 203,\n",
              "         17,  25,  20,  77, 224,  49,  19,  69,   8,  30,  24,  65, 228,  62,\n",
              "         33, 120,  63, 179,  55,  82, 145,  32, 157,  12,  81,  22, 181,   3,\n",
              "        196,  54,  16,  23,   7,  37,  34, 148, 143,  14,  66,  99, 163,  60,\n",
              "         43, 210, 132, 205, 123, 130,  79,   9, 119, 186, 151,  48,  87,   2,\n",
              "          4,  75, 141, 154,  50, 108, 129,   0,  42,  31, 200, 152,  58, 147,\n",
              "         45,  86, 128,  44, 197,  67, 121, 227, 140,  36,  84, 115,  27, 104,\n",
              "        118,  51, 135, 217,  64, 212, 136,  85, 142,  96, 229,  89, 111, 101,\n",
              "        198,  18, 112, 127, 102, 137, 124, 139, 114, 207, 216, 103, 206, 131,\n",
              "        232, 222, 122,  52,  57,  94, 110,  92, 133, 209,  38,  83, 219, 126,\n",
              "        215, 155, 116,  95, 231, 214, 113, 221,  97,  35, 202,  93,  80,  88,\n",
              "        211, 204,  59, 225, 220, 199, 230,  47, 105,  91,  90, 138,  40, 218,\n",
              "        193, 213,  41, 134,  53, 226, 107, 117,  46,  39, 150, 106,  56, 189,\n",
              "        201, 125, 187, 191, 100, 208,  98, 167, 192], device='cuda:0')"
            ]
          },
          "metadata": {
            "tags": []
          },
          "execution_count": 81
        }
      ]
    },
    {
      "cell_type": "code",
      "metadata": {
        "colab": {
          "base_uri": "https://localhost:8080/"
        },
        "id": "6UNchsiHFuBc",
        "outputId": "0c2554a5-6f74-4cea-f838-5d8758aa7a27"
      },
      "source": [
        "torch.argsort(out2.squeeze(),descending = True)"
      ],
      "execution_count": 89,
      "outputs": [
        {
          "output_type": "execute_result",
          "data": {
            "text/plain": [
              "tensor([174, 176, 161, 172, 177, 175, 162, 181, 158, 146,  73, 163, 186,  74,\n",
              "        160, 173, 194,  72,  28, 166, 170,  13, 169,  79, 171, 185, 191, 165,\n",
              "         78, 195,  26,  29,  17,   8,  70, 188, 154, 224, 182,  66, 143,  60,\n",
              "          3, 187, 108,  71, 155, 178, 159, 201, 180,  97, 109,  59,  40,  22,\n",
              "        144,  80, 192, 107,  46, 164,  52, 179,  93,   9, 142, 124,  67, 167,\n",
              "          1, 189,  49, 207, 203,  98, 205, 230, 147,  18, 151,  83,  55, 133,\n",
              "        150, 221, 183, 220, 208, 225, 116,  76,  92,  53, 168,  77, 193,  96,\n",
              "        100,  58, 125, 106,  41, 117,  47, 121,  34,  39, 134,  56, 226,  94,\n",
              "         91, 202, 213, 223, 153, 229,  95,  15,  51, 219, 138,  90,  16,  27,\n",
              "        102, 156, 113,  88,  14,  84,   4, 152,  75,  69,  57, 105,  85, 104,\n",
              "         35, 211, 204, 157, 103,  89, 209, 110, 137, 126,  86,  44,  99, 184,\n",
              "         81, 232, 222, 206, 127, 217,   6, 215, 101, 218,  38,  63,  50,  45,\n",
              "        145,   7,  36,  82, 122, 214,   0, 199, 198,  64, 190, 112,  43, 131,\n",
              "        114,  54, 200, 118, 111, 212, 227, 231,  65,   5,  62, 123, 136, 216,\n",
              "         42,   2, 139, 135,  20,  87, 128,  23, 140, 115,  48,  19,  61, 132,\n",
              "         68,  25,  37, 148, 130, 129,  31, 119,  21, 228,  12, 197,  11,  30,\n",
              "         24, 210, 141,  32, 149,  33, 120, 196,  10], device='cuda:0')"
            ]
          },
          "metadata": {
            "tags": []
          },
          "execution_count": 89
        }
      ]
    },
    {
      "cell_type": "code",
      "metadata": {
        "colab": {
          "base_uri": "https://localhost:8080/"
        },
        "id": "q_QocX7bGehC",
        "outputId": "7f423673-fab4-40a2-f78c-d49836f7acf5"
      },
      "source": [
        "out1.squeeze()[158], out2.squeeze()[162]"
      ],
      "execution_count": 91,
      "outputs": [
        {
          "output_type": "execute_result",
          "data": {
            "text/plain": [
              "(tensor(0.0249, device='cuda:0', grad_fn=<SelectBackward>),\n",
              " tensor(0.0030, device='cuda:0', grad_fn=<SelectBackward>))"
            ]
          },
          "metadata": {
            "tags": []
          },
          "execution_count": 91
        }
      ]
    },
    {
      "cell_type": "code",
      "metadata": {
        "colab": {
          "base_uri": "https://localhost:8080/"
        },
        "id": "3xKfQYvGGMNU",
        "outputId": "5a493c46-c1f0-4db5-a960-e43f071ba919"
      },
      "source": [
        "encoding.tokens()[158:162]"
      ],
      "execution_count": 88,
      "outputs": [
        {
          "output_type": "execute_result",
          "data": {
            "text/plain": [
              "['70', 'to', '85', 'million']"
            ]
          },
          "metadata": {
            "tags": []
          },
          "execution_count": 88
        }
      ]
    },
    {
      "cell_type": "markdown",
      "metadata": {
        "id": "vPcsg274Gkji"
      },
      "source": [
        "Here the fault lies purely in our model who wasn't able to correctly select the answer given a good context and attributed too low of a probability to the right spans."
      ]
    },
    {
      "cell_type": "markdown",
      "metadata": {
        "id": "-EzdUXOuCGWl"
      },
      "source": [
        "### Question with dates"
      ]
    },
    {
      "cell_type": "code",
      "metadata": {
        "id": "YUNuvAl8CNVO"
      },
      "source": [
        "question = \"When did Barack Obama become president of the US ?\"\n",
        "answers, conf, cont = prediction_onlyq(question, models[1][0], models[1][1], n =5)"
      ],
      "execution_count": 43,
      "outputs": []
    },
    {
      "cell_type": "code",
      "metadata": {
        "colab": {
          "base_uri": "https://localhost:8080/"
        },
        "id": "wRK2Nz93CR7g",
        "outputId": "e19fc2a3-e5ae-40c8-a736-ad076e2162ab"
      },
      "source": [
        "answers"
      ],
      "execution_count": 44,
      "outputs": [
        {
          "output_type": "execute_result",
          "data": {
            "text/plain": [
              "['may 27, 2016', 'june 4, 2009', 'may 27, 2016', 'may 25, 2011', '2000']"
            ]
          },
          "metadata": {
            "tags": []
          },
          "execution_count": 44
        }
      ]
    },
    {
      "cell_type": "code",
      "metadata": {
        "colab": {
          "base_uri": "https://localhost:8080/",
          "height": 69
        },
        "id": "Xpry4FoJCfYa",
        "outputId": "98340f05-e2a1-42cc-8f21-60e7f34bc0d3"
      },
      "source": [
        "cont[0]"
      ],
      "execution_count": 47,
      "outputs": [
        {
          "output_type": "execute_result",
          "data": {
            "application/vnd.google.colaboratory.intrinsic+json": {
              "type": "string"
            },
            "text/plain": [
              "'On May 27, 2016, Obama became the first sitting American president to visit Hiroshima, Japan, 71 years after the U.S. atomic bombing of Hiroshima that ended World War II. Accompanied by Japanese Prime Minister Shinzō Abe, Obama paid tribute to the victims of the bombing at the Hiroshima Peace Memorial Museum.'"
            ]
          },
          "metadata": {
            "tags": []
          },
          "execution_count": 47
        }
      ]
    },
    {
      "cell_type": "code",
      "metadata": {
        "colab": {
          "base_uri": "https://localhost:8080/"
        },
        "id": "jLs6MoSwCxW8",
        "outputId": "f56ac278-5589-4dd4-81f3-6a52344abf1e"
      },
      "source": [
        "answers, conf, cont = prediction_onlyq(question, models[3][0], models[3][1], n =5)\n",
        "answers"
      ],
      "execution_count": 51,
      "outputs": [
        {
          "output_type": "execute_result",
          "data": {
            "text/plain": [
              "['1982', '2000', 'january 20, 2017', 'may 16, 2020', '2009']"
            ]
          },
          "metadata": {
            "tags": []
          },
          "execution_count": 51
        }
      ]
    },
    {
      "cell_type": "code",
      "metadata": {
        "colab": {
          "base_uri": "https://localhost:8080/"
        },
        "id": "4Qae7NBTC4Bb",
        "outputId": "b8f39bf5-b23e-433d-b042-c77dc8738501"
      },
      "source": [
        "cont[0] , conf[0]"
      ],
      "execution_count": 54,
      "outputs": [
        {
          "output_type": "execute_result",
          "data": {
            "text/plain": [
              "(\"She lives in Bracknell, Berkshire, England. On March 22, 2009, Kezia Obama made a guest appearance on the British television show Chris Moyles' Quiz Night. Her sister, Jane, is the 'Auntie Jane' mentioned at the very start of Dreams from My Father; she telephoned Obama in the US in 1982 to tell him that his father had been killed in a car accident in Kenya.\",\n",
              " 1.9931100606918335)"
            ]
          },
          "metadata": {
            "tags": []
          },
          "execution_count": 54
        }
      ]
    },
    {
      "cell_type": "markdown",
      "metadata": {
        "id": "E-mCbR82DSJy"
      },
      "source": [
        "Our models truly struggle to handle dates, the 3rd and 4th model even print very high confidence score for the wrong answers"
      ]
    },
    {
      "cell_type": "markdown",
      "metadata": {
        "id": "Es7rZDa_G7bJ"
      },
      "source": [
        "### Question needing comparisons"
      ]
    },
    {
      "cell_type": "code",
      "metadata": {
        "id": "-1azaRX0G975"
      },
      "source": [
        "question = \"What is the tallest building in the world ?\"\n",
        "answers, conf, cont = prediction_onlyq(question, models[1][0], models[1][1], n =5)"
      ],
      "execution_count": 95,
      "outputs": []
    },
    {
      "cell_type": "code",
      "metadata": {
        "colab": {
          "base_uri": "https://localhost:8080/"
        },
        "id": "nxNn7nf2HGBc",
        "outputId": "7f0fc3f7-8f93-42bf-acfe-b284913ea36a"
      },
      "source": [
        "answers"
      ],
      "execution_count": 96,
      "outputs": [
        {
          "output_type": "execute_result",
          "data": {
            "text/plain": [
              "['one world trade center',\n",
              " 'rialto towers',\n",
              " 'the apa building',\n",
              " 'monadnock building',\n",
              " 'the manchester unity building']"
            ]
          },
          "metadata": {
            "tags": []
          },
          "execution_count": 96
        }
      ]
    },
    {
      "cell_type": "code",
      "metadata": {
        "colab": {
          "base_uri": "https://localhost:8080/",
          "height": 102
        },
        "id": "32EWbssNHRlF",
        "outputId": "7d1fd2bf-d8a6-4cb6-deb4-5285b5dd8ec1"
      },
      "source": [
        "cont[0]"
      ],
      "execution_count": 97,
      "outputs": [
        {
          "output_type": "execute_result",
          "data": {
            "application/vnd.google.colaboratory.intrinsic+json": {
              "type": "string"
            },
            "text/plain": [
              "\"The following is a list of the tallest buildings by U.S. state and territory.  Forty are in their respective state's largest city and 18 are in their state's capital city. The tallest building in the U.S. by architectural height is currently One World Trade Center in New York, which is approximately 1,776 feet (541 m)—more than the combined heights of the tallest buildings in Wyoming, Vermont, Maine, South Dakota, Montana, North Dakota, New Hampshire, and West Virginia.  Many are attributed to banks: three to JPMorgan Chase and U.S. Bancorp, and two to Wells Fargo and Bank of America.\""
            ]
          },
          "metadata": {
            "tags": []
          },
          "execution_count": 97
        }
      ]
    },
    {
      "cell_type": "code",
      "metadata": {
        "colab": {
          "base_uri": "https://localhost:8080/",
          "height": 69
        },
        "id": "PYN8Ynx1Hmhd",
        "outputId": "86084fa4-2ae9-46e5-9503-38cc6d31059e"
      },
      "source": [
        "cont[1]"
      ],
      "execution_count": 98,
      "outputs": [
        {
          "output_type": "execute_result",
          "data": {
            "application/vnd.google.colaboratory.intrinsic+json": {
              "type": "string"
            },
            "text/plain": [
              "'The central business district skyline is broken down into two distinct sections: the east and west, divided by the Swanston Street. The tallest buildings on the eastern side of the skyline are 120 Collins Street and 101 Collins Street, whilst the tallest on the western side are the Rialto Towers, 568 Collins Street, and Bourke Place.'"
            ]
          },
          "metadata": {
            "tags": []
          },
          "execution_count": 98
        }
      ]
    },
    {
      "cell_type": "code",
      "metadata": {
        "id": "UDxj5HrVHxjd"
      },
      "source": [
        "question = \"What is the tallest building in the world ?\"\n",
        "answers, conf, cont = prediction_onlyq(question, models[2][0], models[2][1], n =5)"
      ],
      "execution_count": 99,
      "outputs": []
    },
    {
      "cell_type": "code",
      "metadata": {
        "colab": {
          "base_uri": "https://localhost:8080/"
        },
        "id": "CyjaALIYH7Jt",
        "outputId": "0c57c0ee-5aa3-42f6-fdef-078685ca206e"
      },
      "source": [
        "answers"
      ],
      "execution_count": 100,
      "outputs": [
        {
          "output_type": "execute_result",
          "data": {
            "text/plain": [
              "['panorama tower',\n",
              " 'panorama tower',\n",
              " 'one bayfront plaza',\n",
              " 'australia square',\n",
              " 'washington monument']"
            ]
          },
          "metadata": {
            "tags": []
          },
          "execution_count": 100
        }
      ]
    },
    {
      "cell_type": "code",
      "metadata": {
        "colab": {
          "base_uri": "https://localhost:8080/",
          "height": 137
        },
        "id": "ra-wCOFQIC19",
        "outputId": "dbc6b4b4-ee6d-408d-bbd6-3991103e1588"
      },
      "source": [
        "cont[0]"
      ],
      "execution_count": 101,
      "outputs": [
        {
          "output_type": "execute_result",
          "data": {
            "application/vnd.google.colaboratory.intrinsic+json": {
              "type": "string"
            },
            "text/plain": [
              "'The tallest completed structure is Panorama Tower in Brickell. It reached the height taller than any other building in Miami in August 2017. The auger cast pile deep foundation system for Panorama Tower was installed by HJ Foundation, a subsidiary of Keller Group. The tallest active proposals include One Bayfront Plaza (OBP) and One Brickell City Centre (OBCC), both of which may rise over 1,000 feet (305 m). One Bayfront Plaza is a mixed-use building proposed for 100 South Biscayne Boulevard, approved for construction since 2007, and scheduled to be completed as early as 2018. Since then, it has gone through several design changes and does not have a reliable construction date. By the end of 2016, there were about ten proposals for supertall buildings in downtown and Brickell. In addition to OBCC and OPB, these included The Towers by Foster + Partners, One Virgin MiamiCentral, 300 Biscayne, Capital at Brickell (CCCC Miami), World Trade Center of the Americas, Skyrise (tower), as well as the more speculative Sky Plaza and One Fifth.'"
            ]
          },
          "metadata": {
            "tags": []
          },
          "execution_count": 101
        }
      ]
    },
    {
      "cell_type": "markdown",
      "metadata": {
        "id": "E4IzCmLJIGeS"
      },
      "source": [
        "Our models also struggle when a comparison needs to be made. In this example when asked for the tallest building in the world, they gave as an answer the tallest building in the U.S. "
      ]
    },
    {
      "cell_type": "markdown",
      "metadata": {
        "id": "9xfIrV4dIemR"
      },
      "source": [
        "### Other factoïd informations"
      ]
    },
    {
      "cell_type": "code",
      "metadata": {
        "colab": {
          "base_uri": "https://localhost:8080/"
        },
        "id": "PvudDd8qK-sf",
        "outputId": "0cec7528-25e0-492b-f6b9-0439b52eb2da"
      },
      "source": [
        "question = \"What is hypersomnia?\"\n",
        "answers, conf, cont = prediction_onlyq(question, models[0][0], models[0][1], n =5)\n",
        "answers"
      ],
      "execution_count": 119,
      "outputs": [
        {
          "output_type": "execute_result",
          "data": {
            "text/plain": [
              "['menstruation - caused',\n",
              " 'a broad category of sleep disorders',\n",
              " 'cognitive decline',\n",
              " 'excessive sleepiness at inappropriate times',\n",
              " 'more than 50 % of the pd population']"
            ]
          },
          "metadata": {
            "tags": []
          },
          "execution_count": 119
        }
      ]
    },
    {
      "cell_type": "code",
      "metadata": {
        "id": "0Y4dOG10IipV"
      },
      "source": [
        "question = \"What is hypersomnia?\"\n",
        "answers, conf, cont = prediction_onlyq(question, models[1][0], models[1][1], n =5)"
      ],
      "execution_count": 107,
      "outputs": []
    },
    {
      "cell_type": "code",
      "metadata": {
        "colab": {
          "base_uri": "https://localhost:8080/"
        },
        "id": "rZFd6BolIxXE",
        "outputId": "0f75e40e-dae7-48a4-acd3-9fc97b859bf2"
      },
      "source": [
        "answers"
      ],
      "execution_count": 108,
      "outputs": [
        {
          "output_type": "execute_result",
          "data": {
            "text/plain": [
              "['excessive sleepiness at inappropriate times',\n",
              " 'a broad category of sleep disorders',\n",
              " 'a chronic neurological disease similar to narcolepsy']"
            ]
          },
          "metadata": {
            "tags": []
          },
          "execution_count": 108
        }
      ]
    },
    {
      "cell_type": "code",
      "metadata": {
        "id": "D__aOPeDJixq"
      },
      "source": [
        "answers, conf, cont = prediction_onlyq(question, models[3][0], models[3][1], n =5)"
      ],
      "execution_count": 116,
      "outputs": []
    },
    {
      "cell_type": "code",
      "metadata": {
        "colab": {
          "base_uri": "https://localhost:8080/"
        },
        "id": "tTRX6y4nJlLQ",
        "outputId": "f3983431-614f-4e52-9e69-5001b93f90cc"
      },
      "source": [
        "answers"
      ],
      "execution_count": 117,
      "outputs": [
        {
          "output_type": "execute_result",
          "data": {
            "text/plain": [
              "['sleep disturbances',\n",
              " 'excessive appetite',\n",
              " 'sprayed through the nose',\n",
              " 'more than 50 % of the pd population',\n",
              " 'excessive sleepiness at inappropriate times']"
            ]
          },
          "metadata": {
            "tags": []
          },
          "execution_count": 117
        }
      ]
    },
    {
      "cell_type": "code",
      "metadata": {
        "colab": {
          "base_uri": "https://localhost:8080/",
          "height": 69
        },
        "id": "hkY2Sh3rKJWV",
        "outputId": "ae91fdf3-b67c-4279-f3fd-894b676beda5"
      },
      "source": [
        "cont[2]"
      ],
      "execution_count": 115,
      "outputs": [
        {
          "output_type": "execute_result",
          "data": {
            "application/vnd.google.colaboratory.intrinsic+json": {
              "type": "string"
            },
            "text/plain": [
              "'The most common sleep disorder is insomnia. Others are sleep apnea, narcolepsy and hypersomnia (excessive sleepiness at inappropriate times), sleeping sickness (disruption of sleep cycle due to infection), sleepwalking, and night terrors.  Management of sleep disturbances that are secondary to mental, medical, or substance abuse disorders should focus on the underlying conditions.'"
            ]
          },
          "metadata": {
            "tags": []
          },
          "execution_count": 115
        }
      ]
    },
    {
      "cell_type": "code",
      "metadata": {
        "colab": {
          "base_uri": "https://localhost:8080/"
        },
        "id": "UpCE4UafK32p",
        "outputId": "0976cdb6-2f67-47d9-e106-b580a7e34804"
      },
      "source": [
        "question = \"What does ntd stand for?\"\n",
        "answers, conf, cont = prediction_onlyq(question, models[1][0], models[1][1], n =5)"
      ],
      "execution_count": 137,
      "outputs": [
        {
          "output_type": "stream",
          "text": [
            "Error at page 2\n"
          ],
          "name": "stdout"
        }
      ]
    },
    {
      "cell_type": "code",
      "metadata": {
        "colab": {
          "base_uri": "https://localhost:8080/"
        },
        "id": "0raEUJPhLCIi",
        "outputId": "5a38f7b6-9b7d-4fff-a80c-8b75c5d6c65e"
      },
      "source": [
        "answers"
      ],
      "execution_count": 138,
      "outputs": [
        {
          "output_type": "execute_result",
          "data": {
            "text/plain": [
              "['neglected tropical diseases',\n",
              " 'neglected tropical diseases',\n",
              " 'report abuse',\n",
              " 'chinese taipei']"
            ]
          },
          "metadata": {
            "tags": []
          },
          "execution_count": 138
        }
      ]
    },
    {
      "cell_type": "code",
      "metadata": {
        "colab": {
          "base_uri": "https://localhost:8080/"
        },
        "id": "0fPtZ0AnLnyk",
        "outputId": "4262bf16-a0c7-40da-bac5-2e7a0d43778f"
      },
      "source": [
        "question = \"What does ntd stand for?\"\n",
        "answers, conf, cont = prediction_onlyq(question, models[0][0], models[0][1], n =5)\n",
        "answers"
      ],
      "execution_count": 139,
      "outputs": [
        {
          "output_type": "stream",
          "text": [
            "Error at page 2\n"
          ],
          "name": "stdout"
        },
        {
          "output_type": "execute_result",
          "data": {
            "text/plain": [
              "['neglected tropical diseases',\n",
              " 'neglected tropical diseases',\n",
              " 'chinese taipei',\n",
              " 'non - governmental organizations',\n",
              " 'diseases of the poor']"
            ]
          },
          "metadata": {
            "tags": []
          },
          "execution_count": 139
        }
      ]
    },
    {
      "cell_type": "code",
      "metadata": {
        "colab": {
          "base_uri": "https://localhost:8080/"
        },
        "id": "alq9eOOyMyXs",
        "outputId": "2c9021b6-a7d0-4df5-94af-911f0b28a3ff"
      },
      "source": [
        "question = \"What does ntd stand for?\"\n",
        "answers, conf, cont = prediction_onlyq(question, models[2][0], models[2][1], n =5)\n",
        "answers"
      ],
      "execution_count": 141,
      "outputs": [
        {
          "output_type": "stream",
          "text": [
            "Error at page 2\n"
          ],
          "name": "stdout"
        },
        {
          "output_type": "execute_result",
          "data": {
            "text/plain": [
              "['neglected tropical diseases',\n",
              " 'civic hackers',\n",
              " 'sustainable development goal 3',\n",
              " 'g0v',\n",
              " 'neglected tropical diseases']"
            ]
          },
          "metadata": {
            "tags": []
          },
          "execution_count": 141
        }
      ]
    },
    {
      "cell_type": "code",
      "metadata": {
        "colab": {
          "base_uri": "https://localhost:8080/"
        },
        "id": "rnbogDejMvm0",
        "outputId": "f57b5b76-79ab-4183-85ee-3198a10175ff"
      },
      "source": [
        "question = \"What does ntd stand for?\"\n",
        "answers, conf, cont = prediction_onlyq(question, models[3][0], models[3][1], n =5)\n",
        "answers"
      ],
      "execution_count": 140,
      "outputs": [
        {
          "output_type": "stream",
          "text": [
            "Error at page 2\n"
          ],
          "name": "stdout"
        },
        {
          "output_type": "execute_result",
          "data": {
            "text/plain": [
              "['neglected tropical diseases',\n",
              " 'g0v',\n",
              " 'neglected tropical diseases',\n",
              " 'international rice research institute',\n",
              " 'alliance for a green revolution in africa']"
            ]
          },
          "metadata": {
            "tags": []
          },
          "execution_count": 140
        }
      ]
    },
    {
      "cell_type": "markdown",
      "metadata": {
        "id": "XN76u80iKXh6"
      },
      "source": [
        "Our first two model seem to still perform slightly better here than the other 2. The right answer is still given among the top 5 answers of every model. Our models seems the more apt to answer these kind of questions."
      ]
    }
  ]
}